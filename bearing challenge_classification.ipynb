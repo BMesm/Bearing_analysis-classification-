{
 "cells": [
  {
   "cell_type": "code",
   "execution_count": 1,
   "metadata": {},
   "outputs": [],
   "source": [
    "# data analysis and wrangling\n",
    "import pandas as pd\n",
    "import numpy as np\n",
    "import random as rnd\n",
    "import statsmodels.api as sm\n",
    "\n",
    "# visualization\n",
    "import seaborn as sns\n",
    "import matplotlib.pyplot as plt\n",
    "from matplotlib.pyplot import style\n",
    "style.use('seaborn')\n",
    "%matplotlib inline\n",
    "\n",
    "#statistics\n",
    "import statsmodels.api as sm\n",
    "from scipy.fft import fft"
   ]
  },
  {
   "cell_type": "code",
   "execution_count": 2,
   "metadata": {},
   "outputs": [],
   "source": [
    "df_train = pd.read_csv('../challenge_classification/bearing_signals.csv', sep =\",\")\n",
    "df_test = pd.read_csv('../challenge_classification/bearing_classes.csv', sep =\";\")\n",
    "df_combine = [df_test, df_train]"
   ]
  },
  {
   "cell_type": "code",
   "execution_count": 5,
   "metadata": {},
   "outputs": [
    {
     "data": {
      "text/plain": [
       "(10265700, 13)"
      ]
     },
     "execution_count": 5,
     "metadata": {},
     "output_type": "execute_result"
    }
   ],
   "source": [
    "df_train.shape"
   ]
  },
  {
   "cell_type": "code",
   "execution_count": 7,
   "metadata": {},
   "outputs": [
    {
     "data": {
      "text/plain": [
       "Index(['experiment_id', 'bearing_1_id', 'bearing_2_id', 'timestamp', 'a1_x',\n",
       "       'a1_y', 'a1_z', 'a2_x', 'a2_y', 'a2_z', 'rpm', 'hz', 'w'],\n",
       "      dtype='object')"
      ]
     },
     "execution_count": 7,
     "metadata": {},
     "output_type": "execute_result"
    }
   ],
   "source": [
    "df_train.columns"
   ]
  },
  {
   "cell_type": "code",
   "execution_count": 10,
   "metadata": {},
   "outputs": [
    {
     "ename": "KeyError",
     "evalue": "\"['bearing_2_id' 'a2_x' 'a2_y' 'a2_z'] not found in axis\"",
     "output_type": "error",
     "traceback": [
      "\u001b[0;31m---------------------------------------------------------------------------\u001b[0m",
      "\u001b[0;31mKeyError\u001b[0m                                  Traceback (most recent call last)",
      "\u001b[0;32m<ipython-input-10-e232f43f164b>\u001b[0m in \u001b[0;36m<module>\u001b[0;34m\u001b[0m\n\u001b[1;32m      2\u001b[0m \u001b[0mdf_bearing_2_xyz\u001b[0m \u001b[0;34m=\u001b[0m \u001b[0mdf_train\u001b[0m\u001b[0;34m.\u001b[0m\u001b[0mdrop\u001b[0m\u001b[0;34m(\u001b[0m\u001b[0;34m[\u001b[0m\u001b[0;34m'bearing_1_id'\u001b[0m\u001b[0;34m,\u001b[0m\u001b[0;34m'a1_x'\u001b[0m\u001b[0;34m,\u001b[0m\u001b[0;34m'a1_y'\u001b[0m\u001b[0;34m,\u001b[0m\u001b[0;34m'a1_z'\u001b[0m\u001b[0;34m]\u001b[0m\u001b[0;34m,\u001b[0m \u001b[0maxis\u001b[0m \u001b[0;34m=\u001b[0m \u001b[0;36m1\u001b[0m\u001b[0;34m)\u001b[0m\u001b[0;34m\u001b[0m\u001b[0;34m\u001b[0m\u001b[0m\n\u001b[1;32m      3\u001b[0m \u001b[0;34m\u001b[0m\u001b[0m\n\u001b[0;32m----> 4\u001b[0;31m \u001b[0mdf_bearing_1_x\u001b[0m \u001b[0;34m=\u001b[0m \u001b[0mdf_bearing_1_xyz\u001b[0m\u001b[0;34m.\u001b[0m\u001b[0mdrop\u001b[0m\u001b[0;34m(\u001b[0m\u001b[0;34m[\u001b[0m\u001b[0;34m'bearing_2_id'\u001b[0m\u001b[0;34m,\u001b[0m\u001b[0;34m'a2_x'\u001b[0m\u001b[0;34m,\u001b[0m\u001b[0;34m'a2_y'\u001b[0m\u001b[0;34m,\u001b[0m\u001b[0;34m'a2_z'\u001b[0m\u001b[0;34m,\u001b[0m\u001b[0;34m'a1_y'\u001b[0m\u001b[0;34m,\u001b[0m\u001b[0;34m'a1_z'\u001b[0m\u001b[0;34m]\u001b[0m\u001b[0;34m,\u001b[0m \u001b[0maxis\u001b[0m \u001b[0;34m=\u001b[0m \u001b[0;36m1\u001b[0m\u001b[0;34m)\u001b[0m\u001b[0;34m\u001b[0m\u001b[0;34m\u001b[0m\u001b[0m\n\u001b[0m\u001b[1;32m      5\u001b[0m \u001b[0mdf_bearing_1_y\u001b[0m \u001b[0;34m=\u001b[0m \u001b[0mdf_bearing_1_xyz\u001b[0m\u001b[0;34m.\u001b[0m\u001b[0mdrop\u001b[0m\u001b[0;34m(\u001b[0m\u001b[0;34m[\u001b[0m\u001b[0;34m'bearing_2_id'\u001b[0m\u001b[0;34m,\u001b[0m\u001b[0;34m'a2_x'\u001b[0m\u001b[0;34m,\u001b[0m\u001b[0;34m'a2_y'\u001b[0m\u001b[0;34m,\u001b[0m\u001b[0;34m'a2_z'\u001b[0m\u001b[0;34m,\u001b[0m\u001b[0;34m'a1_x'\u001b[0m\u001b[0;34m,\u001b[0m\u001b[0;34m'a1_z'\u001b[0m\u001b[0;34m]\u001b[0m\u001b[0;34m,\u001b[0m \u001b[0maxis\u001b[0m \u001b[0;34m=\u001b[0m \u001b[0;36m1\u001b[0m\u001b[0;34m)\u001b[0m\u001b[0;34m\u001b[0m\u001b[0;34m\u001b[0m\u001b[0m\n\u001b[1;32m      6\u001b[0m \u001b[0mdf_bearing_1_z\u001b[0m \u001b[0;34m=\u001b[0m \u001b[0mdf_bearing_1_xyz\u001b[0m\u001b[0;34m.\u001b[0m\u001b[0mdrop\u001b[0m\u001b[0;34m(\u001b[0m\u001b[0;34m[\u001b[0m\u001b[0;34m'bearing_2_id'\u001b[0m\u001b[0;34m,\u001b[0m\u001b[0;34m'a2_x'\u001b[0m\u001b[0;34m,\u001b[0m\u001b[0;34m'a2_y'\u001b[0m\u001b[0;34m,\u001b[0m\u001b[0;34m'a2_z'\u001b[0m\u001b[0;34m,\u001b[0m\u001b[0;34m'a1_x'\u001b[0m\u001b[0;34m,\u001b[0m\u001b[0;34m'a1_y'\u001b[0m\u001b[0;34m]\u001b[0m\u001b[0;34m,\u001b[0m \u001b[0maxis\u001b[0m \u001b[0;34m=\u001b[0m \u001b[0;36m1\u001b[0m\u001b[0;34m)\u001b[0m\u001b[0;34m\u001b[0m\u001b[0;34m\u001b[0m\u001b[0m\n",
      "\u001b[0;32m~/opt/anaconda3/lib/python3.8/site-packages/pandas/core/frame.py\u001b[0m in \u001b[0;36mdrop\u001b[0;34m(self, labels, axis, index, columns, level, inplace, errors)\u001b[0m\n\u001b[1;32m   4161\u001b[0m                 \u001b[0mweight\u001b[0m  \u001b[0;36m1.0\u001b[0m     \u001b[0;36m0.8\u001b[0m\u001b[0;34m\u001b[0m\u001b[0;34m\u001b[0m\u001b[0m\n\u001b[1;32m   4162\u001b[0m         \"\"\"\n\u001b[0;32m-> 4163\u001b[0;31m         return super().drop(\n\u001b[0m\u001b[1;32m   4164\u001b[0m             \u001b[0mlabels\u001b[0m\u001b[0;34m=\u001b[0m\u001b[0mlabels\u001b[0m\u001b[0;34m,\u001b[0m\u001b[0;34m\u001b[0m\u001b[0;34m\u001b[0m\u001b[0m\n\u001b[1;32m   4165\u001b[0m             \u001b[0maxis\u001b[0m\u001b[0;34m=\u001b[0m\u001b[0maxis\u001b[0m\u001b[0;34m,\u001b[0m\u001b[0;34m\u001b[0m\u001b[0;34m\u001b[0m\u001b[0m\n",
      "\u001b[0;32m~/opt/anaconda3/lib/python3.8/site-packages/pandas/core/generic.py\u001b[0m in \u001b[0;36mdrop\u001b[0;34m(self, labels, axis, index, columns, level, inplace, errors)\u001b[0m\n\u001b[1;32m   3885\u001b[0m         \u001b[0;32mfor\u001b[0m \u001b[0maxis\u001b[0m\u001b[0;34m,\u001b[0m \u001b[0mlabels\u001b[0m \u001b[0;32min\u001b[0m \u001b[0maxes\u001b[0m\u001b[0;34m.\u001b[0m\u001b[0mitems\u001b[0m\u001b[0;34m(\u001b[0m\u001b[0;34m)\u001b[0m\u001b[0;34m:\u001b[0m\u001b[0;34m\u001b[0m\u001b[0;34m\u001b[0m\u001b[0m\n\u001b[1;32m   3886\u001b[0m             \u001b[0;32mif\u001b[0m \u001b[0mlabels\u001b[0m \u001b[0;32mis\u001b[0m \u001b[0;32mnot\u001b[0m \u001b[0;32mNone\u001b[0m\u001b[0;34m:\u001b[0m\u001b[0;34m\u001b[0m\u001b[0;34m\u001b[0m\u001b[0m\n\u001b[0;32m-> 3887\u001b[0;31m                 \u001b[0mobj\u001b[0m \u001b[0;34m=\u001b[0m \u001b[0mobj\u001b[0m\u001b[0;34m.\u001b[0m\u001b[0m_drop_axis\u001b[0m\u001b[0;34m(\u001b[0m\u001b[0mlabels\u001b[0m\u001b[0;34m,\u001b[0m \u001b[0maxis\u001b[0m\u001b[0;34m,\u001b[0m \u001b[0mlevel\u001b[0m\u001b[0;34m=\u001b[0m\u001b[0mlevel\u001b[0m\u001b[0;34m,\u001b[0m \u001b[0merrors\u001b[0m\u001b[0;34m=\u001b[0m\u001b[0merrors\u001b[0m\u001b[0;34m)\u001b[0m\u001b[0;34m\u001b[0m\u001b[0;34m\u001b[0m\u001b[0m\n\u001b[0m\u001b[1;32m   3888\u001b[0m \u001b[0;34m\u001b[0m\u001b[0m\n\u001b[1;32m   3889\u001b[0m         \u001b[0;32mif\u001b[0m \u001b[0minplace\u001b[0m\u001b[0;34m:\u001b[0m\u001b[0;34m\u001b[0m\u001b[0;34m\u001b[0m\u001b[0m\n",
      "\u001b[0;32m~/opt/anaconda3/lib/python3.8/site-packages/pandas/core/generic.py\u001b[0m in \u001b[0;36m_drop_axis\u001b[0;34m(self, labels, axis, level, errors)\u001b[0m\n\u001b[1;32m   3919\u001b[0m                 \u001b[0mnew_axis\u001b[0m \u001b[0;34m=\u001b[0m \u001b[0maxis\u001b[0m\u001b[0;34m.\u001b[0m\u001b[0mdrop\u001b[0m\u001b[0;34m(\u001b[0m\u001b[0mlabels\u001b[0m\u001b[0;34m,\u001b[0m \u001b[0mlevel\u001b[0m\u001b[0;34m=\u001b[0m\u001b[0mlevel\u001b[0m\u001b[0;34m,\u001b[0m \u001b[0merrors\u001b[0m\u001b[0;34m=\u001b[0m\u001b[0merrors\u001b[0m\u001b[0;34m)\u001b[0m\u001b[0;34m\u001b[0m\u001b[0;34m\u001b[0m\u001b[0m\n\u001b[1;32m   3920\u001b[0m             \u001b[0;32melse\u001b[0m\u001b[0;34m:\u001b[0m\u001b[0;34m\u001b[0m\u001b[0;34m\u001b[0m\u001b[0m\n\u001b[0;32m-> 3921\u001b[0;31m                 \u001b[0mnew_axis\u001b[0m \u001b[0;34m=\u001b[0m \u001b[0maxis\u001b[0m\u001b[0;34m.\u001b[0m\u001b[0mdrop\u001b[0m\u001b[0;34m(\u001b[0m\u001b[0mlabels\u001b[0m\u001b[0;34m,\u001b[0m \u001b[0merrors\u001b[0m\u001b[0;34m=\u001b[0m\u001b[0merrors\u001b[0m\u001b[0;34m)\u001b[0m\u001b[0;34m\u001b[0m\u001b[0;34m\u001b[0m\u001b[0m\n\u001b[0m\u001b[1;32m   3922\u001b[0m             \u001b[0mresult\u001b[0m \u001b[0;34m=\u001b[0m \u001b[0mself\u001b[0m\u001b[0;34m.\u001b[0m\u001b[0mreindex\u001b[0m\u001b[0;34m(\u001b[0m\u001b[0;34m**\u001b[0m\u001b[0;34m{\u001b[0m\u001b[0maxis_name\u001b[0m\u001b[0;34m:\u001b[0m \u001b[0mnew_axis\u001b[0m\u001b[0;34m}\u001b[0m\u001b[0;34m)\u001b[0m\u001b[0;34m\u001b[0m\u001b[0;34m\u001b[0m\u001b[0m\n\u001b[1;32m   3923\u001b[0m \u001b[0;34m\u001b[0m\u001b[0m\n",
      "\u001b[0;32m~/opt/anaconda3/lib/python3.8/site-packages/pandas/core/indexes/base.py\u001b[0m in \u001b[0;36mdrop\u001b[0;34m(self, labels, errors)\u001b[0m\n\u001b[1;32m   5280\u001b[0m         \u001b[0;32mif\u001b[0m \u001b[0mmask\u001b[0m\u001b[0;34m.\u001b[0m\u001b[0many\u001b[0m\u001b[0;34m(\u001b[0m\u001b[0;34m)\u001b[0m\u001b[0;34m:\u001b[0m\u001b[0;34m\u001b[0m\u001b[0;34m\u001b[0m\u001b[0m\n\u001b[1;32m   5281\u001b[0m             \u001b[0;32mif\u001b[0m \u001b[0merrors\u001b[0m \u001b[0;34m!=\u001b[0m \u001b[0;34m\"ignore\"\u001b[0m\u001b[0;34m:\u001b[0m\u001b[0;34m\u001b[0m\u001b[0;34m\u001b[0m\u001b[0m\n\u001b[0;32m-> 5282\u001b[0;31m                 \u001b[0;32mraise\u001b[0m \u001b[0mKeyError\u001b[0m\u001b[0;34m(\u001b[0m\u001b[0;34mf\"{labels[mask]} not found in axis\"\u001b[0m\u001b[0;34m)\u001b[0m\u001b[0;34m\u001b[0m\u001b[0;34m\u001b[0m\u001b[0m\n\u001b[0m\u001b[1;32m   5283\u001b[0m             \u001b[0mindexer\u001b[0m \u001b[0;34m=\u001b[0m \u001b[0mindexer\u001b[0m\u001b[0;34m[\u001b[0m\u001b[0;34m~\u001b[0m\u001b[0mmask\u001b[0m\u001b[0;34m]\u001b[0m\u001b[0;34m\u001b[0m\u001b[0;34m\u001b[0m\u001b[0m\n\u001b[1;32m   5284\u001b[0m         \u001b[0;32mreturn\u001b[0m \u001b[0mself\u001b[0m\u001b[0;34m.\u001b[0m\u001b[0mdelete\u001b[0m\u001b[0;34m(\u001b[0m\u001b[0mindexer\u001b[0m\u001b[0;34m)\u001b[0m\u001b[0;34m\u001b[0m\u001b[0;34m\u001b[0m\u001b[0m\n",
      "\u001b[0;31mKeyError\u001b[0m: \"['bearing_2_id' 'a2_x' 'a2_y' 'a2_z'] not found in axis\""
     ]
    }
   ],
   "source": [
    "df_bearing_1_xyz = df_train.drop(['bearing_2_id','a2_x','a2_y','a2_z'], axis = 1)\n",
    "df_bearing_2_xyz = df_train.drop(['bearing_1_id','a1_x','a1_y','a1_z'], axis = 1)\n",
    "\n",
    "df_bearing_1_x = df_bearing_1_xyz.drop(['bearing_2_id','a2_x','a2_y','a2_z','a1_y','a1_z'], axis = 1)\n",
    "df_bearing_1_y = df_bearing_1_xyz.drop(['bearing_2_id','a2_x','a2_y','a2_z','a1_x','a1_z'], axis = 1)\n",
    "df_bearing_1_z = df_bearing_1_xyz.drop(['bearing_2_id','a2_x','a2_y','a2_z','a1_x','a1_y'], axis = 1)\n",
    "\n",
    "df_bearing_2_x = df_bearing_2_xyz.drop(['bearing_1_id','a1_x','a1_y','a1_z','a2_y','a2_z'], axis = 1)\n",
    "df_bearing_2_y = df_bearing_2_xyz.drop(['bearing_1_id','a1_x','a1_y','a1_z','a2_x','a2_z'], axis = 1)\n",
    "df_bearing_2_z = df_bearing_2_xyz.drop(['bearing_1_id','a1_x','a1_y','a1_z','a2_x','a2_y'], axis = 1)"
   ]
  },
  {
   "cell_type": "code",
   "execution_count": null,
   "metadata": {},
   "outputs": [],
   "source": []
  },
  {
   "cell_type": "code",
   "execution_count": null,
   "metadata": {},
   "outputs": [],
   "source": [
    "df_bearing_1_xyz.info()"
   ]
  },
  {
   "cell_type": "code",
   "execution_count": 3,
   "metadata": {},
   "outputs": [
    {
     "data": {
      "text/html": [
       "<div>\n",
       "<style scoped>\n",
       "    .dataframe tbody tr th:only-of-type {\n",
       "        vertical-align: middle;\n",
       "    }\n",
       "\n",
       "    .dataframe tbody tr th {\n",
       "        vertical-align: top;\n",
       "    }\n",
       "\n",
       "    .dataframe thead th {\n",
       "        text-align: right;\n",
       "    }\n",
       "</style>\n",
       "<table border=\"1\" class=\"dataframe\">\n",
       "  <thead>\n",
       "    <tr style=\"text-align: right;\">\n",
       "      <th></th>\n",
       "      <th>bearing_1_id</th>\n",
       "      <th>bearing_2_id</th>\n",
       "      <th>timestamp</th>\n",
       "      <th>a1_x</th>\n",
       "      <th>a1_y</th>\n",
       "      <th>a1_z</th>\n",
       "      <th>a2_x</th>\n",
       "      <th>a2_y</th>\n",
       "      <th>a2_z</th>\n",
       "      <th>rpm</th>\n",
       "      <th>hz</th>\n",
       "      <th>w</th>\n",
       "    </tr>\n",
       "  </thead>\n",
       "  <tbody>\n",
       "    <tr>\n",
       "      <th>0</th>\n",
       "      <td>0</td>\n",
       "      <td>1</td>\n",
       "      <td>0.000000</td>\n",
       "      <td>0.113269</td>\n",
       "      <td>0.149706</td>\n",
       "      <td>-0.110275</td>\n",
       "      <td>-0.186030</td>\n",
       "      <td>0.194450</td>\n",
       "      <td>0.454299</td>\n",
       "      <td>0.000000</td>\n",
       "      <td>0.000000</td>\n",
       "      <td>0.000006</td>\n",
       "    </tr>\n",
       "    <tr>\n",
       "      <th>1</th>\n",
       "      <td>0</td>\n",
       "      <td>1</td>\n",
       "      <td>0.000333</td>\n",
       "      <td>-0.367713</td>\n",
       "      <td>-0.228832</td>\n",
       "      <td>0.177821</td>\n",
       "      <td>0.285992</td>\n",
       "      <td>0.002226</td>\n",
       "      <td>-0.043930</td>\n",
       "      <td>0.000000</td>\n",
       "      <td>0.000000</td>\n",
       "      <td>0.000243</td>\n",
       "    </tr>\n",
       "    <tr>\n",
       "      <th>2</th>\n",
       "      <td>0</td>\n",
       "      <td>1</td>\n",
       "      <td>0.000667</td>\n",
       "      <td>0.113269</td>\n",
       "      <td>0.149706</td>\n",
       "      <td>-0.398371</td>\n",
       "      <td>-0.091625</td>\n",
       "      <td>0.002226</td>\n",
       "      <td>0.454299</td>\n",
       "      <td>0.000000</td>\n",
       "      <td>0.000000</td>\n",
       "      <td>0.000369</td>\n",
       "    </tr>\n",
       "    <tr>\n",
       "      <th>3</th>\n",
       "      <td>0</td>\n",
       "      <td>1</td>\n",
       "      <td>0.001000</td>\n",
       "      <td>-0.175320</td>\n",
       "      <td>-0.228832</td>\n",
       "      <td>-0.110275</td>\n",
       "      <td>0.285992</td>\n",
       "      <td>0.002226</td>\n",
       "      <td>0.255007</td>\n",
       "      <td>0.000000</td>\n",
       "      <td>0.000000</td>\n",
       "      <td>0.000520</td>\n",
       "    </tr>\n",
       "    <tr>\n",
       "      <th>4</th>\n",
       "      <td>0</td>\n",
       "      <td>1</td>\n",
       "      <td>0.001333</td>\n",
       "      <td>-0.079124</td>\n",
       "      <td>0.055072</td>\n",
       "      <td>-0.110275</td>\n",
       "      <td>0.191588</td>\n",
       "      <td>0.002226</td>\n",
       "      <td>0.255007</td>\n",
       "      <td>0.000000</td>\n",
       "      <td>0.000000</td>\n",
       "      <td>0.000175</td>\n",
       "    </tr>\n",
       "    <tr>\n",
       "      <th>...</th>\n",
       "      <td>...</td>\n",
       "      <td>...</td>\n",
       "      <td>...</td>\n",
       "      <td>...</td>\n",
       "      <td>...</td>\n",
       "      <td>...</td>\n",
       "      <td>...</td>\n",
       "      <td>...</td>\n",
       "      <td>...</td>\n",
       "      <td>...</td>\n",
       "      <td>...</td>\n",
       "      <td>...</td>\n",
       "    </tr>\n",
       "    <tr>\n",
       "      <th>10265695</th>\n",
       "      <td>0</td>\n",
       "      <td>112</td>\n",
       "      <td>32.098333</td>\n",
       "      <td>-0.367713</td>\n",
       "      <td>0.149706</td>\n",
       "      <td>0.465916</td>\n",
       "      <td>-0.469243</td>\n",
       "      <td>0.194450</td>\n",
       "      <td>0.553945</td>\n",
       "      <td>178.748759</td>\n",
       "      <td>2.979146</td>\n",
       "      <td>0.019412</td>\n",
       "    </tr>\n",
       "    <tr>\n",
       "      <th>10265696</th>\n",
       "      <td>0</td>\n",
       "      <td>112</td>\n",
       "      <td>32.098667</td>\n",
       "      <td>-0.463909</td>\n",
       "      <td>0.338975</td>\n",
       "      <td>0.561948</td>\n",
       "      <td>-0.469243</td>\n",
       "      <td>0.194450</td>\n",
       "      <td>0.354653</td>\n",
       "      <td>178.748759</td>\n",
       "      <td>2.979146</td>\n",
       "      <td>0.032027</td>\n",
       "    </tr>\n",
       "    <tr>\n",
       "      <th>10265697</th>\n",
       "      <td>0</td>\n",
       "      <td>112</td>\n",
       "      <td>32.099000</td>\n",
       "      <td>0.017072</td>\n",
       "      <td>0.433610</td>\n",
       "      <td>0.369884</td>\n",
       "      <td>-0.563647</td>\n",
       "      <td>-0.093886</td>\n",
       "      <td>0.155361</td>\n",
       "      <td>178.748759</td>\n",
       "      <td>2.979146</td>\n",
       "      <td>0.012211</td>\n",
       "    </tr>\n",
       "    <tr>\n",
       "      <th>10265698</th>\n",
       "      <td>0</td>\n",
       "      <td>112</td>\n",
       "      <td>32.099333</td>\n",
       "      <td>0.209465</td>\n",
       "      <td>0.244341</td>\n",
       "      <td>0.273852</td>\n",
       "      <td>-0.374838</td>\n",
       "      <td>0.194450</td>\n",
       "      <td>0.155361</td>\n",
       "      <td>178.748759</td>\n",
       "      <td>2.979146</td>\n",
       "      <td>0.000764</td>\n",
       "    </tr>\n",
       "    <tr>\n",
       "      <th>10265699</th>\n",
       "      <td>0</td>\n",
       "      <td>112</td>\n",
       "      <td>32.099667</td>\n",
       "      <td>0.498054</td>\n",
       "      <td>0.244341</td>\n",
       "      <td>0.177821</td>\n",
       "      <td>-0.186030</td>\n",
       "      <td>0.290562</td>\n",
       "      <td>-0.243222</td>\n",
       "      <td>178.748759</td>\n",
       "      <td>2.979146</td>\n",
       "      <td>0.002794</td>\n",
       "    </tr>\n",
       "  </tbody>\n",
       "</table>\n",
       "<p>10265700 rows × 12 columns</p>\n",
       "</div>"
      ],
      "text/plain": [
       "          bearing_1_id  bearing_2_id  timestamp      a1_x      a1_y      a1_z  \\\n",
       "0                    0             1   0.000000  0.113269  0.149706 -0.110275   \n",
       "1                    0             1   0.000333 -0.367713 -0.228832  0.177821   \n",
       "2                    0             1   0.000667  0.113269  0.149706 -0.398371   \n",
       "3                    0             1   0.001000 -0.175320 -0.228832 -0.110275   \n",
       "4                    0             1   0.001333 -0.079124  0.055072 -0.110275   \n",
       "...                ...           ...        ...       ...       ...       ...   \n",
       "10265695             0           112  32.098333 -0.367713  0.149706  0.465916   \n",
       "10265696             0           112  32.098667 -0.463909  0.338975  0.561948   \n",
       "10265697             0           112  32.099000  0.017072  0.433610  0.369884   \n",
       "10265698             0           112  32.099333  0.209465  0.244341  0.273852   \n",
       "10265699             0           112  32.099667  0.498054  0.244341  0.177821   \n",
       "\n",
       "              a2_x      a2_y      a2_z         rpm        hz         w  \n",
       "0        -0.186030  0.194450  0.454299    0.000000  0.000000  0.000006  \n",
       "1         0.285992  0.002226 -0.043930    0.000000  0.000000  0.000243  \n",
       "2        -0.091625  0.002226  0.454299    0.000000  0.000000  0.000369  \n",
       "3         0.285992  0.002226  0.255007    0.000000  0.000000  0.000520  \n",
       "4         0.191588  0.002226  0.255007    0.000000  0.000000  0.000175  \n",
       "...            ...       ...       ...         ...       ...       ...  \n",
       "10265695 -0.469243  0.194450  0.553945  178.748759  2.979146  0.019412  \n",
       "10265696 -0.469243  0.194450  0.354653  178.748759  2.979146  0.032027  \n",
       "10265697 -0.563647 -0.093886  0.155361  178.748759  2.979146  0.012211  \n",
       "10265698 -0.374838  0.194450  0.155361  178.748759  2.979146  0.000764  \n",
       "10265699 -0.186030  0.290562 -0.243222  178.748759  2.979146  0.002794  \n",
       "\n",
       "[10265700 rows x 12 columns]"
      ]
     },
     "execution_count": 3,
     "metadata": {},
     "output_type": "execute_result"
    }
   ],
   "source": [
    "df_freq = df_train.drop(['experiment_id'], axis = 1)\n",
    "df_freq"
   ]
  },
  {
   "cell_type": "code",
   "execution_count": 4,
   "metadata": {},
   "outputs": [],
   "source": [
    "df_freq = fft(df_freq)"
   ]
  },
  {
   "cell_type": "code",
   "execution_count": 5,
   "metadata": {},
   "outputs": [],
   "source": [
    "df_freq = pd.DataFrame(df_freq)"
   ]
  },
  {
   "cell_type": "code",
   "execution_count": 9,
   "metadata": {},
   "outputs": [
    {
     "data": {
      "text/html": [
       "<div>\n",
       "<style scoped>\n",
       "    .dataframe tbody tr th:only-of-type {\n",
       "        vertical-align: middle;\n",
       "    }\n",
       "\n",
       "    .dataframe tbody tr th {\n",
       "        vertical-align: top;\n",
       "    }\n",
       "\n",
       "    .dataframe thead th {\n",
       "        text-align: right;\n",
       "    }\n",
       "</style>\n",
       "<table border=\"1\" class=\"dataframe\">\n",
       "  <thead>\n",
       "    <tr style=\"text-align: right;\">\n",
       "      <th></th>\n",
       "      <th>0</th>\n",
       "      <th>1</th>\n",
       "      <th>2</th>\n",
       "      <th>3</th>\n",
       "      <th>4</th>\n",
       "      <th>5</th>\n",
       "      <th>6</th>\n",
       "      <th>7</th>\n",
       "      <th>8</th>\n",
       "      <th>9</th>\n",
       "      <th>10</th>\n",
       "      <th>11</th>\n",
       "    </tr>\n",
       "  </thead>\n",
       "  <tbody>\n",
       "    <tr>\n",
       "      <th>0</th>\n",
       "      <td>0.000000e+00+0.000000e+00j</td>\n",
       "      <td>0.000070+0.000000j</td>\n",
       "      <td>-1.110223e-16+0.000000e+00j</td>\n",
       "      <td>-8.881784e-16-4.440892e-16j</td>\n",
       "      <td>5.451588+0.000000j</td>\n",
       "      <td>2.333401+0.000000j</td>\n",
       "      <td>-2.232356-0.000000j</td>\n",
       "      <td>-1.323302+0.000000j</td>\n",
       "      <td>1.796475+0.000000j</td>\n",
       "      <td>1.359223+0.000000j</td>\n",
       "      <td>-2.220446e-16+0.000000e+00j</td>\n",
       "      <td>12.000000+0.000000j</td>\n",
       "    </tr>\n",
       "    <tr>\n",
       "      <th>1</th>\n",
       "      <td>-2.220446e-16+0.000000e+00j</td>\n",
       "      <td>0.002920+0.000000j</td>\n",
       "      <td>4.440892e-16+0.000000e+00j</td>\n",
       "      <td>0.000000e+00-4.440892e-16j</td>\n",
       "      <td>-0.527165+0.000000j</td>\n",
       "      <td>0.026716+0.000000j</td>\n",
       "      <td>3.431902-0.000000j</td>\n",
       "      <td>2.133847+0.000000j</td>\n",
       "      <td>-2.745981+0.000000j</td>\n",
       "      <td>-4.412555+0.000000j</td>\n",
       "      <td>4.000000e-03+0.000000e+00j</td>\n",
       "      <td>12.000000-0.000000j</td>\n",
       "    </tr>\n",
       "    <tr>\n",
       "      <th>2</th>\n",
       "      <td>4.440892e-16+0.000000e+00j</td>\n",
       "      <td>0.004424+0.000000j</td>\n",
       "      <td>-2.775558e-16+0.000000e+00j</td>\n",
       "      <td>0.000000e+00-8.881784e-16j</td>\n",
       "      <td>5.451588+0.000000j</td>\n",
       "      <td>0.026716+0.000000j</td>\n",
       "      <td>-1.099504-0.000000j</td>\n",
       "      <td>-4.780451+0.000000j</td>\n",
       "      <td>1.796475+0.000000j</td>\n",
       "      <td>1.359223+0.000000j</td>\n",
       "      <td>8.000000e-03+0.000000e+00j</td>\n",
       "      <td>12.000000+0.000000j</td>\n",
       "    </tr>\n",
       "    <tr>\n",
       "      <th>3</th>\n",
       "      <td>-1.110223e-16+0.000000e+00j</td>\n",
       "      <td>0.006240+0.000000j</td>\n",
       "      <td>2.220446e-16+0.000000e+00j</td>\n",
       "      <td>-4.440892e-16-4.440892e-16j</td>\n",
       "      <td>3.060087+0.000000j</td>\n",
       "      <td>0.026716+0.000000j</td>\n",
       "      <td>3.431902-0.000000j</td>\n",
       "      <td>-1.323302+0.000000j</td>\n",
       "      <td>-2.745981+0.000000j</td>\n",
       "      <td>-2.103844+0.000000j</td>\n",
       "      <td>1.200000e-02+0.000000e+00j</td>\n",
       "      <td>12.000000+0.000000j</td>\n",
       "    </tr>\n",
       "    <tr>\n",
       "      <th>4</th>\n",
       "      <td>2.220446e-16+0.000000e+00j</td>\n",
       "      <td>0.002099+0.000000j</td>\n",
       "      <td>-1.110223e-16+0.000000e+00j</td>\n",
       "      <td>-4.440892e-16-4.440892e-16j</td>\n",
       "      <td>3.060087+0.000000j</td>\n",
       "      <td>0.026716+0.000000j</td>\n",
       "      <td>2.299051-0.000000j</td>\n",
       "      <td>-1.323302+0.000000j</td>\n",
       "      <td>0.660861+0.000000j</td>\n",
       "      <td>-0.949488+0.000000j</td>\n",
       "      <td>1.600000e-02+0.000000e+00j</td>\n",
       "      <td>12.000000+0.000000j</td>\n",
       "    </tr>\n",
       "  </tbody>\n",
       "</table>\n",
       "</div>"
      ],
      "text/plain": [
       "                           0                   1                           2   \\\n",
       "0  0.000000e+00+0.000000e+00j  0.000070+0.000000j -1.110223e-16+0.000000e+00j   \n",
       "1 -2.220446e-16+0.000000e+00j  0.002920+0.000000j  4.440892e-16+0.000000e+00j   \n",
       "2  4.440892e-16+0.000000e+00j  0.004424+0.000000j -2.775558e-16+0.000000e+00j   \n",
       "3 -1.110223e-16+0.000000e+00j  0.006240+0.000000j  2.220446e-16+0.000000e+00j   \n",
       "4  2.220446e-16+0.000000e+00j  0.002099+0.000000j -1.110223e-16+0.000000e+00j   \n",
       "\n",
       "                           3                   4                   5   \\\n",
       "0 -8.881784e-16-4.440892e-16j  5.451588+0.000000j  2.333401+0.000000j   \n",
       "1  0.000000e+00-4.440892e-16j -0.527165+0.000000j  0.026716+0.000000j   \n",
       "2  0.000000e+00-8.881784e-16j  5.451588+0.000000j  0.026716+0.000000j   \n",
       "3 -4.440892e-16-4.440892e-16j  3.060087+0.000000j  0.026716+0.000000j   \n",
       "4 -4.440892e-16-4.440892e-16j  3.060087+0.000000j  0.026716+0.000000j   \n",
       "\n",
       "                   6                   7                   8   \\\n",
       "0 -2.232356-0.000000j -1.323302+0.000000j  1.796475+0.000000j   \n",
       "1  3.431902-0.000000j  2.133847+0.000000j -2.745981+0.000000j   \n",
       "2 -1.099504-0.000000j -4.780451+0.000000j  1.796475+0.000000j   \n",
       "3  3.431902-0.000000j -1.323302+0.000000j -2.745981+0.000000j   \n",
       "4  2.299051-0.000000j -1.323302+0.000000j  0.660861+0.000000j   \n",
       "\n",
       "                   9                           10                   11  \n",
       "0  1.359223+0.000000j -2.220446e-16+0.000000e+00j  12.000000+0.000000j  \n",
       "1 -4.412555+0.000000j  4.000000e-03+0.000000e+00j  12.000000-0.000000j  \n",
       "2  1.359223+0.000000j  8.000000e-03+0.000000e+00j  12.000000+0.000000j  \n",
       "3 -2.103844+0.000000j  1.200000e-02+0.000000e+00j  12.000000+0.000000j  \n",
       "4 -0.949488+0.000000j  1.600000e-02+0.000000e+00j  12.000000+0.000000j  "
      ]
     },
     "execution_count": 9,
     "metadata": {},
     "output_type": "execute_result"
    }
   ],
   "source": [
    "df_freq.head()"
   ]
  },
  {
   "cell_type": "code",
   "execution_count": 6,
   "metadata": {},
   "outputs": [],
   "source": [
    "df_freq['experiment_id'] = df_train['experiment_id']"
   ]
  },
  {
   "cell_type": "code",
   "execution_count": 11,
   "metadata": {},
   "outputs": [
    {
     "data": {
      "text/html": [
       "<div>\n",
       "<style scoped>\n",
       "    .dataframe tbody tr th:only-of-type {\n",
       "        vertical-align: middle;\n",
       "    }\n",
       "\n",
       "    .dataframe tbody tr th {\n",
       "        vertical-align: top;\n",
       "    }\n",
       "\n",
       "    .dataframe thead th {\n",
       "        text-align: right;\n",
       "    }\n",
       "</style>\n",
       "<table border=\"1\" class=\"dataframe\">\n",
       "  <thead>\n",
       "    <tr style=\"text-align: right;\">\n",
       "      <th></th>\n",
       "      <th>0</th>\n",
       "      <th>1</th>\n",
       "      <th>2</th>\n",
       "      <th>3</th>\n",
       "      <th>4</th>\n",
       "      <th>5</th>\n",
       "      <th>6</th>\n",
       "      <th>7</th>\n",
       "      <th>8</th>\n",
       "      <th>9</th>\n",
       "      <th>10</th>\n",
       "      <th>11</th>\n",
       "      <th>experiment_id</th>\n",
       "    </tr>\n",
       "  </thead>\n",
       "  <tbody>\n",
       "    <tr>\n",
       "      <th>0</th>\n",
       "      <td>0.000000e+00+0.000000e+00j</td>\n",
       "      <td>0.000070+0.000000j</td>\n",
       "      <td>-1.110223e-16+0.000000e+00j</td>\n",
       "      <td>-8.881784e-16-4.440892e-16j</td>\n",
       "      <td>5.451588+0.000000j</td>\n",
       "      <td>2.333401+0.000000j</td>\n",
       "      <td>-2.232356-0.000000j</td>\n",
       "      <td>-1.323302+0.000000j</td>\n",
       "      <td>1.796475+0.000000j</td>\n",
       "      <td>1.359223+0.000000j</td>\n",
       "      <td>-2.220446e-16+0.000000e+00j</td>\n",
       "      <td>12.000000+0.000000j</td>\n",
       "      <td>1</td>\n",
       "    </tr>\n",
       "    <tr>\n",
       "      <th>1</th>\n",
       "      <td>-2.220446e-16+0.000000e+00j</td>\n",
       "      <td>0.002920+0.000000j</td>\n",
       "      <td>4.440892e-16+0.000000e+00j</td>\n",
       "      <td>0.000000e+00-4.440892e-16j</td>\n",
       "      <td>-0.527165+0.000000j</td>\n",
       "      <td>0.026716+0.000000j</td>\n",
       "      <td>3.431902-0.000000j</td>\n",
       "      <td>2.133847+0.000000j</td>\n",
       "      <td>-2.745981+0.000000j</td>\n",
       "      <td>-4.412555+0.000000j</td>\n",
       "      <td>4.000000e-03+0.000000e+00j</td>\n",
       "      <td>12.000000-0.000000j</td>\n",
       "      <td>1</td>\n",
       "    </tr>\n",
       "    <tr>\n",
       "      <th>2</th>\n",
       "      <td>4.440892e-16+0.000000e+00j</td>\n",
       "      <td>0.004424+0.000000j</td>\n",
       "      <td>-2.775558e-16+0.000000e+00j</td>\n",
       "      <td>0.000000e+00-8.881784e-16j</td>\n",
       "      <td>5.451588+0.000000j</td>\n",
       "      <td>0.026716+0.000000j</td>\n",
       "      <td>-1.099504-0.000000j</td>\n",
       "      <td>-4.780451+0.000000j</td>\n",
       "      <td>1.796475+0.000000j</td>\n",
       "      <td>1.359223+0.000000j</td>\n",
       "      <td>8.000000e-03+0.000000e+00j</td>\n",
       "      <td>12.000000+0.000000j</td>\n",
       "      <td>1</td>\n",
       "    </tr>\n",
       "    <tr>\n",
       "      <th>3</th>\n",
       "      <td>-1.110223e-16+0.000000e+00j</td>\n",
       "      <td>0.006240+0.000000j</td>\n",
       "      <td>2.220446e-16+0.000000e+00j</td>\n",
       "      <td>-4.440892e-16-4.440892e-16j</td>\n",
       "      <td>3.060087+0.000000j</td>\n",
       "      <td>0.026716+0.000000j</td>\n",
       "      <td>3.431902-0.000000j</td>\n",
       "      <td>-1.323302+0.000000j</td>\n",
       "      <td>-2.745981+0.000000j</td>\n",
       "      <td>-2.103844+0.000000j</td>\n",
       "      <td>1.200000e-02+0.000000e+00j</td>\n",
       "      <td>12.000000+0.000000j</td>\n",
       "      <td>1</td>\n",
       "    </tr>\n",
       "    <tr>\n",
       "      <th>4</th>\n",
       "      <td>2.220446e-16+0.000000e+00j</td>\n",
       "      <td>0.002099+0.000000j</td>\n",
       "      <td>-1.110223e-16+0.000000e+00j</td>\n",
       "      <td>-4.440892e-16-4.440892e-16j</td>\n",
       "      <td>3.060087+0.000000j</td>\n",
       "      <td>0.026716+0.000000j</td>\n",
       "      <td>2.299051-0.000000j</td>\n",
       "      <td>-1.323302+0.000000j</td>\n",
       "      <td>0.660861+0.000000j</td>\n",
       "      <td>-0.949488+0.000000j</td>\n",
       "      <td>1.600000e-02+0.000000e+00j</td>\n",
       "      <td>12.000000+0.000000j</td>\n",
       "      <td>1</td>\n",
       "    </tr>\n",
       "  </tbody>\n",
       "</table>\n",
       "</div>"
      ],
      "text/plain": [
       "                            0                   1                           2  \\\n",
       "0  0.000000e+00+0.000000e+00j  0.000070+0.000000j -1.110223e-16+0.000000e+00j   \n",
       "1 -2.220446e-16+0.000000e+00j  0.002920+0.000000j  4.440892e-16+0.000000e+00j   \n",
       "2  4.440892e-16+0.000000e+00j  0.004424+0.000000j -2.775558e-16+0.000000e+00j   \n",
       "3 -1.110223e-16+0.000000e+00j  0.006240+0.000000j  2.220446e-16+0.000000e+00j   \n",
       "4  2.220446e-16+0.000000e+00j  0.002099+0.000000j -1.110223e-16+0.000000e+00j   \n",
       "\n",
       "                            3                   4                   5  \\\n",
       "0 -8.881784e-16-4.440892e-16j  5.451588+0.000000j  2.333401+0.000000j   \n",
       "1  0.000000e+00-4.440892e-16j -0.527165+0.000000j  0.026716+0.000000j   \n",
       "2  0.000000e+00-8.881784e-16j  5.451588+0.000000j  0.026716+0.000000j   \n",
       "3 -4.440892e-16-4.440892e-16j  3.060087+0.000000j  0.026716+0.000000j   \n",
       "4 -4.440892e-16-4.440892e-16j  3.060087+0.000000j  0.026716+0.000000j   \n",
       "\n",
       "                    6                   7                   8  \\\n",
       "0 -2.232356-0.000000j -1.323302+0.000000j  1.796475+0.000000j   \n",
       "1  3.431902-0.000000j  2.133847+0.000000j -2.745981+0.000000j   \n",
       "2 -1.099504-0.000000j -4.780451+0.000000j  1.796475+0.000000j   \n",
       "3  3.431902-0.000000j -1.323302+0.000000j -2.745981+0.000000j   \n",
       "4  2.299051-0.000000j -1.323302+0.000000j  0.660861+0.000000j   \n",
       "\n",
       "                    9                          10                   11  \\\n",
       "0  1.359223+0.000000j -2.220446e-16+0.000000e+00j  12.000000+0.000000j   \n",
       "1 -4.412555+0.000000j  4.000000e-03+0.000000e+00j  12.000000-0.000000j   \n",
       "2  1.359223+0.000000j  8.000000e-03+0.000000e+00j  12.000000+0.000000j   \n",
       "3 -2.103844+0.000000j  1.200000e-02+0.000000e+00j  12.000000+0.000000j   \n",
       "4 -0.949488+0.000000j  1.600000e-02+0.000000e+00j  12.000000+0.000000j   \n",
       "\n",
       "   experiment_id  \n",
       "0              1  \n",
       "1              1  \n",
       "2              1  \n",
       "3              1  \n",
       "4              1  "
      ]
     },
     "execution_count": 11,
     "metadata": {},
     "output_type": "execute_result"
    }
   ],
   "source": [
    "df_freq.head()"
   ]
  },
  {
   "cell_type": "code",
   "execution_count": 12,
   "metadata": {},
   "outputs": [
    {
     "data": {
      "text/plain": [
       "(10265700, 13)"
      ]
     },
     "execution_count": 12,
     "metadata": {},
     "output_type": "execute_result"
    }
   ],
   "source": [
    "df_freq.shape"
   ]
  },
  {
   "cell_type": "code",
   "execution_count": 13,
   "metadata": {},
   "outputs": [
    {
     "data": {
      "text/plain": [
       "Index(['experiment_id', 'bearing_1_id', 'bearing_2_id', 'timestamp', 'a1_x',\n",
       "       'a1_y', 'a1_z', 'a2_x', 'a2_y', 'a2_z', 'rpm', 'hz', 'w'],\n",
       "      dtype='object')"
      ]
     },
     "execution_count": 13,
     "metadata": {},
     "output_type": "execute_result"
    }
   ],
   "source": [
    "df_train.columns"
   ]
  },
  {
   "cell_type": "code",
   "execution_count": 14,
   "metadata": {},
   "outputs": [],
   "source": [
    "df_freq = df_freq.set_axis(['bearing_1_id', 'bearing_2_id', 'timestamp', 'a1_x',\n",
    "       'a1_y', 'a1_z', 'a2_x', 'a2_y', 'a2_z', 'rpm', 'hz', 'w','experiment_id'], axis=1)"
   ]
  },
  {
   "cell_type": "code",
   "execution_count": 15,
   "metadata": {},
   "outputs": [
    {
     "data": {
      "text/html": [
       "<div>\n",
       "<style scoped>\n",
       "    .dataframe tbody tr th:only-of-type {\n",
       "        vertical-align: middle;\n",
       "    }\n",
       "\n",
       "    .dataframe tbody tr th {\n",
       "        vertical-align: top;\n",
       "    }\n",
       "\n",
       "    .dataframe thead th {\n",
       "        text-align: right;\n",
       "    }\n",
       "</style>\n",
       "<table border=\"1\" class=\"dataframe\">\n",
       "  <thead>\n",
       "    <tr style=\"text-align: right;\">\n",
       "      <th></th>\n",
       "      <th>bearing_1_id</th>\n",
       "      <th>bearing_2_id</th>\n",
       "      <th>timestamp</th>\n",
       "      <th>a1_x</th>\n",
       "      <th>a1_y</th>\n",
       "      <th>a1_z</th>\n",
       "      <th>a2_x</th>\n",
       "      <th>a2_y</th>\n",
       "      <th>a2_z</th>\n",
       "      <th>rpm</th>\n",
       "      <th>hz</th>\n",
       "      <th>w</th>\n",
       "      <th>experiment_id</th>\n",
       "    </tr>\n",
       "  </thead>\n",
       "  <tbody>\n",
       "    <tr>\n",
       "      <th>0</th>\n",
       "      <td>0.000000e+00+0.000000e+00j</td>\n",
       "      <td>0.000070+0.000000j</td>\n",
       "      <td>-1.110223e-16+0.000000e+00j</td>\n",
       "      <td>-8.881784e-16-4.440892e-16j</td>\n",
       "      <td>5.451588+0.000000j</td>\n",
       "      <td>2.333401+0.000000j</td>\n",
       "      <td>-2.232356-0.000000j</td>\n",
       "      <td>-1.323302+0.000000j</td>\n",
       "      <td>1.796475+0.000000j</td>\n",
       "      <td>1.359223+0.000000j</td>\n",
       "      <td>-2.220446e-16+0.000000e+00j</td>\n",
       "      <td>12.000000+0.000000j</td>\n",
       "      <td>1</td>\n",
       "    </tr>\n",
       "    <tr>\n",
       "      <th>1</th>\n",
       "      <td>-2.220446e-16+0.000000e+00j</td>\n",
       "      <td>0.002920+0.000000j</td>\n",
       "      <td>4.440892e-16+0.000000e+00j</td>\n",
       "      <td>0.000000e+00-4.440892e-16j</td>\n",
       "      <td>-0.527165+0.000000j</td>\n",
       "      <td>0.026716+0.000000j</td>\n",
       "      <td>3.431902-0.000000j</td>\n",
       "      <td>2.133847+0.000000j</td>\n",
       "      <td>-2.745981+0.000000j</td>\n",
       "      <td>-4.412555+0.000000j</td>\n",
       "      <td>4.000000e-03+0.000000e+00j</td>\n",
       "      <td>12.000000-0.000000j</td>\n",
       "      <td>1</td>\n",
       "    </tr>\n",
       "    <tr>\n",
       "      <th>2</th>\n",
       "      <td>4.440892e-16+0.000000e+00j</td>\n",
       "      <td>0.004424+0.000000j</td>\n",
       "      <td>-2.775558e-16+0.000000e+00j</td>\n",
       "      <td>0.000000e+00-8.881784e-16j</td>\n",
       "      <td>5.451588+0.000000j</td>\n",
       "      <td>0.026716+0.000000j</td>\n",
       "      <td>-1.099504-0.000000j</td>\n",
       "      <td>-4.780451+0.000000j</td>\n",
       "      <td>1.796475+0.000000j</td>\n",
       "      <td>1.359223+0.000000j</td>\n",
       "      <td>8.000000e-03+0.000000e+00j</td>\n",
       "      <td>12.000000+0.000000j</td>\n",
       "      <td>1</td>\n",
       "    </tr>\n",
       "    <tr>\n",
       "      <th>3</th>\n",
       "      <td>-1.110223e-16+0.000000e+00j</td>\n",
       "      <td>0.006240+0.000000j</td>\n",
       "      <td>2.220446e-16+0.000000e+00j</td>\n",
       "      <td>-4.440892e-16-4.440892e-16j</td>\n",
       "      <td>3.060087+0.000000j</td>\n",
       "      <td>0.026716+0.000000j</td>\n",
       "      <td>3.431902-0.000000j</td>\n",
       "      <td>-1.323302+0.000000j</td>\n",
       "      <td>-2.745981+0.000000j</td>\n",
       "      <td>-2.103844+0.000000j</td>\n",
       "      <td>1.200000e-02+0.000000e+00j</td>\n",
       "      <td>12.000000+0.000000j</td>\n",
       "      <td>1</td>\n",
       "    </tr>\n",
       "    <tr>\n",
       "      <th>4</th>\n",
       "      <td>2.220446e-16+0.000000e+00j</td>\n",
       "      <td>0.002099+0.000000j</td>\n",
       "      <td>-1.110223e-16+0.000000e+00j</td>\n",
       "      <td>-4.440892e-16-4.440892e-16j</td>\n",
       "      <td>3.060087+0.000000j</td>\n",
       "      <td>0.026716+0.000000j</td>\n",
       "      <td>2.299051-0.000000j</td>\n",
       "      <td>-1.323302+0.000000j</td>\n",
       "      <td>0.660861+0.000000j</td>\n",
       "      <td>-0.949488+0.000000j</td>\n",
       "      <td>1.600000e-02+0.000000e+00j</td>\n",
       "      <td>12.000000+0.000000j</td>\n",
       "      <td>1</td>\n",
       "    </tr>\n",
       "  </tbody>\n",
       "</table>\n",
       "</div>"
      ],
      "text/plain": [
       "                 bearing_1_id        bearing_2_id                   timestamp  \\\n",
       "0  0.000000e+00+0.000000e+00j  0.000070+0.000000j -1.110223e-16+0.000000e+00j   \n",
       "1 -2.220446e-16+0.000000e+00j  0.002920+0.000000j  4.440892e-16+0.000000e+00j   \n",
       "2  4.440892e-16+0.000000e+00j  0.004424+0.000000j -2.775558e-16+0.000000e+00j   \n",
       "3 -1.110223e-16+0.000000e+00j  0.006240+0.000000j  2.220446e-16+0.000000e+00j   \n",
       "4  2.220446e-16+0.000000e+00j  0.002099+0.000000j -1.110223e-16+0.000000e+00j   \n",
       "\n",
       "                         a1_x                a1_y                a1_z  \\\n",
       "0 -8.881784e-16-4.440892e-16j  5.451588+0.000000j  2.333401+0.000000j   \n",
       "1  0.000000e+00-4.440892e-16j -0.527165+0.000000j  0.026716+0.000000j   \n",
       "2  0.000000e+00-8.881784e-16j  5.451588+0.000000j  0.026716+0.000000j   \n",
       "3 -4.440892e-16-4.440892e-16j  3.060087+0.000000j  0.026716+0.000000j   \n",
       "4 -4.440892e-16-4.440892e-16j  3.060087+0.000000j  0.026716+0.000000j   \n",
       "\n",
       "                 a2_x                a2_y                a2_z  \\\n",
       "0 -2.232356-0.000000j -1.323302+0.000000j  1.796475+0.000000j   \n",
       "1  3.431902-0.000000j  2.133847+0.000000j -2.745981+0.000000j   \n",
       "2 -1.099504-0.000000j -4.780451+0.000000j  1.796475+0.000000j   \n",
       "3  3.431902-0.000000j -1.323302+0.000000j -2.745981+0.000000j   \n",
       "4  2.299051-0.000000j -1.323302+0.000000j  0.660861+0.000000j   \n",
       "\n",
       "                  rpm                          hz                    w  \\\n",
       "0  1.359223+0.000000j -2.220446e-16+0.000000e+00j  12.000000+0.000000j   \n",
       "1 -4.412555+0.000000j  4.000000e-03+0.000000e+00j  12.000000-0.000000j   \n",
       "2  1.359223+0.000000j  8.000000e-03+0.000000e+00j  12.000000+0.000000j   \n",
       "3 -2.103844+0.000000j  1.200000e-02+0.000000e+00j  12.000000+0.000000j   \n",
       "4 -0.949488+0.000000j  1.600000e-02+0.000000e+00j  12.000000+0.000000j   \n",
       "\n",
       "   experiment_id  \n",
       "0              1  \n",
       "1              1  \n",
       "2              1  \n",
       "3              1  \n",
       "4              1  "
      ]
     },
     "execution_count": 15,
     "metadata": {},
     "output_type": "execute_result"
    }
   ],
   "source": [
    "df_freq.head()"
   ]
  },
  {
   "cell_type": "code",
   "execution_count": 16,
   "metadata": {},
   "outputs": [],
   "source": [
    "first_column = df_freq.pop('experiment_id')\n",
    "  \n",
    "# insert column using insert(position,column_name,\n",
    "# first_column) function\n",
    "df_freq.insert(0, 'experiment_id', first_column)"
   ]
  },
  {
   "cell_type": "code",
   "execution_count": 4,
   "metadata": {},
   "outputs": [
    {
     "data": {
      "text/html": [
       "<div>\n",
       "<style scoped>\n",
       "    .dataframe tbody tr th:only-of-type {\n",
       "        vertical-align: middle;\n",
       "    }\n",
       "\n",
       "    .dataframe tbody tr th {\n",
       "        vertical-align: top;\n",
       "    }\n",
       "\n",
       "    .dataframe thead th {\n",
       "        text-align: right;\n",
       "    }\n",
       "</style>\n",
       "<table border=\"1\" class=\"dataframe\">\n",
       "  <thead>\n",
       "    <tr style=\"text-align: right;\">\n",
       "      <th></th>\n",
       "      <th>experiment_id</th>\n",
       "      <th>bearing_1_id</th>\n",
       "      <th>bearing_2_id</th>\n",
       "      <th>timestamp</th>\n",
       "      <th>a1_x</th>\n",
       "      <th>a1_y</th>\n",
       "      <th>a1_z</th>\n",
       "      <th>a2_x</th>\n",
       "      <th>a2_y</th>\n",
       "      <th>a2_z</th>\n",
       "      <th>rpm</th>\n",
       "      <th>hz</th>\n",
       "      <th>w</th>\n",
       "    </tr>\n",
       "  </thead>\n",
       "  <tbody>\n",
       "    <tr>\n",
       "      <th>0</th>\n",
       "      <td>1</td>\n",
       "      <td>0</td>\n",
       "      <td>1</td>\n",
       "      <td>0.000000</td>\n",
       "      <td>0.113269</td>\n",
       "      <td>0.149706</td>\n",
       "      <td>-0.110275</td>\n",
       "      <td>-0.186030</td>\n",
       "      <td>0.194450</td>\n",
       "      <td>0.454299</td>\n",
       "      <td>0.0</td>\n",
       "      <td>0.0</td>\n",
       "      <td>0.000006</td>\n",
       "    </tr>\n",
       "    <tr>\n",
       "      <th>1</th>\n",
       "      <td>1</td>\n",
       "      <td>0</td>\n",
       "      <td>1</td>\n",
       "      <td>0.000333</td>\n",
       "      <td>-0.367713</td>\n",
       "      <td>-0.228832</td>\n",
       "      <td>0.177821</td>\n",
       "      <td>0.285992</td>\n",
       "      <td>0.002226</td>\n",
       "      <td>-0.043930</td>\n",
       "      <td>0.0</td>\n",
       "      <td>0.0</td>\n",
       "      <td>0.000243</td>\n",
       "    </tr>\n",
       "    <tr>\n",
       "      <th>2</th>\n",
       "      <td>1</td>\n",
       "      <td>0</td>\n",
       "      <td>1</td>\n",
       "      <td>0.000667</td>\n",
       "      <td>0.113269</td>\n",
       "      <td>0.149706</td>\n",
       "      <td>-0.398371</td>\n",
       "      <td>-0.091625</td>\n",
       "      <td>0.002226</td>\n",
       "      <td>0.454299</td>\n",
       "      <td>0.0</td>\n",
       "      <td>0.0</td>\n",
       "      <td>0.000369</td>\n",
       "    </tr>\n",
       "    <tr>\n",
       "      <th>3</th>\n",
       "      <td>1</td>\n",
       "      <td>0</td>\n",
       "      <td>1</td>\n",
       "      <td>0.001000</td>\n",
       "      <td>-0.175320</td>\n",
       "      <td>-0.228832</td>\n",
       "      <td>-0.110275</td>\n",
       "      <td>0.285992</td>\n",
       "      <td>0.002226</td>\n",
       "      <td>0.255007</td>\n",
       "      <td>0.0</td>\n",
       "      <td>0.0</td>\n",
       "      <td>0.000520</td>\n",
       "    </tr>\n",
       "    <tr>\n",
       "      <th>4</th>\n",
       "      <td>1</td>\n",
       "      <td>0</td>\n",
       "      <td>1</td>\n",
       "      <td>0.001333</td>\n",
       "      <td>-0.079124</td>\n",
       "      <td>0.055072</td>\n",
       "      <td>-0.110275</td>\n",
       "      <td>0.191588</td>\n",
       "      <td>0.002226</td>\n",
       "      <td>0.255007</td>\n",
       "      <td>0.0</td>\n",
       "      <td>0.0</td>\n",
       "      <td>0.000175</td>\n",
       "    </tr>\n",
       "  </tbody>\n",
       "</table>\n",
       "</div>"
      ],
      "text/plain": [
       "   experiment_id  bearing_1_id  bearing_2_id  timestamp      a1_x      a1_y  \\\n",
       "0              1             0             1   0.000000  0.113269  0.149706   \n",
       "1              1             0             1   0.000333 -0.367713 -0.228832   \n",
       "2              1             0             1   0.000667  0.113269  0.149706   \n",
       "3              1             0             1   0.001000 -0.175320 -0.228832   \n",
       "4              1             0             1   0.001333 -0.079124  0.055072   \n",
       "\n",
       "       a1_z      a2_x      a2_y      a2_z  rpm   hz         w  \n",
       "0 -0.110275 -0.186030  0.194450  0.454299  0.0  0.0  0.000006  \n",
       "1  0.177821  0.285992  0.002226 -0.043930  0.0  0.0  0.000243  \n",
       "2 -0.398371 -0.091625  0.002226  0.454299  0.0  0.0  0.000369  \n",
       "3 -0.110275  0.285992  0.002226  0.255007  0.0  0.0  0.000520  \n",
       "4 -0.110275  0.191588  0.002226  0.255007  0.0  0.0  0.000175  "
      ]
     },
     "execution_count": 4,
     "metadata": {},
     "output_type": "execute_result"
    }
   ],
   "source": [
    "df_train.head()"
   ]
  },
  {
   "cell_type": "code",
   "execution_count": 7,
   "metadata": {},
   "outputs": [
    {
     "name": "stdout",
     "output_type": "stream",
     "text": [
      "<class 'pandas.core.frame.DataFrame'>\n",
      "RangeIndex: 10265700 entries, 0 to 10265699\n",
      "Data columns (total 13 columns):\n",
      " #   Column         Dtype  \n",
      "---  ------         -----  \n",
      " 0   experiment_id  int64  \n",
      " 1   bearing_1_id   int64  \n",
      " 2   bearing_2_id   int64  \n",
      " 3   timestamp      float64\n",
      " 4   a1_x           float64\n",
      " 5   a1_y           float64\n",
      " 6   a1_z           float64\n",
      " 7   a2_x           float64\n",
      " 8   a2_y           float64\n",
      " 9   a2_z           float64\n",
      " 10  rpm            float64\n",
      " 11  hz             float64\n",
      " 12  w              float64\n",
      "dtypes: float64(10), int64(3)\n",
      "memory usage: 1018.2 MB\n"
     ]
    }
   ],
   "source": [
    "df_train.info()"
   ]
  },
  {
   "cell_type": "code",
   "execution_count": 4,
   "metadata": {},
   "outputs": [
    {
     "data": {
      "text/plain": [
       "(10265700, 13)"
      ]
     },
     "execution_count": 4,
     "metadata": {},
     "output_type": "execute_result"
    }
   ],
   "source": [
    "df_train.shape"
   ]
  },
  {
   "cell_type": "code",
   "execution_count": 5,
   "metadata": {},
   "outputs": [
    {
     "data": {
      "text/plain": [
       "(113, 2)"
      ]
     },
     "execution_count": 5,
     "metadata": {},
     "output_type": "execute_result"
    }
   ],
   "source": [
    "df_test.shape"
   ]
  },
  {
   "cell_type": "code",
   "execution_count": null,
   "metadata": {},
   "outputs": [],
   "source": []
  },
  {
   "cell_type": "markdown",
   "metadata": {},
   "source": [
    "### We will calculate the domain features\n",
    "Maximum value\n",
    "Minimum value\n",
    "Mean value\n",
    "Standard deviation (unbiased)\n",
    "Root mean square value (RMS)\n",
    "Skewness\n",
    "Kurtosis\n",
    "Crest Factor (Max/RMS)\n",
    "Form Factor (RMS/mean)\n",
    "\n",
    "\n"
   ]
  },
  {
   "cell_type": "code",
   "execution_count": 6,
   "metadata": {},
   "outputs": [
    {
     "data": {
      "text/html": [
       "<div>\n",
       "<style scoped>\n",
       "    .dataframe tbody tr th:only-of-type {\n",
       "        vertical-align: middle;\n",
       "    }\n",
       "\n",
       "    .dataframe tbody tr th {\n",
       "        vertical-align: top;\n",
       "    }\n",
       "\n",
       "    .dataframe thead th {\n",
       "        text-align: right;\n",
       "    }\n",
       "</style>\n",
       "<table border=\"1\" class=\"dataframe\">\n",
       "  <thead>\n",
       "    <tr style=\"text-align: right;\">\n",
       "      <th></th>\n",
       "      <th>experiment_id</th>\n",
       "      <th>bearing_1_id</th>\n",
       "      <th>bearing_2_id</th>\n",
       "      <th>timestamp</th>\n",
       "      <th>a1_x</th>\n",
       "      <th>a1_y</th>\n",
       "      <th>a1_z</th>\n",
       "      <th>a2_x</th>\n",
       "      <th>a2_y</th>\n",
       "      <th>a2_z</th>\n",
       "      <th>rpm</th>\n",
       "      <th>hz</th>\n",
       "      <th>w</th>\n",
       "    </tr>\n",
       "  </thead>\n",
       "  <tbody>\n",
       "    <tr>\n",
       "      <th>count</th>\n",
       "      <td>1.026570e+07</td>\n",
       "      <td>10265700.0</td>\n",
       "      <td>1.026570e+07</td>\n",
       "      <td>1.026570e+07</td>\n",
       "      <td>1.026570e+07</td>\n",
       "      <td>1.026570e+07</td>\n",
       "      <td>1.026570e+07</td>\n",
       "      <td>1.026570e+07</td>\n",
       "      <td>1.026570e+07</td>\n",
       "      <td>1.026570e+07</td>\n",
       "      <td>1.026570e+07</td>\n",
       "      <td>1.026570e+07</td>\n",
       "      <td>1.026570e+07</td>\n",
       "    </tr>\n",
       "    <tr>\n",
       "      <th>mean</th>\n",
       "      <td>5.658897e+01</td>\n",
       "      <td>0.0</td>\n",
       "      <td>5.658897e+01</td>\n",
       "      <td>1.556797e+01</td>\n",
       "      <td>-2.200731e-01</td>\n",
       "      <td>-4.832596e-02</td>\n",
       "      <td>-5.254890e-02</td>\n",
       "      <td>-3.124191e-01</td>\n",
       "      <td>-8.758339e-02</td>\n",
       "      <td>7.102206e-02</td>\n",
       "      <td>-2.760059e+05</td>\n",
       "      <td>-4.600098e+03</td>\n",
       "      <td>4.629741e-01</td>\n",
       "    </tr>\n",
       "    <tr>\n",
       "      <th>std</th>\n",
       "      <td>3.231361e+01</td>\n",
       "      <td>0.0</td>\n",
       "      <td>3.231361e+01</td>\n",
       "      <td>9.425589e+00</td>\n",
       "      <td>1.824082e+00</td>\n",
       "      <td>1.450662e+00</td>\n",
       "      <td>1.768919e+00</td>\n",
       "      <td>2.553113e+00</td>\n",
       "      <td>2.631378e+00</td>\n",
       "      <td>2.700098e+00</td>\n",
       "      <td>4.076958e+07</td>\n",
       "      <td>6.794930e+05</td>\n",
       "      <td>4.565080e-01</td>\n",
       "    </tr>\n",
       "    <tr>\n",
       "      <th>min</th>\n",
       "      <td>1.000000e+00</td>\n",
       "      <td>0.0</td>\n",
       "      <td>1.000000e+00</td>\n",
       "      <td>0.000000e+00</td>\n",
       "      <td>-1.604771e+01</td>\n",
       "      <td>-1.887183e+01</td>\n",
       "      <td>-1.633967e+01</td>\n",
       "      <td>-1.765083e+01</td>\n",
       "      <td>-1.873959e+01</td>\n",
       "      <td>-2.296248e+01</td>\n",
       "      <td>-6.000000e+09</td>\n",
       "      <td>-1.000000e+08</td>\n",
       "      <td>1.407501e-06</td>\n",
       "    </tr>\n",
       "    <tr>\n",
       "      <th>25%</th>\n",
       "      <td>2.900000e+01</td>\n",
       "      <td>0.0</td>\n",
       "      <td>2.900000e+01</td>\n",
       "      <td>7.638000e+00</td>\n",
       "      <td>-1.041087e+00</td>\n",
       "      <td>-6.073697e-01</td>\n",
       "      <td>-8.785304e-01</td>\n",
       "      <td>-1.602094e+00</td>\n",
       "      <td>-1.247228e+00</td>\n",
       "      <td>-1.040389e+00</td>\n",
       "      <td>4.774536e+02</td>\n",
       "      <td>7.957560e+00</td>\n",
       "      <td>4.778236e-02</td>\n",
       "    </tr>\n",
       "    <tr>\n",
       "      <th>50%</th>\n",
       "      <td>5.600000e+01</td>\n",
       "      <td>0.0</td>\n",
       "      <td>5.600000e+01</td>\n",
       "      <td>1.527633e+01</td>\n",
       "      <td>-1.753203e-01</td>\n",
       "      <td>-3.956274e-02</td>\n",
       "      <td>-1.424326e-02</td>\n",
       "      <td>-3.748382e-01</td>\n",
       "      <td>2.226305e-03</td>\n",
       "      <td>5.571547e-02</td>\n",
       "      <td>1.285714e+03</td>\n",
       "      <td>2.142857e+01</td>\n",
       "      <td>3.781180e-01</td>\n",
       "    </tr>\n",
       "    <tr>\n",
       "      <th>75%</th>\n",
       "      <td>8.500000e+01</td>\n",
       "      <td>0.0</td>\n",
       "      <td>8.500000e+01</td>\n",
       "      <td>2.291433e+01</td>\n",
       "      <td>5.942500e-01</td>\n",
       "      <td>5.282442e-01</td>\n",
       "      <td>8.500439e-01</td>\n",
       "      <td>8.524177e-01</td>\n",
       "      <td>8.672333e-01</td>\n",
       "      <td>1.151820e+00</td>\n",
       "      <td>1.487603e+03</td>\n",
       "      <td>2.479339e+01</td>\n",
       "      <td>7.271071e-01</td>\n",
       "    </tr>\n",
       "    <tr>\n",
       "      <th>max</th>\n",
       "      <td>1.120000e+02</td>\n",
       "      <td>0.0</td>\n",
       "      <td>1.120000e+02</td>\n",
       "      <td>5.549967e+01</td>\n",
       "      <td>1.560087e+01</td>\n",
       "      <td>1.614294e+01</td>\n",
       "      <td>1.640721e+01</td>\n",
       "      <td>1.916685e+01</td>\n",
       "      <td>2.249241e+01</td>\n",
       "      <td>2.596364e+01</td>\n",
       "      <td>9.000135e+04</td>\n",
       "      <td>1.500023e+03</td>\n",
       "      <td>9.393605e+00</td>\n",
       "    </tr>\n",
       "  </tbody>\n",
       "</table>\n",
       "</div>"
      ],
      "text/plain": [
       "       experiment_id  bearing_1_id  bearing_2_id     timestamp          a1_x  \\\n",
       "count   1.026570e+07    10265700.0  1.026570e+07  1.026570e+07  1.026570e+07   \n",
       "mean    5.658897e+01           0.0  5.658897e+01  1.556797e+01 -2.200731e-01   \n",
       "std     3.231361e+01           0.0  3.231361e+01  9.425589e+00  1.824082e+00   \n",
       "min     1.000000e+00           0.0  1.000000e+00  0.000000e+00 -1.604771e+01   \n",
       "25%     2.900000e+01           0.0  2.900000e+01  7.638000e+00 -1.041087e+00   \n",
       "50%     5.600000e+01           0.0  5.600000e+01  1.527633e+01 -1.753203e-01   \n",
       "75%     8.500000e+01           0.0  8.500000e+01  2.291433e+01  5.942500e-01   \n",
       "max     1.120000e+02           0.0  1.120000e+02  5.549967e+01  1.560087e+01   \n",
       "\n",
       "               a1_y          a1_z          a2_x          a2_y          a2_z  \\\n",
       "count  1.026570e+07  1.026570e+07  1.026570e+07  1.026570e+07  1.026570e+07   \n",
       "mean  -4.832596e-02 -5.254890e-02 -3.124191e-01 -8.758339e-02  7.102206e-02   \n",
       "std    1.450662e+00  1.768919e+00  2.553113e+00  2.631378e+00  2.700098e+00   \n",
       "min   -1.887183e+01 -1.633967e+01 -1.765083e+01 -1.873959e+01 -2.296248e+01   \n",
       "25%   -6.073697e-01 -8.785304e-01 -1.602094e+00 -1.247228e+00 -1.040389e+00   \n",
       "50%   -3.956274e-02 -1.424326e-02 -3.748382e-01  2.226305e-03  5.571547e-02   \n",
       "75%    5.282442e-01  8.500439e-01  8.524177e-01  8.672333e-01  1.151820e+00   \n",
       "max    1.614294e+01  1.640721e+01  1.916685e+01  2.249241e+01  2.596364e+01   \n",
       "\n",
       "                rpm            hz             w  \n",
       "count  1.026570e+07  1.026570e+07  1.026570e+07  \n",
       "mean  -2.760059e+05 -4.600098e+03  4.629741e-01  \n",
       "std    4.076958e+07  6.794930e+05  4.565080e-01  \n",
       "min   -6.000000e+09 -1.000000e+08  1.407501e-06  \n",
       "25%    4.774536e+02  7.957560e+00  4.778236e-02  \n",
       "50%    1.285714e+03  2.142857e+01  3.781180e-01  \n",
       "75%    1.487603e+03  2.479339e+01  7.271071e-01  \n",
       "max    9.000135e+04  1.500023e+03  9.393605e+00  "
      ]
     },
     "execution_count": 6,
     "metadata": {},
     "output_type": "execute_result"
    }
   ],
   "source": [
    "df_train.describe()"
   ]
  },
  {
   "cell_type": "code",
   "execution_count": 7,
   "metadata": {},
   "outputs": [
    {
     "data": {
      "text/plain": [
       "112"
      ]
     },
     "execution_count": 7,
     "metadata": {},
     "output_type": "execute_result"
    }
   ],
   "source": [
    "df_train['bearing_2_id'].nunique()"
   ]
  },
  {
   "cell_type": "code",
   "execution_count": 8,
   "metadata": {},
   "outputs": [
    {
     "data": {
      "image/png": "[encoded data removed]",
      "text/plain": [
       "<Figure size 432x288 with 1 Axes>"
      ]
     },
     "metadata": {
      "needs_background": "light"
     },
     "output_type": "display_data"
    }
   ],
   "source": [
    "sns.lineplot(data = df_train, x='a1_x', y='timestamp')\n",
    "plt.title('X axis bearing1s')\n",
    "plt.show()"
   ]
  },
  {
   "cell_type": "code",
   "execution_count": 9,
   "metadata": {},
   "outputs": [
    {
     "data": {
      "image/png": "[encoded data removed]",
      "text/plain": [
       "<Figure size 720x720 with 1 Axes>"
      ]
     },
     "metadata": {
      "needs_background": "light"
     },
     "output_type": "display_data"
    }
   ],
   "source": [
    "plt.figure(figsize = (10,10))\n",
    "sns.lineplot(data = df_train, x='timestamp', y='a2_x', hue = 'experiment_id')\n",
    "plt.title('X axis bearing1s')\n",
    "plt.show()"
   ]
  },
  {
   "cell_type": "code",
   "execution_count": 10,
   "metadata": {},
   "outputs": [
    {
     "data": {
      "image/png": "[encoded data removed]",
      "text/plain": [
       "<Figure size 432x288 with 1 Axes>"
      ]
     },
     "metadata": {
      "needs_background": "light"
     },
     "output_type": "display_data"
    }
   ],
   "source": [
    "sns.lineplot(data = df_train, x='a1_y', y='timestamp')\n",
    "plt.title('X axis bearing1sb')\n",
    "plt.show()"
   ]
  },
  {
   "cell_type": "code",
   "execution_count": 11,
   "metadata": {},
   "outputs": [
    {
     "data": {
      "text/plain": [
       "Index(['experiment_id', 'bearing_1_id', 'bearing_2_id', 'timestamp', 'a1_x',\n",
       "       'a1_y', 'a1_z', 'a2_x', 'a2_y', 'a2_z', 'rpm', 'hz', 'w'],\n",
       "      dtype='object')"
      ]
     },
     "execution_count": 11,
     "metadata": {},
     "output_type": "execute_result"
    }
   ],
   "source": [
    "df_train.columns"
   ]
  },
  {
   "cell_type": "markdown",
   "metadata": {},
   "source": [
    "## CODE TO USE"
   ]
  },
  {
   "cell_type": "code",
   "execution_count": 18,
   "metadata": {},
   "outputs": [],
   "source": [
    "df_train = df_train.drop(['bearing_1_id','a1_x','a1_y','a1_z','rpm', 'hz', 'w' ], axis = 1)"
   ]
  },
  {
   "cell_type": "code",
   "execution_count": 19,
   "metadata": {},
   "outputs": [],
   "source": [
    "max_set = df_train.groupby(['experiment_id']).max()\n",
    "min_set = df_train.groupby(['experiment_id']).min()\n",
    "mean_set = df_train.groupby(['experiment_id']).mean()\n",
    "std_set = df_train.groupby(['experiment_id']).std()"
   ]
  },
  {
   "cell_type": "code",
   "execution_count": 20,
   "metadata": {},
   "outputs": [],
   "source": [
    "skew_set = df_train.groupby(['experiment_id']).skew()"
   ]
  },
  {
   "cell_type": "code",
   "execution_count": 21,
   "metadata": {},
   "outputs": [],
   "source": [
    "kurtosis_set = df_train.groupby(['experiment_id']).apply(pd.DataFrame.kurtosis)"
   ]
  },
  {
   "cell_type": "code",
   "execution_count": 22,
   "metadata": {
    "scrolled": true
   },
   "outputs": [
    {
     "data": {
      "text/html": [
       "<div>\n",
       "<style scoped>\n",
       "    .dataframe tbody tr th:only-of-type {\n",
       "        vertical-align: middle;\n",
       "    }\n",
       "\n",
       "    .dataframe tbody tr th {\n",
       "        vertical-align: top;\n",
       "    }\n",
       "\n",
       "    .dataframe thead th {\n",
       "        text-align: right;\n",
       "    }\n",
       "</style>\n",
       "<table border=\"1\" class=\"dataframe\">\n",
       "  <thead>\n",
       "    <tr style=\"text-align: right;\">\n",
       "      <th></th>\n",
       "      <th>bearing_2_id</th>\n",
       "      <th>timestamp</th>\n",
       "      <th>a2_x</th>\n",
       "      <th>a2_y</th>\n",
       "      <th>a2_z</th>\n",
       "    </tr>\n",
       "    <tr>\n",
       "      <th>experiment_id</th>\n",
       "      <th></th>\n",
       "      <th></th>\n",
       "      <th></th>\n",
       "      <th></th>\n",
       "      <th></th>\n",
       "    </tr>\n",
       "  </thead>\n",
       "  <tbody>\n",
       "    <tr>\n",
       "      <th>1</th>\n",
       "      <td>0.0</td>\n",
       "      <td>1.039480e-14</td>\n",
       "      <td>-0.002391</td>\n",
       "      <td>0.066577</td>\n",
       "      <td>0.060053</td>\n",
       "    </tr>\n",
       "    <tr>\n",
       "      <th>2</th>\n",
       "      <td>0.0</td>\n",
       "      <td>1.108580e-14</td>\n",
       "      <td>-0.156236</td>\n",
       "      <td>-0.188976</td>\n",
       "      <td>-0.071935</td>\n",
       "    </tr>\n",
       "    <tr>\n",
       "      <th>3</th>\n",
       "      <td>0.0</td>\n",
       "      <td>1.007863e-14</td>\n",
       "      <td>-0.061420</td>\n",
       "      <td>-0.232841</td>\n",
       "      <td>-0.064409</td>\n",
       "    </tr>\n",
       "    <tr>\n",
       "      <th>4</th>\n",
       "      <td>0.0</td>\n",
       "      <td>9.810363e-15</td>\n",
       "      <td>0.026075</td>\n",
       "      <td>0.080305</td>\n",
       "      <td>0.081752</td>\n",
       "    </tr>\n",
       "    <tr>\n",
       "      <th>5</th>\n",
       "      <td>0.0</td>\n",
       "      <td>1.091490e-14</td>\n",
       "      <td>-0.050900</td>\n",
       "      <td>-0.011007</td>\n",
       "      <td>0.116437</td>\n",
       "    </tr>\n",
       "  </tbody>\n",
       "</table>\n",
       "</div>"
      ],
      "text/plain": [
       "               bearing_2_id     timestamp      a2_x      a2_y      a2_z\n",
       "experiment_id                                                          \n",
       "1                       0.0  1.039480e-14 -0.002391  0.066577  0.060053\n",
       "2                       0.0  1.108580e-14 -0.156236 -0.188976 -0.071935\n",
       "3                       0.0  1.007863e-14 -0.061420 -0.232841 -0.064409\n",
       "4                       0.0  9.810363e-15  0.026075  0.080305  0.081752\n",
       "5                       0.0  1.091490e-14 -0.050900 -0.011007  0.116437"
      ]
     },
     "execution_count": 22,
     "metadata": {},
     "output_type": "execute_result"
    }
   ],
   "source": [
    "skew_set.head(5)"
   ]
  },
  {
   "cell_type": "code",
   "execution_count": 11,
   "metadata": {},
   "outputs": [
    {
     "data": {
      "text/html": [
       "<div>\n",
       "<style scoped>\n",
       "    .dataframe tbody tr th:only-of-type {\n",
       "        vertical-align: middle;\n",
       "    }\n",
       "\n",
       "    .dataframe tbody tr th {\n",
       "        vertical-align: top;\n",
       "    }\n",
       "\n",
       "    .dataframe thead th {\n",
       "        text-align: right;\n",
       "    }\n",
       "</style>\n",
       "<table border=\"1\" class=\"dataframe\">\n",
       "  <thead>\n",
       "    <tr style=\"text-align: right;\">\n",
       "      <th></th>\n",
       "      <th>experiment_id</th>\n",
       "      <th>bearing_2_id</th>\n",
       "      <th>timestamp</th>\n",
       "      <th>a2_x</th>\n",
       "      <th>a2_y</th>\n",
       "      <th>a2_z</th>\n",
       "    </tr>\n",
       "    <tr>\n",
       "      <th>experiment_id</th>\n",
       "      <th></th>\n",
       "      <th></th>\n",
       "      <th></th>\n",
       "      <th></th>\n",
       "      <th></th>\n",
       "      <th></th>\n",
       "    </tr>\n",
       "  </thead>\n",
       "  <tbody>\n",
       "    <tr>\n",
       "      <th>1</th>\n",
       "      <td>0.0</td>\n",
       "      <td>0.0</td>\n",
       "      <td>-1.2</td>\n",
       "      <td>-0.207130</td>\n",
       "      <td>0.227841</td>\n",
       "      <td>0.887165</td>\n",
       "    </tr>\n",
       "    <tr>\n",
       "      <th>2</th>\n",
       "      <td>0.0</td>\n",
       "      <td>0.0</td>\n",
       "      <td>-1.2</td>\n",
       "      <td>-0.097596</td>\n",
       "      <td>0.364910</td>\n",
       "      <td>1.315945</td>\n",
       "    </tr>\n",
       "    <tr>\n",
       "      <th>3</th>\n",
       "      <td>0.0</td>\n",
       "      <td>0.0</td>\n",
       "      <td>-1.2</td>\n",
       "      <td>-0.207138</td>\n",
       "      <td>0.340638</td>\n",
       "      <td>0.833997</td>\n",
       "    </tr>\n",
       "    <tr>\n",
       "      <th>4</th>\n",
       "      <td>0.0</td>\n",
       "      <td>0.0</td>\n",
       "      <td>-1.2</td>\n",
       "      <td>-0.386285</td>\n",
       "      <td>0.033154</td>\n",
       "      <td>0.779041</td>\n",
       "    </tr>\n",
       "    <tr>\n",
       "      <th>5</th>\n",
       "      <td>0.0</td>\n",
       "      <td>0.0</td>\n",
       "      <td>-1.2</td>\n",
       "      <td>0.129844</td>\n",
       "      <td>0.466833</td>\n",
       "      <td>1.390131</td>\n",
       "    </tr>\n",
       "    <tr>\n",
       "      <th>6</th>\n",
       "      <td>0.0</td>\n",
       "      <td>0.0</td>\n",
       "      <td>-1.2</td>\n",
       "      <td>1.350743</td>\n",
       "      <td>2.068770</td>\n",
       "      <td>1.148915</td>\n",
       "    </tr>\n",
       "    <tr>\n",
       "      <th>7</th>\n",
       "      <td>0.0</td>\n",
       "      <td>0.0</td>\n",
       "      <td>-1.2</td>\n",
       "      <td>1.073101</td>\n",
       "      <td>2.640435</td>\n",
       "      <td>1.835286</td>\n",
       "    </tr>\n",
       "    <tr>\n",
       "      <th>8</th>\n",
       "      <td>0.0</td>\n",
       "      <td>0.0</td>\n",
       "      <td>-1.2</td>\n",
       "      <td>-0.474831</td>\n",
       "      <td>0.172357</td>\n",
       "      <td>0.654067</td>\n",
       "    </tr>\n",
       "    <tr>\n",
       "      <th>9</th>\n",
       "      <td>0.0</td>\n",
       "      <td>0.0</td>\n",
       "      <td>-1.2</td>\n",
       "      <td>0.250420</td>\n",
       "      <td>0.676476</td>\n",
       "      <td>1.152544</td>\n",
       "    </tr>\n",
       "    <tr>\n",
       "      <th>10</th>\n",
       "      <td>0.0</td>\n",
       "      <td>0.0</td>\n",
       "      <td>-1.2</td>\n",
       "      <td>1.394071</td>\n",
       "      <td>3.229489</td>\n",
       "      <td>1.740839</td>\n",
       "    </tr>\n",
       "    <tr>\n",
       "      <th>11</th>\n",
       "      <td>0.0</td>\n",
       "      <td>0.0</td>\n",
       "      <td>-1.2</td>\n",
       "      <td>-0.570689</td>\n",
       "      <td>0.215715</td>\n",
       "      <td>0.841368</td>\n",
       "    </tr>\n",
       "    <tr>\n",
       "      <th>12</th>\n",
       "      <td>0.0</td>\n",
       "      <td>0.0</td>\n",
       "      <td>-1.2</td>\n",
       "      <td>0.897452</td>\n",
       "      <td>3.801765</td>\n",
       "      <td>1.854415</td>\n",
       "    </tr>\n",
       "    <tr>\n",
       "      <th>13</th>\n",
       "      <td>0.0</td>\n",
       "      <td>0.0</td>\n",
       "      <td>-1.2</td>\n",
       "      <td>0.317178</td>\n",
       "      <td>2.449968</td>\n",
       "      <td>1.261867</td>\n",
       "    </tr>\n",
       "    <tr>\n",
       "      <th>14</th>\n",
       "      <td>0.0</td>\n",
       "      <td>0.0</td>\n",
       "      <td>-1.2</td>\n",
       "      <td>-0.185470</td>\n",
       "      <td>0.400456</td>\n",
       "      <td>1.002620</td>\n",
       "    </tr>\n",
       "    <tr>\n",
       "      <th>15</th>\n",
       "      <td>0.0</td>\n",
       "      <td>0.0</td>\n",
       "      <td>-1.2</td>\n",
       "      <td>-0.422365</td>\n",
       "      <td>0.943063</td>\n",
       "      <td>0.921834</td>\n",
       "    </tr>\n",
       "    <tr>\n",
       "      <th>16</th>\n",
       "      <td>0.0</td>\n",
       "      <td>0.0</td>\n",
       "      <td>-1.2</td>\n",
       "      <td>-0.226301</td>\n",
       "      <td>0.494428</td>\n",
       "      <td>1.792454</td>\n",
       "    </tr>\n",
       "    <tr>\n",
       "      <th>17</th>\n",
       "      <td>0.0</td>\n",
       "      <td>0.0</td>\n",
       "      <td>-1.2</td>\n",
       "      <td>0.774643</td>\n",
       "      <td>2.808064</td>\n",
       "      <td>3.602007</td>\n",
       "    </tr>\n",
       "    <tr>\n",
       "      <th>18</th>\n",
       "      <td>0.0</td>\n",
       "      <td>0.0</td>\n",
       "      <td>-1.2</td>\n",
       "      <td>-0.073308</td>\n",
       "      <td>0.318408</td>\n",
       "      <td>0.485869</td>\n",
       "    </tr>\n",
       "    <tr>\n",
       "      <th>19</th>\n",
       "      <td>0.0</td>\n",
       "      <td>0.0</td>\n",
       "      <td>-1.2</td>\n",
       "      <td>2.361923</td>\n",
       "      <td>4.083598</td>\n",
       "      <td>1.580569</td>\n",
       "    </tr>\n",
       "    <tr>\n",
       "      <th>20</th>\n",
       "      <td>0.0</td>\n",
       "      <td>0.0</td>\n",
       "      <td>-1.2</td>\n",
       "      <td>0.251922</td>\n",
       "      <td>-0.001283</td>\n",
       "      <td>-0.212845</td>\n",
       "    </tr>\n",
       "    <tr>\n",
       "      <th>21</th>\n",
       "      <td>0.0</td>\n",
       "      <td>0.0</td>\n",
       "      <td>-1.2</td>\n",
       "      <td>1.802917</td>\n",
       "      <td>2.090243</td>\n",
       "      <td>2.173022</td>\n",
       "    </tr>\n",
       "    <tr>\n",
       "      <th>22</th>\n",
       "      <td>0.0</td>\n",
       "      <td>0.0</td>\n",
       "      <td>-1.2</td>\n",
       "      <td>-0.031446</td>\n",
       "      <td>-0.098847</td>\n",
       "      <td>0.489192</td>\n",
       "    </tr>\n",
       "    <tr>\n",
       "      <th>23</th>\n",
       "      <td>0.0</td>\n",
       "      <td>0.0</td>\n",
       "      <td>-1.2</td>\n",
       "      <td>0.312858</td>\n",
       "      <td>0.428786</td>\n",
       "      <td>-0.329927</td>\n",
       "    </tr>\n",
       "    <tr>\n",
       "      <th>24</th>\n",
       "      <td>0.0</td>\n",
       "      <td>0.0</td>\n",
       "      <td>-1.2</td>\n",
       "      <td>0.358605</td>\n",
       "      <td>1.726103</td>\n",
       "      <td>0.984850</td>\n",
       "    </tr>\n",
       "    <tr>\n",
       "      <th>25</th>\n",
       "      <td>0.0</td>\n",
       "      <td>0.0</td>\n",
       "      <td>-1.2</td>\n",
       "      <td>0.287080</td>\n",
       "      <td>1.414849</td>\n",
       "      <td>0.545072</td>\n",
       "    </tr>\n",
       "    <tr>\n",
       "      <th>26</th>\n",
       "      <td>0.0</td>\n",
       "      <td>0.0</td>\n",
       "      <td>-1.2</td>\n",
       "      <td>0.502038</td>\n",
       "      <td>0.706107</td>\n",
       "      <td>0.162364</td>\n",
       "    </tr>\n",
       "    <tr>\n",
       "      <th>27</th>\n",
       "      <td>0.0</td>\n",
       "      <td>0.0</td>\n",
       "      <td>-1.2</td>\n",
       "      <td>0.790566</td>\n",
       "      <td>1.024647</td>\n",
       "      <td>1.148462</td>\n",
       "    </tr>\n",
       "    <tr>\n",
       "      <th>28</th>\n",
       "      <td>0.0</td>\n",
       "      <td>0.0</td>\n",
       "      <td>-1.2</td>\n",
       "      <td>1.098556</td>\n",
       "      <td>1.818077</td>\n",
       "      <td>1.323214</td>\n",
       "    </tr>\n",
       "    <tr>\n",
       "      <th>29</th>\n",
       "      <td>0.0</td>\n",
       "      <td>0.0</td>\n",
       "      <td>-1.2</td>\n",
       "      <td>0.824906</td>\n",
       "      <td>2.186864</td>\n",
       "      <td>0.902410</td>\n",
       "    </tr>\n",
       "    <tr>\n",
       "      <th>30</th>\n",
       "      <td>0.0</td>\n",
       "      <td>0.0</td>\n",
       "      <td>-1.2</td>\n",
       "      <td>0.942401</td>\n",
       "      <td>0.892420</td>\n",
       "      <td>-0.313251</td>\n",
       "    </tr>\n",
       "    <tr>\n",
       "      <th>31</th>\n",
       "      <td>0.0</td>\n",
       "      <td>0.0</td>\n",
       "      <td>-1.2</td>\n",
       "      <td>2.408933</td>\n",
       "      <td>2.888357</td>\n",
       "      <td>1.693931</td>\n",
       "    </tr>\n",
       "    <tr>\n",
       "      <th>32</th>\n",
       "      <td>0.0</td>\n",
       "      <td>0.0</td>\n",
       "      <td>-1.2</td>\n",
       "      <td>1.319613</td>\n",
       "      <td>2.429538</td>\n",
       "      <td>0.824552</td>\n",
       "    </tr>\n",
       "    <tr>\n",
       "      <th>33</th>\n",
       "      <td>0.0</td>\n",
       "      <td>0.0</td>\n",
       "      <td>-1.2</td>\n",
       "      <td>2.393589</td>\n",
       "      <td>4.077555</td>\n",
       "      <td>2.438804</td>\n",
       "    </tr>\n",
       "    <tr>\n",
       "      <th>34</th>\n",
       "      <td>0.0</td>\n",
       "      <td>0.0</td>\n",
       "      <td>-1.2</td>\n",
       "      <td>1.631073</td>\n",
       "      <td>1.943200</td>\n",
       "      <td>0.496891</td>\n",
       "    </tr>\n",
       "    <tr>\n",
       "      <th>35</th>\n",
       "      <td>0.0</td>\n",
       "      <td>0.0</td>\n",
       "      <td>-1.2</td>\n",
       "      <td>2.331928</td>\n",
       "      <td>4.872112</td>\n",
       "      <td>1.838642</td>\n",
       "    </tr>\n",
       "    <tr>\n",
       "      <th>36</th>\n",
       "      <td>0.0</td>\n",
       "      <td>0.0</td>\n",
       "      <td>-1.2</td>\n",
       "      <td>1.671685</td>\n",
       "      <td>1.634596</td>\n",
       "      <td>0.973830</td>\n",
       "    </tr>\n",
       "    <tr>\n",
       "      <th>37</th>\n",
       "      <td>0.0</td>\n",
       "      <td>0.0</td>\n",
       "      <td>-1.2</td>\n",
       "      <td>2.099039</td>\n",
       "      <td>2.905087</td>\n",
       "      <td>2.099966</td>\n",
       "    </tr>\n",
       "    <tr>\n",
       "      <th>38</th>\n",
       "      <td>0.0</td>\n",
       "      <td>0.0</td>\n",
       "      <td>-1.2</td>\n",
       "      <td>2.859976</td>\n",
       "      <td>2.024229</td>\n",
       "      <td>1.498266</td>\n",
       "    </tr>\n",
       "    <tr>\n",
       "      <th>39</th>\n",
       "      <td>0.0</td>\n",
       "      <td>0.0</td>\n",
       "      <td>-1.2</td>\n",
       "      <td>2.551799</td>\n",
       "      <td>1.849866</td>\n",
       "      <td>1.208779</td>\n",
       "    </tr>\n",
       "    <tr>\n",
       "      <th>40</th>\n",
       "      <td>0.0</td>\n",
       "      <td>0.0</td>\n",
       "      <td>-1.2</td>\n",
       "      <td>2.251584</td>\n",
       "      <td>1.571601</td>\n",
       "      <td>2.729357</td>\n",
       "    </tr>\n",
       "    <tr>\n",
       "      <th>41</th>\n",
       "      <td>0.0</td>\n",
       "      <td>0.0</td>\n",
       "      <td>-1.2</td>\n",
       "      <td>0.599934</td>\n",
       "      <td>-0.363361</td>\n",
       "      <td>0.046276</td>\n",
       "    </tr>\n",
       "    <tr>\n",
       "      <th>42</th>\n",
       "      <td>0.0</td>\n",
       "      <td>0.0</td>\n",
       "      <td>-1.2</td>\n",
       "      <td>0.660590</td>\n",
       "      <td>1.883512</td>\n",
       "      <td>1.233454</td>\n",
       "    </tr>\n",
       "    <tr>\n",
       "      <th>43</th>\n",
       "      <td>0.0</td>\n",
       "      <td>0.0</td>\n",
       "      <td>-1.2</td>\n",
       "      <td>0.722801</td>\n",
       "      <td>0.607353</td>\n",
       "      <td>0.202818</td>\n",
       "    </tr>\n",
       "    <tr>\n",
       "      <th>44</th>\n",
       "      <td>0.0</td>\n",
       "      <td>0.0</td>\n",
       "      <td>-1.2</td>\n",
       "      <td>1.484289</td>\n",
       "      <td>2.183056</td>\n",
       "      <td>0.982040</td>\n",
       "    </tr>\n",
       "    <tr>\n",
       "      <th>45</th>\n",
       "      <td>0.0</td>\n",
       "      <td>0.0</td>\n",
       "      <td>-1.2</td>\n",
       "      <td>0.109781</td>\n",
       "      <td>0.068469</td>\n",
       "      <td>3.014360</td>\n",
       "    </tr>\n",
       "    <tr>\n",
       "      <th>46</th>\n",
       "      <td>0.0</td>\n",
       "      <td>0.0</td>\n",
       "      <td>-1.2</td>\n",
       "      <td>0.933935</td>\n",
       "      <td>0.949217</td>\n",
       "      <td>5.908450</td>\n",
       "    </tr>\n",
       "    <tr>\n",
       "      <th>47</th>\n",
       "      <td>0.0</td>\n",
       "      <td>0.0</td>\n",
       "      <td>-1.2</td>\n",
       "      <td>0.807463</td>\n",
       "      <td>0.413868</td>\n",
       "      <td>1.932133</td>\n",
       "    </tr>\n",
       "    <tr>\n",
       "      <th>48</th>\n",
       "      <td>0.0</td>\n",
       "      <td>0.0</td>\n",
       "      <td>-1.2</td>\n",
       "      <td>0.732864</td>\n",
       "      <td>2.287528</td>\n",
       "      <td>2.449059</td>\n",
       "    </tr>\n",
       "    <tr>\n",
       "      <th>49</th>\n",
       "      <td>0.0</td>\n",
       "      <td>0.0</td>\n",
       "      <td>-1.2</td>\n",
       "      <td>0.824152</td>\n",
       "      <td>0.581066</td>\n",
       "      <td>3.258034</td>\n",
       "    </tr>\n",
       "    <tr>\n",
       "      <th>50</th>\n",
       "      <td>0.0</td>\n",
       "      <td>0.0</td>\n",
       "      <td>-1.2</td>\n",
       "      <td>0.624984</td>\n",
       "      <td>2.215466</td>\n",
       "      <td>0.707573</td>\n",
       "    </tr>\n",
       "  </tbody>\n",
       "</table>\n",
       "</div>"
      ],
      "text/plain": [
       "               experiment_id  bearing_2_id  timestamp      a2_x      a2_y  \\\n",
       "experiment_id                                                               \n",
       "1                        0.0           0.0       -1.2 -0.207130  0.227841   \n",
       "2                        0.0           0.0       -1.2 -0.097596  0.364910   \n",
       "3                        0.0           0.0       -1.2 -0.207138  0.340638   \n",
       "4                        0.0           0.0       -1.2 -0.386285  0.033154   \n",
       "5                        0.0           0.0       -1.2  0.129844  0.466833   \n",
       "6                        0.0           0.0       -1.2  1.350743  2.068770   \n",
       "7                        0.0           0.0       -1.2  1.073101  2.640435   \n",
       "8                        0.0           0.0       -1.2 -0.474831  0.172357   \n",
       "9                        0.0           0.0       -1.2  0.250420  0.676476   \n",
       "10                       0.0           0.0       -1.2  1.394071  3.229489   \n",
       "11                       0.0           0.0       -1.2 -0.570689  0.215715   \n",
       "12                       0.0           0.0       -1.2  0.897452  3.801765   \n",
       "13                       0.0           0.0       -1.2  0.317178  2.449968   \n",
       "14                       0.0           0.0       -1.2 -0.185470  0.400456   \n",
       "15                       0.0           0.0       -1.2 -0.422365  0.943063   \n",
       "16                       0.0           0.0       -1.2 -0.226301  0.494428   \n",
       "17                       0.0           0.0       -1.2  0.774643  2.808064   \n",
       "18                       0.0           0.0       -1.2 -0.073308  0.318408   \n",
       "19                       0.0           0.0       -1.2  2.361923  4.083598   \n",
       "20                       0.0           0.0       -1.2  0.251922 -0.001283   \n",
       "21                       0.0           0.0       -1.2  1.802917  2.090243   \n",
       "22                       0.0           0.0       -1.2 -0.031446 -0.098847   \n",
       "23                       0.0           0.0       -1.2  0.312858  0.428786   \n",
       "24                       0.0           0.0       -1.2  0.358605  1.726103   \n",
       "25                       0.0           0.0       -1.2  0.287080  1.414849   \n",
       "26                       0.0           0.0       -1.2  0.502038  0.706107   \n",
       "27                       0.0           0.0       -1.2  0.790566  1.024647   \n",
       "28                       0.0           0.0       -1.2  1.098556  1.818077   \n",
       "29                       0.0           0.0       -1.2  0.824906  2.186864   \n",
       "30                       0.0           0.0       -1.2  0.942401  0.892420   \n",
       "31                       0.0           0.0       -1.2  2.408933  2.888357   \n",
       "32                       0.0           0.0       -1.2  1.319613  2.429538   \n",
       "33                       0.0           0.0       -1.2  2.393589  4.077555   \n",
       "34                       0.0           0.0       -1.2  1.631073  1.943200   \n",
       "35                       0.0           0.0       -1.2  2.331928  4.872112   \n",
       "36                       0.0           0.0       -1.2  1.671685  1.634596   \n",
       "37                       0.0           0.0       -1.2  2.099039  2.905087   \n",
       "38                       0.0           0.0       -1.2  2.859976  2.024229   \n",
       "39                       0.0           0.0       -1.2  2.551799  1.849866   \n",
       "40                       0.0           0.0       -1.2  2.251584  1.571601   \n",
       "41                       0.0           0.0       -1.2  0.599934 -0.363361   \n",
       "42                       0.0           0.0       -1.2  0.660590  1.883512   \n",
       "43                       0.0           0.0       -1.2  0.722801  0.607353   \n",
       "44                       0.0           0.0       -1.2  1.484289  2.183056   \n",
       "45                       0.0           0.0       -1.2  0.109781  0.068469   \n",
       "46                       0.0           0.0       -1.2  0.933935  0.949217   \n",
       "47                       0.0           0.0       -1.2  0.807463  0.413868   \n",
       "48                       0.0           0.0       -1.2  0.732864  2.287528   \n",
       "49                       0.0           0.0       -1.2  0.824152  0.581066   \n",
       "50                       0.0           0.0       -1.2  0.624984  2.215466   \n",
       "\n",
       "                   a2_z  \n",
       "experiment_id            \n",
       "1              0.887165  \n",
       "2              1.315945  \n",
       "3              0.833997  \n",
       "4              0.779041  \n",
       "5              1.390131  \n",
       "6              1.148915  \n",
       "7              1.835286  \n",
       "8              0.654067  \n",
       "9              1.152544  \n",
       "10             1.740839  \n",
       "11             0.841368  \n",
       "12             1.854415  \n",
       "13             1.261867  \n",
       "14             1.002620  \n",
       "15             0.921834  \n",
       "16             1.792454  \n",
       "17             3.602007  \n",
       "18             0.485869  \n",
       "19             1.580569  \n",
       "20            -0.212845  \n",
       "21             2.173022  \n",
       "22             0.489192  \n",
       "23            -0.329927  \n",
       "24             0.984850  \n",
       "25             0.545072  \n",
       "26             0.162364  \n",
       "27             1.148462  \n",
       "28             1.323214  \n",
       "29             0.902410  \n",
       "30            -0.313251  \n",
       "31             1.693931  \n",
       "32             0.824552  \n",
       "33             2.438804  \n",
       "34             0.496891  \n",
       "35             1.838642  \n",
       "36             0.973830  \n",
       "37             2.099966  \n",
       "38             1.498266  \n",
       "39             1.208779  \n",
       "40             2.729357  \n",
       "41             0.046276  \n",
       "42             1.233454  \n",
       "43             0.202818  \n",
       "44             0.982040  \n",
       "45             3.014360  \n",
       "46             5.908450  \n",
       "47             1.932133  \n",
       "48             2.449059  \n",
       "49             3.258034  \n",
       "50             0.707573  "
      ]
     },
     "execution_count": 11,
     "metadata": {},
     "output_type": "execute_result"
    }
   ],
   "source": [
    "kurtosis_set.head(50)"
   ]
  },
  {
   "cell_type": "code",
   "execution_count": 23,
   "metadata": {},
   "outputs": [],
   "source": [
    "def rename_column(df,prefix):\n",
    "    column_name = list(df.columns)\n",
    "    column_name = [prefix + name for name in column_name]\n",
    "    return df.set_axis(column_name, axis=1)\n",
    "\n",
    "max_set = rename_column(max_set,\"max_\")\n",
    "min_set = rename_column(min_set,\"min_\")\n",
    "mean_set = rename_column(mean_set,\"mean_\")\n",
    "std_set = rename_column(std_set, 'std_')\n",
    "skew_set = rename_column(skew_set, 'skew_')\n",
    "kurtosis_set = rename_column(kurtosis_set, 'kurtosis_')\n"
   ]
  },
  {
   "cell_type": "code",
   "execution_count": 13,
   "metadata": {},
   "outputs": [
    {
     "name": "stdout",
     "output_type": "stream",
     "text": [
      "<class 'pandas.core.frame.DataFrame'>\n",
      "Int64Index: 112 entries, 1 to 112\n",
      "Data columns (total 5 columns):\n",
      " #   Column            Non-Null Count  Dtype  \n",
      "---  ------            --------------  -----  \n",
      " 0   max_bearing_2_id  112 non-null    int64  \n",
      " 1   max_timestamp     112 non-null    float64\n",
      " 2   max_a2_x          112 non-null    float64\n",
      " 3   max_a2_y          112 non-null    float64\n",
      " 4   max_a2_z          112 non-null    float64\n",
      "dtypes: float64(4), int64(1)\n",
      "memory usage: 5.2 KB\n",
      "<class 'pandas.core.frame.DataFrame'>\n",
      "Int64Index: 112 entries, 1 to 112\n",
      "Data columns (total 5 columns):\n",
      " #   Column            Non-Null Count  Dtype  \n",
      "---  ------            --------------  -----  \n",
      " 0   min_bearing_2_id  112 non-null    int64  \n",
      " 1   min_timestamp     112 non-null    float64\n",
      " 2   min_a2_x          112 non-null    float64\n",
      " 3   min_a2_y          112 non-null    float64\n",
      " 4   min_a2_z          112 non-null    float64\n",
      "dtypes: float64(4), int64(1)\n",
      "memory usage: 5.2 KB\n",
      "<class 'pandas.core.frame.DataFrame'>\n",
      "Int64Index: 112 entries, 1 to 112\n",
      "Data columns (total 5 columns):\n",
      " #   Column             Non-Null Count  Dtype  \n",
      "---  ------             --------------  -----  \n",
      " 0   mean_bearing_2_id  112 non-null    int64  \n",
      " 1   mean_timestamp     112 non-null    float64\n",
      " 2   mean_a2_x          112 non-null    float64\n",
      " 3   mean_a2_y          112 non-null    float64\n",
      " 4   mean_a2_z          112 non-null    float64\n",
      "dtypes: float64(4), int64(1)\n",
      "memory usage: 5.2 KB\n",
      "<class 'pandas.core.frame.DataFrame'>\n",
      "Int64Index: 112 entries, 1 to 112\n",
      "Data columns (total 5 columns):\n",
      " #   Column            Non-Null Count  Dtype  \n",
      "---  ------            --------------  -----  \n",
      " 0   std_bearing_2_id  112 non-null    float64\n",
      " 1   std_timestamp     112 non-null    float64\n",
      " 2   std_a2_x          112 non-null    float64\n",
      " 3   std_a2_y          112 non-null    float64\n",
      " 4   std_a2_z          112 non-null    float64\n",
      "dtypes: float64(5)\n",
      "memory usage: 5.2 KB\n",
      "<class 'pandas.core.frame.DataFrame'>\n",
      "Int64Index: 112 entries, 1 to 112\n",
      "Data columns (total 5 columns):\n",
      " #   Column             Non-Null Count  Dtype  \n",
      "---  ------             --------------  -----  \n",
      " 0   skew_bearing_2_id  112 non-null    float64\n",
      " 1   skew_timestamp     112 non-null    float64\n",
      " 2   skew_a2_x          112 non-null    float64\n",
      " 3   skew_a2_y          112 non-null    float64\n",
      " 4   skew_a2_z          112 non-null    float64\n",
      "dtypes: float64(5)\n",
      "memory usage: 5.2 KB\n",
      "<class 'pandas.core.frame.DataFrame'>\n",
      "Int64Index: 112 entries, 1 to 112\n",
      "Data columns (total 6 columns):\n",
      " #   Column                  Non-Null Count  Dtype  \n",
      "---  ------                  --------------  -----  \n",
      " 0   kurtosis_experiment_id  112 non-null    float64\n",
      " 1   kurtosis_bearing_2_id   112 non-null    float64\n",
      " 2   kurtosis_timestamp      112 non-null    float64\n",
      " 3   kurtosis_a2_x           112 non-null    float64\n",
      " 4   kurtosis_a2_y           112 non-null    float64\n",
      " 5   kurtosis_a2_z           112 non-null    float64\n",
      "dtypes: float64(6)\n",
      "memory usage: 6.1 KB\n"
     ]
    },
    {
     "data": {
      "text/plain": [
       "(None, None, None, None, None, None)"
      ]
     },
     "execution_count": 13,
     "metadata": {},
     "output_type": "execute_result"
    }
   ],
   "source": [
    "max_set.info(), min_set.info(), mean_set.info(), std_set.info(), skew_set.info(), kurtosis_set.info()"
   ]
  },
  {
   "cell_type": "code",
   "execution_count": 24,
   "metadata": {},
   "outputs": [
    {
     "ename": "TypeError",
     "evalue": "cannot concatenate object of type '<class 'pandas.core.groupby.generic.DataFrameGroupBy'>'; only Series and DataFrame objs are valid",
     "output_type": "error",
     "traceback": [
      "\u001b[0;31m---------------------------------------------------------------------------\u001b[0m",
      "\u001b[0;31mTypeError\u001b[0m                                 Traceback (most recent call last)",
      "\u001b[0;32m<ipython-input-24-5f737ba0d6d8>\u001b[0m in \u001b[0;36m<module>\u001b[0;34m\u001b[0m\n\u001b[0;32m----> 1\u001b[0;31m \u001b[0mdf_mmm\u001b[0m \u001b[0;34m=\u001b[0m \u001b[0mpd\u001b[0m\u001b[0;34m.\u001b[0m\u001b[0mconcat\u001b[0m\u001b[0;34m(\u001b[0m\u001b[0;34m[\u001b[0m\u001b[0mmin_set\u001b[0m\u001b[0;34m,\u001b[0m \u001b[0mmax_set\u001b[0m\u001b[0;34m,\u001b[0m \u001b[0mmean_set\u001b[0m\u001b[0;34m,\u001b[0m \u001b[0mstd_set\u001b[0m\u001b[0;34m,\u001b[0m \u001b[0mskew_set\u001b[0m\u001b[0;34m,\u001b[0m\u001b[0mkurtosis_set\u001b[0m\u001b[0;34m,\u001b[0m\u001b[0mdf_freq\u001b[0m\u001b[0;34m]\u001b[0m\u001b[0;34m,\u001b[0m \u001b[0maxis\u001b[0m\u001b[0;34m=\u001b[0m\u001b[0;36m1\u001b[0m\u001b[0;34m)\u001b[0m\u001b[0;34m\u001b[0m\u001b[0;34m\u001b[0m\u001b[0m\n\u001b[0m\u001b[1;32m      2\u001b[0m \u001b[0mdf_mmm\u001b[0m\u001b[0;34m.\u001b[0m\u001b[0minfo\u001b[0m\u001b[0;34m(\u001b[0m\u001b[0;34m)\u001b[0m\u001b[0;34m\u001b[0m\u001b[0;34m\u001b[0m\u001b[0m\n",
      "\u001b[0;32m~/opt/anaconda3/lib/python3.8/site-packages/pandas/core/reshape/concat.py\u001b[0m in \u001b[0;36mconcat\u001b[0;34m(objs, axis, join, ignore_index, keys, levels, names, verify_integrity, sort, copy)\u001b[0m\n\u001b[1;32m    272\u001b[0m     \u001b[0mValueError\u001b[0m\u001b[0;34m:\u001b[0m \u001b[0mIndexes\u001b[0m \u001b[0mhave\u001b[0m \u001b[0moverlapping\u001b[0m \u001b[0mvalues\u001b[0m\u001b[0;34m:\u001b[0m \u001b[0;34m[\u001b[0m\u001b[0;34m'a'\u001b[0m\u001b[0;34m]\u001b[0m\u001b[0;34m\u001b[0m\u001b[0;34m\u001b[0m\u001b[0m\n\u001b[1;32m    273\u001b[0m     \"\"\"\n\u001b[0;32m--> 274\u001b[0;31m     op = _Concatenator(\n\u001b[0m\u001b[1;32m    275\u001b[0m         \u001b[0mobjs\u001b[0m\u001b[0;34m,\u001b[0m\u001b[0;34m\u001b[0m\u001b[0;34m\u001b[0m\u001b[0m\n\u001b[1;32m    276\u001b[0m         \u001b[0maxis\u001b[0m\u001b[0;34m=\u001b[0m\u001b[0maxis\u001b[0m\u001b[0;34m,\u001b[0m\u001b[0;34m\u001b[0m\u001b[0;34m\u001b[0m\u001b[0m\n",
      "\u001b[0;32m~/opt/anaconda3/lib/python3.8/site-packages/pandas/core/reshape/concat.py\u001b[0m in \u001b[0;36m__init__\u001b[0;34m(self, objs, axis, join, keys, levels, names, ignore_index, verify_integrity, copy, sort)\u001b[0m\n\u001b[1;32m    357\u001b[0m                     \u001b[0;34m\"only Series and DataFrame objs are valid\"\u001b[0m\u001b[0;34m\u001b[0m\u001b[0;34m\u001b[0m\u001b[0m\n\u001b[1;32m    358\u001b[0m                 )\n\u001b[0;32m--> 359\u001b[0;31m                 \u001b[0;32mraise\u001b[0m \u001b[0mTypeError\u001b[0m\u001b[0;34m(\u001b[0m\u001b[0mmsg\u001b[0m\u001b[0;34m)\u001b[0m\u001b[0;34m\u001b[0m\u001b[0;34m\u001b[0m\u001b[0m\n\u001b[0m\u001b[1;32m    360\u001b[0m \u001b[0;34m\u001b[0m\u001b[0m\n\u001b[1;32m    361\u001b[0m             \u001b[0;31m# consolidate\u001b[0m\u001b[0;34m\u001b[0m\u001b[0;34m\u001b[0m\u001b[0;34m\u001b[0m\u001b[0m\n",
      "\u001b[0;31mTypeError\u001b[0m: cannot concatenate object of type '<class 'pandas.core.groupby.generic.DataFrameGroupBy'>'; only Series and DataFrame objs are valid"
     ]
    }
   ],
   "source": [
    "df_mmm = pd.concat([min_set, max_set, mean_set, std_set, skew_set,kurtosis_set,df_freq], axis=1)\n",
    "df_mmm.info()"
   ]
  },
  {
   "cell_type": "code",
   "execution_count": 15,
   "metadata": {},
   "outputs": [
    {
     "data": {
      "text/plain": [
       "Index(['min_bearing_2_id', 'min_timestamp', 'min_a2_x', 'min_a2_y', 'min_a2_z',\n",
       "       'max_bearing_2_id', 'max_timestamp', 'max_a2_x', 'max_a2_y', 'max_a2_z',\n",
       "       'mean_bearing_2_id', 'mean_timestamp', 'mean_a2_x', 'mean_a2_y',\n",
       "       'mean_a2_z', 'std_bearing_2_id', 'std_timestamp', 'std_a2_x',\n",
       "       'std_a2_y', 'std_a2_z', 'skew_bearing_2_id', 'skew_timestamp',\n",
       "       'skew_a2_x', 'skew_a2_y', 'skew_a2_z', 'kurtosis_experiment_id',\n",
       "       'kurtosis_bearing_2_id', 'kurtosis_timestamp', 'kurtosis_a2_x',\n",
       "       'kurtosis_a2_y', 'kurtosis_a2_z'],\n",
       "      dtype='object')"
      ]
     },
     "execution_count": 15,
     "metadata": {},
     "output_type": "execute_result"
    }
   ],
   "source": [
    "df_mmm.columns"
   ]
  },
  {
   "cell_type": "code",
   "execution_count": 16,
   "metadata": {},
   "outputs": [],
   "source": [
    "df_mmm = df_mmm.drop(['max_bearing_2_id','mean_bearing_2_id',\n",
    "                      'min_bearing_2_id','kurtosis_bearing_2_id', \n",
    "                      'kurtosis_timestamp','skew_bearing_2_id', 'skew_timestamp',\n",
    "                      'std_bearing_2_id','std_timestamp', 'mean_bearing_2_id', 'mean_timestamp',\n",
    "                      'min_timestamp','kurtosis_experiment_id'\n",
    "                     ], axis = 1)\n"
   ]
  },
  {
   "cell_type": "code",
   "execution_count": 17,
   "metadata": {},
   "outputs": [
    {
     "name": "stdout",
     "output_type": "stream",
     "text": [
      "<class 'pandas.core.frame.DataFrame'>\n",
      "Int64Index: 112 entries, 1 to 112\n",
      "Data columns (total 19 columns):\n",
      " #   Column         Non-Null Count  Dtype  \n",
      "---  ------         --------------  -----  \n",
      " 0   min_a2_x       112 non-null    float64\n",
      " 1   min_a2_y       112 non-null    float64\n",
      " 2   min_a2_z       112 non-null    float64\n",
      " 3   max_timestamp  112 non-null    float64\n",
      " 4   max_a2_x       112 non-null    float64\n",
      " 5   max_a2_y       112 non-null    float64\n",
      " 6   max_a2_z       112 non-null    float64\n",
      " 7   mean_a2_x      112 non-null    float64\n",
      " 8   mean_a2_y      112 non-null    float64\n",
      " 9   mean_a2_z      112 non-null    float64\n",
      " 10  std_a2_x       112 non-null    float64\n",
      " 11  std_a2_y       112 non-null    float64\n",
      " 12  std_a2_z       112 non-null    float64\n",
      " 13  skew_a2_x      112 non-null    float64\n",
      " 14  skew_a2_y      112 non-null    float64\n",
      " 15  skew_a2_z      112 non-null    float64\n",
      " 16  kurtosis_a2_x  112 non-null    float64\n",
      " 17  kurtosis_a2_y  112 non-null    float64\n",
      " 18  kurtosis_a2_z  112 non-null    float64\n",
      "dtypes: float64(19)\n",
      "memory usage: 17.5 KB\n"
     ]
    }
   ],
   "source": [
    "df_mmm.info()"
   ]
  },
  {
   "cell_type": "markdown",
   "metadata": {},
   "source": [
    "## End"
   ]
  },
  {
   "cell_type": "markdown",
   "metadata": {},
   "source": [
    "## PLOTS"
   ]
  },
  {
   "cell_type": "code",
   "execution_count": 25,
   "metadata": {},
   "outputs": [
    {
     "name": "stdout",
     "output_type": "stream",
     "text": [
      "<class 'pandas.core.frame.DataFrame'>\n",
      "Int64Index: 112 entries, 1 to 112\n",
      "Data columns (total 5 columns):\n",
      " #   Column            Non-Null Count  Dtype  \n",
      "---  ------            --------------  -----  \n",
      " 0   max_bearing_2_id  112 non-null    int64  \n",
      " 1   max_timestamp     112 non-null    float64\n",
      " 2   max_a2_x          112 non-null    float64\n",
      " 3   max_a2_y          112 non-null    float64\n",
      " 4   max_a2_z          112 non-null    float64\n",
      "dtypes: float64(4), int64(1)\n",
      "memory usage: 5.2 KB\n"
     ]
    },
    {
     "data": {
      "text/plain": [
       "Index(['bearing_2_id_max', 'timestamp_max', 'a2_x_max', 'a2_y_max',\n",
       "       'a2_z_max'],\n",
       "      dtype='object')"
      ]
     },
     "execution_count": 25,
     "metadata": {},
     "output_type": "execute_result"
    }
   ],
   "source": [
    "max_set.info()\n",
    "df_max = max_set.set_axis(['bearing_2_id_max','timestamp_max','a2_x_max', 'a2_y_max', 'a2_z_max'], axis=1)\n",
    "df_max.columns"
   ]
  },
  {
   "cell_type": "code",
   "execution_count": null,
   "metadata": {},
   "outputs": [],
   "source": [
    "sns.lineplot(data = df_mean, y='a2_x_mean', x='timestamp_mean')\n",
    "plt.title('X axis bearing 2s - mean')\n",
    "plt.show()"
   ]
  },
  {
   "cell_type": "code",
   "execution_count": null,
   "metadata": {},
   "outputs": [],
   "source": [
    "sns.lineplot(data = df_mean, y='a2_z_mean', x='timestamp_mean')\n",
    "plt.title('X axis bearing 2s - mean')\n",
    "plt.show()"
   ]
  },
  {
   "cell_type": "code",
   "execution_count": null,
   "metadata": {},
   "outputs": [],
   "source": [
    "sns.lineplot(data = df_mean, y='a2_y_mean', x='timestamp_mean')\n",
    "plt.title('X axis bearing 2s - mean')\n",
    "plt.show()"
   ]
  },
  {
   "cell_type": "code",
   "execution_count": null,
   "metadata": {},
   "outputs": [],
   "source": [
    "sns.lineplot(data = df_mean, y='a2_z_mean', x='timestamp_mean', hue = 'experemint_id')\n",
    "plt.title('X axis bearing 2s - mean per experiment')\n",
    "plt.show()"
   ]
  },
  {
   "cell_type": "code",
   "execution_count": null,
   "metadata": {},
   "outputs": [],
   "source": [
    "sns.lineplot(data = df_mean, y='a2_z_mean', x='timestamp_mean')\n",
    "plt.title('X axis bearing 2s - mean')\n",
    "plt.show()"
   ]
  },
  {
   "cell_type": "code",
   "execution_count": null,
   "metadata": {},
   "outputs": [],
   "source": [
    "df_mean.columns"
   ]
  },
  {
   "cell_type": "code",
   "execution_count": null,
   "metadata": {},
   "outputs": [],
   "source": [
    "plt.figure(figsize = (10,10))\n",
    "sns.lineplot(data = df_mean, y='timestamp_mean', x='a2_x_mean', hue = 'index')\n",
    "plt.title('X axis bearing1s')\n",
    "plt.show()"
   ]
  },
  {
   "cell_type": "code",
   "execution_count": null,
   "metadata": {},
   "outputs": [],
   "source": []
  },
  {
   "cell_type": "markdown",
   "metadata": {},
   "source": [
    "## Fitting and training a model"
   ]
  },
  {
   "cell_type": "code",
   "execution_count": 18,
   "metadata": {},
   "outputs": [],
   "source": [
    "from sklearn.pipeline import make_pipeline\n",
    "from sklearn.compose import ColumnTransformer\n",
    "from sklearn.impute import SimpleImputer\n",
    "from sklearn.preprocessing import StandardScaler\n",
    "from sklearn.preprocessing import OneHotEncoder, OrdinalEncoder\n",
    "from sklearn.tree import DecisionTreeClassifier\n",
    "from sklearn.ensemble import RandomForestClassifier\n",
    "from sklearn.linear_model import LogisticRegression, LinearRegression\n",
    "from sklearn.preprocessing import MinMaxScaler\n",
    "from sklearn.feature_selection import SelectKBest,chi2\n",
    "from sklearn.model_selection import train_test_split"
   ]
  },
  {
   "cell_type": "code",
   "execution_count": 19,
   "metadata": {},
   "outputs": [
    {
     "data": {
      "text/plain": [
       "<AxesSubplot:>"
      ]
     },
     "execution_count": 19,
     "metadata": {},
     "output_type": "execute_result"
    },
    {
     "data": {
      "image/png": "[encoded data removed]",
      "text/plain": [
       "<Figure size 864x864 with 2 Axes>"
      ]
     },
     "metadata": {
      "needs_background": "light"
     },
     "output_type": "display_data"
    }
   ],
   "source": [
    "plt.figure(figsize=(12,12))\n",
    "sns.heatmap(df_mmm.corr(),annot = True)"
   ]
  },
  {
   "cell_type": "code",
   "execution_count": 20,
   "metadata": {},
   "outputs": [
    {
     "data": {
      "text/plain": [
       "((112, 19), (113, 2))"
      ]
     },
     "execution_count": 20,
     "metadata": {},
     "output_type": "execute_result"
    }
   ],
   "source": [
    "df_mmm.shape, df_test.shape"
   ]
  },
  {
   "cell_type": "code",
   "execution_count": 21,
   "metadata": {},
   "outputs": [
    {
     "data": {
      "text/html": [
       "<div>\n",
       "<style scoped>\n",
       "    .dataframe tbody tr th:only-of-type {\n",
       "        vertical-align: middle;\n",
       "    }\n",
       "\n",
       "    .dataframe tbody tr th {\n",
       "        vertical-align: top;\n",
       "    }\n",
       "\n",
       "    .dataframe thead th {\n",
       "        text-align: right;\n",
       "    }\n",
       "</style>\n",
       "<table border=\"1\" class=\"dataframe\">\n",
       "  <thead>\n",
       "    <tr style=\"text-align: right;\">\n",
       "      <th></th>\n",
       "      <th>bearing_id</th>\n",
       "      <th>status</th>\n",
       "    </tr>\n",
       "  </thead>\n",
       "  <tbody>\n",
       "    <tr>\n",
       "      <th>1</th>\n",
       "      <td>1</td>\n",
       "      <td>0</td>\n",
       "    </tr>\n",
       "    <tr>\n",
       "      <th>2</th>\n",
       "      <td>2</td>\n",
       "      <td>0</td>\n",
       "    </tr>\n",
       "    <tr>\n",
       "      <th>3</th>\n",
       "      <td>3</td>\n",
       "      <td>0</td>\n",
       "    </tr>\n",
       "    <tr>\n",
       "      <th>4</th>\n",
       "      <td>4</td>\n",
       "      <td>0</td>\n",
       "    </tr>\n",
       "    <tr>\n",
       "      <th>5</th>\n",
       "      <td>5</td>\n",
       "      <td>0</td>\n",
       "    </tr>\n",
       "  </tbody>\n",
       "</table>\n",
       "</div>"
      ],
      "text/plain": [
       "   bearing_id  status\n",
       "1           1       0\n",
       "2           2       0\n",
       "3           3       0\n",
       "4           4       0\n",
       "5           5       0"
      ]
     },
     "execution_count": 21,
     "metadata": {},
     "output_type": "execute_result"
    }
   ],
   "source": [
    "df_test.drop(index=df_test.index[0], \n",
    "        axis=0, \n",
    "        inplace=True)\n",
    "df_test.head()"
   ]
  },
  {
   "cell_type": "code",
   "execution_count": 22,
   "metadata": {},
   "outputs": [],
   "source": [
    "X = df_mmm\n",
    "y = df_test['status']"
   ]
  },
  {
   "cell_type": "code",
   "execution_count": 23,
   "metadata": {},
   "outputs": [
    {
     "data": {
      "text/plain": [
       "(112, 19)"
      ]
     },
     "execution_count": 23,
     "metadata": {},
     "output_type": "execute_result"
    }
   ],
   "source": [
    "X.shape"
   ]
  },
  {
   "cell_type": "code",
   "execution_count": 24,
   "metadata": {},
   "outputs": [
    {
     "data": {
      "text/plain": [
       "(112,)"
      ]
     },
     "execution_count": 24,
     "metadata": {},
     "output_type": "execute_result"
    }
   ],
   "source": [
    "y.shape"
   ]
  },
  {
   "cell_type": "code",
   "execution_count": 25,
   "metadata": {},
   "outputs": [],
   "source": [
    "X_train, X_test, y_train, y_test = train_test_split(X, y, test_size = 0.3, random_state = 41)"
   ]
  },
  {
   "cell_type": "code",
   "execution_count": 26,
   "metadata": {},
   "outputs": [
    {
     "data": {
      "text/plain": [
       "(78, 19)"
      ]
     },
     "execution_count": 26,
     "metadata": {},
     "output_type": "execute_result"
    }
   ],
   "source": [
    "X_train.shape"
   ]
  },
  {
   "cell_type": "code",
   "execution_count": null,
   "metadata": {},
   "outputs": [],
   "source": []
  },
  {
   "cell_type": "code",
   "execution_count": 27,
   "metadata": {
    "scrolled": false
   },
   "outputs": [
    {
     "name": "stdout",
     "output_type": "stream",
     "text": [
      "                                 OLS Regression Results                                \n",
      "=======================================================================================\n",
      "Dep. Variable:                 status   R-squared (uncentered):                   0.443\n",
      "Model:                            OLS   Adj. R-squared (uncentered):              0.329\n",
      "Method:                 Least Squares   F-statistic:                              3.894\n",
      "Date:                Fri, 30 Jul 2021   Prob (F-statistic):                    5.40e-06\n",
      "Time:                        14:25:28   Log-Likelihood:                         -1.0619\n",
      "No. Observations:                 112   AIC:                                      40.12\n",
      "Df Residuals:                      93   BIC:                                      91.78\n",
      "Df Model:                          19                                                  \n",
      "Covariance Type:            nonrobust                                                  \n",
      "=================================================================================\n",
      "                    coef    std err          t      P>|t|      [0.025      0.975]\n",
      "---------------------------------------------------------------------------------\n",
      "min_a2_x          0.0335      0.029      1.152      0.252      -0.024       0.091\n",
      "min_a2_y          0.0291      0.027      1.060      0.292      -0.025       0.084\n",
      "min_a2_z          0.0035      0.021      0.163      0.871      -0.039       0.046\n",
      "max_timestamp     0.0118      0.005      2.357      0.021       0.002       0.022\n",
      "max_a2_x         -0.0032      0.030     -0.108      0.915      -0.063       0.057\n",
      "max_a2_y         -0.0237      0.027     -0.884      0.379      -0.077       0.030\n",
      "max_a2_z         -0.0119      0.022     -0.554      0.581      -0.055       0.031\n",
      "mean_a2_x         0.2480      0.145      1.707      0.091      -0.040       0.536\n",
      "mean_a2_y         0.1010      0.137      0.736      0.464      -0.172       0.374\n",
      "mean_a2_z        -0.1217      0.140     -0.870      0.386      -0.399       0.156\n",
      "std_a2_x          0.1211      0.168      0.720      0.474      -0.213       0.455\n",
      "std_a2_y          0.1301      0.142      0.918      0.361      -0.151       0.412\n",
      "std_a2_z          0.0706      0.076      0.932      0.354      -0.080       0.221\n",
      "skew_a2_x        -0.1246      0.173     -0.722      0.472      -0.467       0.218\n",
      "skew_a2_y        -0.1573      0.185     -0.853      0.396      -0.524       0.209\n",
      "skew_a2_z        -0.1799      0.156     -1.151      0.253      -0.490       0.131\n",
      "kurtosis_a2_x     0.1452      0.074      1.967      0.052      -0.001       0.292\n",
      "kurtosis_a2_y     0.0024      0.066      0.037      0.971      -0.129       0.133\n",
      "kurtosis_a2_z     0.0740      0.035      2.101      0.038       0.004       0.144\n",
      "==============================================================================\n",
      "Omnibus:                       25.953   Durbin-Watson:                   0.711\n",
      "Prob(Omnibus):                  0.000   Jarque-Bera (JB):               36.473\n",
      "Skew:                           1.158   Prob(JB):                     1.20e-08\n",
      "Kurtosis:                       4.567   Cond. No.                         376.\n",
      "==============================================================================\n",
      "\n",
      "Notes:\n",
      "[1] R² is computed without centering (uncentered) since the model does not contain a constant.\n",
      "[2] Standard Errors assume that the covariance matrix of the errors is correctly specified.\n"
     ]
    },
    {
     "data": {
      "text/plain": [
       "experiment_id\n",
       "1      0.069269\n",
       "2      0.151384\n",
       "3      0.007800\n",
       "4      0.017441\n",
       "5      0.057292\n",
       "         ...   \n",
       "108    0.511060\n",
       "109    0.383534\n",
       "110    0.302579\n",
       "111    0.471598\n",
       "112    0.348696\n",
       "Length: 112, dtype: float64"
      ]
     },
     "execution_count": 27,
     "metadata": {},
     "output_type": "execute_result"
    }
   ],
   "source": [
    "\n",
    "\n",
    "model = sm.OLS(y, X).fit()\n",
    "predictions = model.predict(X) \n",
    "\n",
    "print_model = model.summary()\n",
    "print(print_model)\n",
    "predictions"
   ]
  },
  {
   "cell_type": "code",
   "execution_count": 28,
   "metadata": {},
   "outputs": [
    {
     "name": "stdout",
     "output_type": "stream",
     "text": [
      "[ 0.   0.   0.   0.  -1.2]\n",
      "Average 5-Fold CV Score: -0.24000000000000005\n"
     ]
    }
   ],
   "source": [
    "from sklearn.linear_model import LinearRegression\n",
    "from sklearn.model_selection import cross_val_score\n",
    "\n",
    "# Create a linear regression object: reg\n",
    "reg = LinearRegression()\n",
    "\n",
    "# Compute 5-fold cross-validation scores: cv_scores\n",
    "cv_scores = cross_val_score(reg, X, y, cv = 5)\n",
    "\n",
    "# Print the 5-fold cross-validation scores\n",
    "print(cv_scores)\n",
    "\n",
    "print(\"Average 5-Fold CV Score: {}\".format(np.mean(cv_scores)))"
   ]
  },
  {
   "cell_type": "code",
   "execution_count": 39,
   "metadata": {},
   "outputs": [
    {
     "name": "stdout",
     "output_type": "stream",
     "text": [
      "Accuracy: 0.8235294117647058\n",
      "              precision    recall  f1-score   support\n",
      "\n",
      "           0       0.82      1.00      0.90        28\n",
      "           1       0.00      0.00      0.00         6\n",
      "\n",
      "    accuracy                           0.82        34\n",
      "   macro avg       0.41      0.50      0.45        34\n",
      "weighted avg       0.68      0.82      0.74        34\n",
      "\n",
      "[0.83333333 0.83333333 0.83333333 1.         1.         1.\n",
      " 1.         1.         1.         1.         1.         1.\n",
      " 0.8        0.8        0.8       ]\n",
      "0.9266666666666669\n",
      "\n",
      "confusion matrix\n",
      "[[28  0]\n",
      " [ 6  0]]\n"
     ]
    },
    {
     "name": "stderr",
     "output_type": "stream",
     "text": [
      "/Users/jacquesdeclercq/opt/anaconda3/lib/python3.8/site-packages/sklearn/metrics/_classification.py:1221: UndefinedMetricWarning: Precision and F-score are ill-defined and being set to 0.0 in labels with no predicted samples. Use `zero_division` parameter to control this behavior.\n",
      "  _warn_prf(average, modifier, msg_start, len(result))\n",
      "/Users/jacquesdeclercq/opt/anaconda3/lib/python3.8/site-packages/sklearn/model_selection/_split.py:670: UserWarning: The least populated class in y has only 6 members, which is less than n_splits=15.\n",
      "  warnings.warn((\"The least populated class in y has only %d\"\n"
     ]
    }
   ],
   "source": [
    "from sklearn.svm import SVC\n",
    "\n",
    "svc = SVC(probability = True)\n",
    "svc.fit(X_train, y_train)\n",
    "y_pred = svc.predict(X_test)\n",
    "\n",
    "print(\"Accuracy:\",accuracy_score(y_test, y_pred))\n",
    "print(classification_report(y_test,y_pred))\n",
    "cv = cross_val_score(svc,X_train,y_train,cv=15)\n",
    "print(cv)\n",
    "print(cv.mean())\n",
    "print()\n",
    "print('confusion matrix')\n",
    "print(confusion_matrix(y_test, y_pred))"
   ]
  },
  {
   "cell_type": "code",
   "execution_count": 30,
   "metadata": {},
   "outputs": [],
   "source": [
    "param_grid = {\n",
    "    'n_estimators':[200,150,100,50],\n",
    "    'criterion':['gini','entropy'],\n",
    "    'max_depth':[2,4,6,8]\n",
    "}"
   ]
  },
  {
   "cell_type": "code",
   "execution_count": 31,
   "metadata": {},
   "outputs": [],
   "source": [
    "from sklearn.tree import DecisionTreeClassifier\n",
    "from sklearn.metrics import confusion_matrix, accuracy_score, classification_report\n",
    "from sklearn.model_selection import GridSearchCV\n",
    "from sklearn.model_selection import cross_val_score\n",
    "\n",
    "Model_rf = RandomForestClassifier()\n",
    "grid = GridSearchCV(estimator=Model_rf, param_grid=param_grid, n_jobs=-1)\n",
    "grid.fit(X_train, y_train)\n",
    "Model_rf = grid.best_estimator_"
   ]
  },
  {
   "cell_type": "code",
   "execution_count": 32,
   "metadata": {},
   "outputs": [
    {
     "name": "stdout",
     "output_type": "stream",
     "text": [
      "The accuracy of RandomForestC Model is 91.17647058823529 %\n",
      "The Classification Rapport,                precision    recall  f1-score   support\n",
      "\n",
      "           0       0.90      1.00      0.95        28\n",
      "           1       1.00      0.50      0.67         6\n",
      "\n",
      "    accuracy                           0.91        34\n",
      "   macro avg       0.95      0.75      0.81        34\n",
      "weighted avg       0.92      0.91      0.90        34\n",
      "\n",
      "\n",
      "The confusion matrix\n"
     ]
    },
    {
     "data": {
      "text/plain": [
       "array([[28,  0],\n",
       "       [ 3,  3]])"
      ]
     },
     "execution_count": 32,
     "metadata": {},
     "output_type": "execute_result"
    }
   ],
   "source": [
    "y_pred_train = Model_rf.predict(X_test)\n",
    "training_data_accuracy_rf = accuracy_score(y_test, y_pred_train)\n",
    "\n",
    "print(\"The accuracy of RandomForestC Model is\", (training_data_accuracy_rf*100), '%')\n",
    "print('The Classification Rapport, ', (classification_report(y_test, y_pred_train)))\n",
    "print()\n",
    "print('The confusion matrix')\n",
    "confusion_matrix(y_test, y_pred_train)"
   ]
  },
  {
   "cell_type": "code",
   "execution_count": 33,
   "metadata": {},
   "outputs": [],
   "source": [
    "rf = RandomForestClassifier(criterion='entropy', max_depth=6)"
   ]
  },
  {
   "cell_type": "code",
   "execution_count": 34,
   "metadata": {},
   "outputs": [
    {
     "name": "stdout",
     "output_type": "stream",
     "text": [
      "0.9411764705882353\n",
      "1.0\n"
     ]
    }
   ],
   "source": [
    "rf.fit(X_train, y_train)\n",
    "y_pred = rf.predict(X_test)\n",
    "print(accuracy_score(y_pred, y_test))\n",
    "y_train_pre = rf.predict(X_train)\n",
    "print(accuracy_score(y_train_pre, y_train))"
   ]
  },
  {
   "cell_type": "code",
   "execution_count": 36,
   "metadata": {},
   "outputs": [
    {
     "name": "stderr",
     "output_type": "stream",
     "text": [
      "/Users/jacquesdeclercq/opt/anaconda3/lib/python3.8/site-packages/sklearn/model_selection/_split.py:670: UserWarning: The least populated class in y has only 6 members, which is less than n_splits=10.\n",
      "  warnings.warn((\"The least populated class in y has only %d\"\n"
     ]
    },
    {
     "name": "stdout",
     "output_type": "stream",
     "text": [
      "Scores: [1.    1.    0.875 1.    1.    0.875 0.875 1.    1.    1.   ]\n",
      "Mean: 0.9625\n",
      "Standard Deviation: 0.057282196186948006\n",
      "Variation: 0.0032812500000000003\n",
      "Accuracy_score 1.0\n"
     ]
    }
   ],
   "source": [
    "scores = cross_val_score(rf, X_train, y_train, cv=10, scoring = \"accuracy\")\n",
    "print(\"Scores:\", scores)\n",
    "print(\"Mean:\", scores.mean())\n",
    "print(\"Standard Deviation:\", scores.std())\n",
    "print(\"Variation:\", scores.var())\n",
    "print(\"Accuracy_score\", accuracy_score(y_train_pre, y_train))"
   ]
  },
  {
   "cell_type": "code",
   "execution_count": 37,
   "metadata": {},
   "outputs": [],
   "source": [
    "importances = pd.DataFrame({'feature':X_train.columns,'importance':np.round(Model_rf.feature_importances_,3)})"
   ]
  },
  {
   "cell_type": "code",
   "execution_count": 38,
   "metadata": {},
   "outputs": [
    {
     "data": {
      "text/plain": [
       "<AxesSubplot:xlabel='feature'>"
      ]
     },
     "execution_count": 38,
     "metadata": {},
     "output_type": "execute_result"
    },
    {
     "data": {
      "image/png": "[encoded data removed]",
      "text/plain": [
       "<Figure size 1080x432 with 1 Axes>"
      ]
     },
     "metadata": {
      "needs_background": "light"
     },
     "output_type": "display_data"
    }
   ],
   "source": [
    "importances1 = importances.sort_values('importance',ascending=False).set_index('feature')\n",
    "importances1.plot(kind='bar',figsize=(15,6))"
   ]
  },
  {
   "cell_type": "code",
   "execution_count": null,
   "metadata": {},
   "outputs": [],
   "source": []
  },
  {
   "cell_type": "code",
   "execution_count": null,
   "metadata": {},
   "outputs": [],
   "source": []
  },
  {
   "cell_type": "code",
   "execution_count": null,
   "metadata": {},
   "outputs": [],
   "source": []
  },
  {
   "cell_type": "code",
   "execution_count": null,
   "metadata": {},
   "outputs": [],
   "source": []
  },
  {
   "cell_type": "code",
   "execution_count": null,
   "metadata": {},
   "outputs": [],
   "source": []
  },
  {
   "cell_type": "code",
   "execution_count": null,
   "metadata": {},
   "outputs": [],
   "source": []
  }
 ],
 "metadata": {
  "kernelspec": {
   "display_name": "Python 3",
   "language": "python",
   "name": "python3"
  },
  "language_info": {
   "codemirror_mode": {
    "name": "ipython",
    "version": 3
   },
   "file_extension": ".py",
   "mimetype": "text/x-python",
   "name": "python",
   "nbconvert_exporter": "python",
   "pygments_lexer": "ipython3",
   "version": "3.8.5"
  }
 },
 "nbformat": 4,
 "nbformat_minor": 4
}
