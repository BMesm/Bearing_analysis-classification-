{
 "cells": [
  {
   "cell_type": "code",
   "execution_count": 1,
   "metadata": {},
   "outputs": [],
   "source": [
    "import pandas as pd\n",
    "import numpy as np\n",
    "import matplotlib.pyplot as plt\n",
    "from matplotlib.pyplot import style\n",
    "from scipy import fftpack\n",
    "import seaborn as sns\n",
    "style.use('seaborn')"
   ]
  },
  {
   "cell_type": "code",
   "execution_count": 2,
   "metadata": {},
   "outputs": [],
   "source": [
    "target_set = pd.read_csv(\"assets/bearing_classes.csv\",sep=\";\")\n",
    "origin_set = pd.read_csv(\"assets/bearing_signals.csv\")"
   ]
  },
  {
   "cell_type": "code",
   "execution_count": 3,
   "metadata": {},
   "outputs": [],
   "source": [
    "def rename_column(df,prefix):\n",
    "    column_name = list(df.columns)\n",
    "    column_name = [prefix + name for name in column_name]\n",
    "    return df.set_axis(column_name, axis=1)"
   ]
  },
  {
   "cell_type": "code",
   "execution_count": 4,
   "metadata": {},
   "outputs": [],
   "source": [
    "df_train = origin_set.drop(['experiment_id','bearing_1_id', 'timestamp'],axis=1)"
   ]
  },
  {
   "cell_type": "code",
   "execution_count": 5,
   "metadata": {},
   "outputs": [
    {
     "data": {
      "text/plain": [
       "Index(['bearing_2_id', 'a1_x', 'a1_y', 'a1_z', 'a2_x', 'a2_y', 'a2_z', 'rpm',\n",
       "       'hz', 'w'],\n",
       "      dtype='object')"
      ]
     },
     "execution_count": 5,
     "metadata": {},
     "output_type": "execute_result"
    }
   ],
   "source": [
    "df_train.columns"
   ]
  },
  {
   "cell_type": "code",
   "execution_count": 7,
   "metadata": {},
   "outputs": [],
   "source": [
    "max_set = df_train.groupby(['bearing_2_id']).max()\n",
    "max_set = rename_column(max_set,\"max_\")\n",
    "min_set = df_train.groupby(['bearing_2_id']).min()\n",
    "min_set = rename_column(min_set,\"min_\")\n",
    "mean_set = df_train.groupby(['bearing_2_id']).mean()\n",
    "mean_set = rename_column(mean_set,\"mean_\")\n",
    "std_set = df_train.groupby(['bearing_2_id']).std()\n",
    "std_set = rename_column(std_set,\"std_\")\n",
    "median_set = df_train.groupby(['bearing_2_id']).median()\n",
    "median_set = rename_column(median_set,\"median_\")\n",
    "range_set = df_train.groupby(['bearing_2_id']).max() - df_train.groupby(['bearing_2_id']).min()\n",
    "range_set = rename_column(range_set,\"range_\")\n",
    "kurtosis_set = df_train.groupby(['bearing_2_id']).apply(pd.DataFrame.kurtosis)\n",
    "kurtosis_set = rename_column(kurtosis_set, 'kurtosis_')\n",
    "skew_set = df_train.groupby(['bearing_2_id']).skew()\n",
    "skew_set = rename_column(skew_set, 'skew_')"
   ]
  },
  {
   "cell_type": "code",
   "execution_count": 8,
   "metadata": {},
   "outputs": [],
   "source": [
    "df = pd.concat([max_set, min_set, mean_set, std_set, median_set, range_set, kurtosis_set, skew_set], axis=1)\n",
    "df['target']= target_set.iloc[1:,1]"
   ]
  },
  {
   "cell_type": "code",
   "execution_count": 28,
   "metadata": {},
   "outputs": [
    {
     "data": {
      "text/plain": [
       "Index(['max_a1_x', 'max_a1_y', 'max_a1_z', 'max_a2_x', 'max_a2_y', 'max_a2_z',\n",
       "       'max_rpm', 'max_hz', 'max_w', 'min_a1_x', 'min_a1_y', 'min_a1_z',\n",
       "       'min_a2_x', 'min_a2_y', 'min_a2_z', 'min_rpm', 'min_hz', 'min_w',\n",
       "       'mean_a1_x', 'mean_a1_y', 'mean_a1_z', 'mean_a2_x', 'mean_a2_y',\n",
       "       'mean_a2_z', 'mean_rpm', 'mean_hz', 'mean_w', 'std_a1_x', 'std_a1_y',\n",
       "       'std_a1_z', 'std_a2_x', 'std_a2_y', 'std_a2_z', 'std_rpm', 'std_hz',\n",
       "       'std_w', 'median_a1_x', 'median_a1_y', 'median_a1_z', 'median_a2_x',\n",
       "       'median_a2_y', 'median_a2_z', 'median_rpm', 'median_hz', 'median_w',\n",
       "       'range_a1_x', 'range_a1_y', 'range_a1_z', 'range_a2_x', 'range_a2_y',\n",
       "       'range_a2_z', 'range_rpm', 'range_hz', 'range_w',\n",
       "       'kurtosis_bearing_2_id', 'kurtosis_a1_x', 'kurtosis_a1_y',\n",
       "       'kurtosis_a1_z', 'kurtosis_a2_x', 'kurtosis_a2_y', 'kurtosis_a2_z',\n",
       "       'kurtosis_rpm', 'kurtosis_hz', 'kurtosis_w', 'skew_a1_x', 'skew_a1_y',\n",
       "       'skew_a1_z', 'skew_a2_x', 'skew_a2_y', 'skew_a2_z', 'skew_rpm',\n",
       "       'skew_hz', 'skew_w', 'target'],\n",
       "      dtype='object')"
      ]
     },
     "execution_count": 28,
     "metadata": {},
     "output_type": "execute_result"
    }
   ],
   "source": [
    "df.columns"
   ]
  },
  {
   "cell_type": "code",
   "execution_count": null,
   "metadata": {},
   "outputs": [],
   "source": [
    "df1 = df.drop(['min_rpm', 'max_hz', 'max_w', 'min_a1_x', 'min_a2_z',\n",
    "               'min_hz', 'min_w', 'mean_hz','std_w', 'median_a2_x',\n",
    "               'std_rpm','median_rpm', 'range_rpm', 'range_hz',\n",
    "               'range_w', 'kurtosis_bearing_2_id', 'kurtosis_a2_y',\n",
    "               'skew_rpm', 'skew_hz', 'skew_w', 'timestamp'], axis=1)"
   ]
  },
  {
   "cell_type": "code",
   "execution_count": 5,
   "metadata": {},
   "outputs": [],
   "source": [
    "# df_bearing_1_x = df_train.drop(['a2_x','a2_y','a2_z','a1_y','a1_z'], axis = 1)\n",
    "# df_bearing_1_y = df_train.drop(['a2_x','a2_y','a2_z','a1_x','a1_z'], axis = 1)\n",
    "# df_bearing_1_z = df_train.drop(['a2_x','a2_y','a2_z','a1_x','a1_y'], axis = 1)\n",
    "# df_bearing_2_x = df_train.drop(['a1_x','a1_y','a1_z','a2_y','a2_z'], axis = 1)\n",
    "# df_bearing_2_y = df_train.drop(['a1_x','a1_y','a1_z','a2_x','a2_z'], axis = 1)\n",
    "# df_bearing_2_z = df_train.drop(['a1_x','a1_y','a1_z','a2_x','a2_y'], axis = 1)\n",
    "# bearing_feature = [df_bearing_1_x,df_bearing_1_y,df_bearing_1_z,df_bearing_2_x,df_bearing_2_y,df_bearing_2_z]\n",
    "# list_column = ['fft_a1_x','fft_a1_y','fft_a1_z','fft_a2_x','fft_a2_y','fft_a2_z']"
   ]
  },
  {
   "cell_type": "code",
   "execution_count": 6,
   "metadata": {},
   "outputs": [],
   "source": [
    "# def by_axis_bearing(bearing_feature,i):\n",
    "#     max_list = []\n",
    "#     for index in range(len(bearing_feature)):\n",
    "#         bearing_idx = bearing_feature[index]\n",
    "#         df_bearing = bearing_idx[bearing_idx['bearing_2_id'] == i]\n",
    "#         fft_values = fftpack.fft(df_bearing)\n",
    "#         max_amplitude = np.argmax(np.abs(fft_values))\n",
    "#         max_list.append(max_amplitude)\n",
    "#     return max_list\n",
    "    "
   ]
  },
  {
   "cell_type": "code",
   "execution_count": 7,
   "metadata": {},
   "outputs": [],
   "source": [
    "# number_bearing = df_train['bearing_2_id'].max()\n",
    "\n",
    "# max_list = by_axis_bearing(bearing_feature,1)\n",
    "# new_set = pd.DataFrame([max_list],columns=list_column,index=[1])\n",
    "\n",
    "# for i in range(2,number_bearing+1):\n",
    "#     max_list = by_axis_bearing(bearing_feature,i)\n",
    "#     temp_set = pd.DataFrame([max_list],columns=list_column,index=[i])\n",
    "#     new_set = new_set.append(temp_set)"
   ]
  },
  {
   "cell_type": "code",
   "execution_count": 9,
   "metadata": {},
   "outputs": [],
   "source": [
    "X = df1.drop('target',axis=1)\n",
    "y = df1['target']"
   ]
  },
  {
   "cell_type": "code",
   "execution_count": 10,
   "metadata": {},
   "outputs": [],
   "source": [
    "from sklearn.model_selection import train_test_split\n",
    "X_train, X_test, y_train, y_test = train_test_split(X, y, test_size=0.2, random_state=41)"
   ]
  },
  {
   "cell_type": "code",
   "execution_count": 13,
   "metadata": {},
   "outputs": [
    {
     "name": "stdout",
     "output_type": "stream",
     "text": [
      "The accuracy of RandomForestC Model is :  91.3%\n",
      "The Cross Validation Rapport :  \n",
      "               precision    recall  f1-score   support\n",
      "\n",
      "           0       0.90      1.00      0.95        19\n",
      "           1       1.00      0.50      0.67         4\n",
      "\n",
      "    accuracy                           0.91        23\n",
      "   macro avg       0.95      0.75      0.81        23\n",
      "weighted avg       0.92      0.91      0.90        23\n",
      "\n"
     ]
    },
    {
     "name": "stderr",
     "output_type": "stream",
     "text": [
      "C:\\Users\\Sadhana\\anaconda3\\lib\\site-packages\\sklearn\\model_selection\\_split.py:666: UserWarning: The least populated class in y has only 8 members, which is less than n_splits=10.\n",
      "  warnings.warn((\"The least populated class in y has only %d\"\n"
     ]
    },
    {
     "name": "stdout",
     "output_type": "stream",
     "text": [
      "Random Forest Scores : [1.         1.         1.         0.88888889 1.         1.\n",
      " 1.         1.         1.         1.        ]\n",
      "Random Forest Mean : 0.9888888888888889\n",
      "Random Forest Standard Deviation : 0.03333333333333335\n"
     ]
    }
   ],
   "source": [
    "from sklearn.metrics import accuracy_score, classification_report\n",
    "from sklearn.model_selection import GridSearchCV\n",
    "from sklearn.ensemble import RandomForestClassifier\n",
    "from sklearn.model_selection import cross_val_score\n",
    "from sklearn.metrics import confusion_matrix\n",
    "\n",
    "rf = RandomForestClassifier(n_estimators=100)\n",
    "rf.fit(X_train, y_train)\n",
    "y_pred_random_forest = rf.predict(X_test)\n",
    "accuracy_random_forest = round(accuracy_score(y_test, y_pred_random_forest) * 100, 2)\n",
    "print(f'The accuracy of RandomForest Model is : ', str(accuracy_random_forest) + '%')\n",
    "print('The Cross Validation Report : ','\\n', (classification_report(y_test, y_pred_random_forest)))\n",
    "print(confusion_matrix(y_test, y_pred_random_forest))\n",
    "scores_rf = cross_val_score(rf, X_train, y_train, cv=10, scoring = \"accuracy\")\n",
    "print(f\"The Cross validation score of Random Forest model :\", scores_rf)\n",
    "print(f\"The Mean of Random Forest model :\", scores_rf.mean())\n",
    "print(f\"The Standard Deviation of Random Forest model :\", scores_rf.std())"
   ]
  },
  {
   "cell_type": "code",
   "execution_count": 24,
   "metadata": {},
   "outputs": [],
   "source": [
    "param_grid = {\n",
    "    'n_estimators':[200,150,100,50],\n",
    "    'criterion':['gini','entropy'],\n",
    "    'max_depth':[2,4,6,8]\n",
    "}"
   ]
  },
  {
   "cell_type": "code",
   "execution_count": 26,
   "metadata": {},
   "outputs": [
    {
     "name": "stdout",
     "output_type": "stream",
     "text": [
      "The accuracy of RandomForestC Model is 91.30434782608695 %\n",
      "The Cross Validation Rapport :  \n",
      "               precision    recall  f1-score   support\n",
      "\n",
      "           0       0.90      1.00      0.95        19\n",
      "           1       1.00      0.50      0.67         4\n",
      "\n",
      "    accuracy                           0.91        23\n",
      "   macro avg       0.95      0.75      0.81        23\n",
      "weighted avg       0.92      0.91      0.90        23\n",
      "\n",
      "[[19  0]\n",
      " [ 2  2]]\n"
     ]
    },
    {
     "name": "stderr",
     "output_type": "stream",
     "text": [
      "C:\\Users\\Sadhana\\anaconda3\\lib\\site-packages\\sklearn\\model_selection\\_split.py:666: UserWarning: The least populated class in y has only 8 members, which is less than n_splits=10.\n",
      "  warnings.warn((\"The least populated class in y has only %d\"\n"
     ]
    },
    {
     "name": "stdout",
     "output_type": "stream",
     "text": [
      "The Cross validation score of Random Forest model : [1.         1.         1.         0.88888889 1.         1.\n",
      " 1.         1.         1.         1.        ]\n",
      "The Mean of Random Forest model : 0.9888888888888889\n",
      "The Standard Deviation of Random Forest model : 0.03333333333333335\n"
     ]
    }
   ],
   "source": [
    "Model_rf = RandomForestClassifier(random_state=41)\n",
    "grid = GridSearchCV(estimator=Model_rf, param_grid=param_grid, cv=5, n_jobs=None)\n",
    "grid.fit(X_train, y_train)\n",
    "Model_rf = grid.best_estimator_\n",
    "y_pred_train = Model_rf.predict(X_test)\n",
    "training_data_accuracy_rf = accuracy_score(y_test, y_pred_train)\n",
    "print(\"The accuracy of RandomForestC Model is\", (training_data_accuracy_rf*100), '%')\n",
    "print('The Cross Validation Rapport : ','\\n', (classification_report(y_test, y_pred_train)))\n",
    "print(confusion_matrix(y_test,y_pred_train))\n",
    "scores_rf = cross_val_score(Model_rf, X_train, y_train, cv=10, scoring = \"accuracy\")\n",
    "print(f\"The Cross validation score of Random Forest model :\", scores_rf)\n",
    "print(f\"The Mean of Random Forest model :\", scores_rf.mean())\n",
    "print(f\"The Standard Deviation of Random Forest model :\", scores_rf.std())"
   ]
  },
  {
   "cell_type": "code",
   "execution_count": 16,
   "metadata": {},
   "outputs": [
    {
     "name": "stdout",
     "output_type": "stream",
     "text": [
      "0.9130434782608695\n",
      "1.0\n"
     ]
    }
   ],
   "source": [
    "rf_entropy = RandomForestClassifier(criterion='entropy', max_depth=6)\n",
    "rf_entropy.fit(X_train, y_train)\n",
    "y_pred_rf_entropy = rf_entropy.predict(X_test)\n",
    "print(accuracy_score(y_test, y_pred_rf_entropy))\n",
    "y_train_pre = rf_entropy.predict(X_train)\n",
    "print(accuracy_score(y_train_pre, y_train))"
   ]
  },
  {
   "cell_type": "code",
   "execution_count": 17,
   "metadata": {},
   "outputs": [
    {
     "name": "stderr",
     "output_type": "stream",
     "text": [
      "C:\\Users\\Sadhana\\anaconda3\\lib\\site-packages\\sklearn\\model_selection\\_split.py:666: UserWarning: The least populated class in y has only 8 members, which is less than n_splits=10.\n",
      "  warnings.warn((\"The least populated class in y has only %d\"\n"
     ]
    },
    {
     "name": "stdout",
     "output_type": "stream",
     "text": [
      "Scores: [1.         1.         1.         0.88888889 1.         1.\n",
      " 0.88888889 1.         1.         1.        ]\n",
      "Accuracy_score 1.0\n",
      "Mean: 0.9777777777777779\n",
      "Standard Deviation: 0.04444444444444447\n",
      "Variation: 0.001975308641975311\n"
     ]
    }
   ],
   "source": [
    "scores = cross_val_score(rf_entropy, X_train, y_train, cv=10, scoring = \"accuracy\")\n",
    "print(\"Scores:\", scores)\n",
    "print(\"Accuracy_score\", accuracy_score(y_train_pre, y_train))\n",
    "print(\"Mean:\", scores.mean())\n",
    "print(\"Standard Deviation:\", scores.std())\n",
    "print(\"Variation:\", scores.var())"
   ]
  },
  {
   "cell_type": "code",
   "execution_count": 18,
   "metadata": {},
   "outputs": [
    {
     "data": {
      "text/plain": [
       "<AxesSubplot:xlabel='feature'>"
      ]
     },
     "execution_count": 18,
     "metadata": {},
     "output_type": "execute_result"
    },
    {
     "data": {
      "image/png": "[encoded data removed]",
      "text/plain": [
       "<Figure size 1080x432 with 1 Axes>"
      ]
     },
     "metadata": {},
     "output_type": "display_data"
    }
   ],
   "source": [
    "importances = pd.DataFrame({'feature':X_train.columns,'importance':np.round(rf.feature_importances_,3)})\n",
    "importances1 = importances.sort_values('importance',ascending=False).set_index('feature')\n",
    "importances1.plot(kind='bar',figsize=(15,6))"
   ]
  },
  {
   "cell_type": "code",
   "execution_count": 27,
   "metadata": {},
   "outputs": [
    {
     "name": "stdout",
     "output_type": "stream",
     "text": [
      "The accuracy of SVC Model is :  82.61%\n",
      "The Cross Validation Report :  \n",
      "               precision    recall  f1-score   support\n",
      "\n",
      "           0       0.83      1.00      0.90        19\n",
      "           1       0.00      0.00      0.00         4\n",
      "\n",
      "    accuracy                           0.83        23\n",
      "   macro avg       0.41      0.50      0.45        23\n",
      "weighted avg       0.68      0.83      0.75        23\n",
      "\n",
      "[[19  0]\n",
      " [ 4  0]]\n",
      "The Cross validation score of SVC Model : [1.         0.88888889 0.88888889 0.88888889 0.88888889 0.88888889\n",
      " 0.88888889 0.88888889 0.88888889 1.        ]\n",
      "The Mean of SVC Model : 0.9111111111111111\n",
      "The Standard Deviation of SVC Model : 0.04444444444444447\n"
     ]
    },
    {
     "name": "stderr",
     "output_type": "stream",
     "text": [
      "C:\\Users\\Sadhana\\anaconda3\\lib\\site-packages\\sklearn\\metrics\\_classification.py:1245: UndefinedMetricWarning: Precision and F-score are ill-defined and being set to 0.0 in labels with no predicted samples. Use `zero_division` parameter to control this behavior.\n",
      "  _warn_prf(average, modifier, msg_start, len(result))\n",
      "C:\\Users\\Sadhana\\anaconda3\\lib\\site-packages\\sklearn\\metrics\\_classification.py:1245: UndefinedMetricWarning: Precision and F-score are ill-defined and being set to 0.0 in labels with no predicted samples. Use `zero_division` parameter to control this behavior.\n",
      "  _warn_prf(average, modifier, msg_start, len(result))\n",
      "C:\\Users\\Sadhana\\anaconda3\\lib\\site-packages\\sklearn\\metrics\\_classification.py:1245: UndefinedMetricWarning: Precision and F-score are ill-defined and being set to 0.0 in labels with no predicted samples. Use `zero_division` parameter to control this behavior.\n",
      "  _warn_prf(average, modifier, msg_start, len(result))\n",
      "C:\\Users\\Sadhana\\anaconda3\\lib\\site-packages\\sklearn\\model_selection\\_split.py:666: UserWarning: The least populated class in y has only 8 members, which is less than n_splits=10.\n",
      "  warnings.warn((\"The least populated class in y has only %d\"\n"
     ]
    }
   ],
   "source": [
    "from sklearn.svm import SVC\n",
    "svc = SVC(probability=True)\n",
    "svc.fit(X_train, y_train)\n",
    "y_pred_svc = svc.predict(X_test)\n",
    "accuracy_svc = round(accuracy_score(y_test, y_pred_svc) * 100, 2)\n",
    "print(f'The accuracy of SVC Model is : ', str(accuracy_svc) + '%')\n",
    "print('The Cross Validation Report : ','\\n', (classification_report(y_test, y_pred_svc)))\n",
    "print(confusion_matrix(y_test, y_pred_svc))\n",
    "scores_svc = cross_val_score(svc, X_train, y_train, cv=10, scoring = \"accuracy\")\n",
    "print(f\"The Cross validation score of SVC Model :\", scores_svc)\n",
    "print(f\"The Mean of SVC Model :\", scores_svc.mean())\n",
    "print(f\"The Standard Deviation of SVC Model :\", scores_svc.std())"
   ]
  },
  {
   "cell_type": "code",
   "execution_count": 23,
   "metadata": {},
   "outputs": [
    {
     "name": "stdout",
     "output_type": "stream",
     "text": [
      "The accuracy of KNN Model is :  82.61%\n",
      "The Cross Validation Report :  \n",
      "               precision    recall  f1-score   support\n",
      "\n",
      "           0       0.83      1.00      0.90        19\n",
      "           1       0.00      0.00      0.00         4\n",
      "\n",
      "    accuracy                           0.83        23\n",
      "   macro avg       0.41      0.50      0.45        23\n",
      "weighted avg       0.68      0.83      0.75        23\n",
      "\n",
      "[[19  0]\n",
      " [ 4  0]]\n",
      "The Cross validation score of KNN Model : [1.         0.88888889 1.         0.77777778 0.88888889 1.\n",
      " 0.88888889 0.77777778 0.88888889 1.        ]\n",
      "The Mean of KNN Model : 0.9111111111111111\n",
      "The Standard Deviation of KNN Model : 0.08314794192830981\n"
     ]
    },
    {
     "name": "stderr",
     "output_type": "stream",
     "text": [
      "C:\\Users\\Sadhana\\anaconda3\\lib\\site-packages\\sklearn\\metrics\\_classification.py:1245: UndefinedMetricWarning: Precision and F-score are ill-defined and being set to 0.0 in labels with no predicted samples. Use `zero_division` parameter to control this behavior.\n",
      "  _warn_prf(average, modifier, msg_start, len(result))\n",
      "C:\\Users\\Sadhana\\anaconda3\\lib\\site-packages\\sklearn\\metrics\\_classification.py:1245: UndefinedMetricWarning: Precision and F-score are ill-defined and being set to 0.0 in labels with no predicted samples. Use `zero_division` parameter to control this behavior.\n",
      "  _warn_prf(average, modifier, msg_start, len(result))\n",
      "C:\\Users\\Sadhana\\anaconda3\\lib\\site-packages\\sklearn\\metrics\\_classification.py:1245: UndefinedMetricWarning: Precision and F-score are ill-defined and being set to 0.0 in labels with no predicted samples. Use `zero_division` parameter to control this behavior.\n",
      "  _warn_prf(average, modifier, msg_start, len(result))\n",
      "C:\\Users\\Sadhana\\anaconda3\\lib\\site-packages\\sklearn\\model_selection\\_split.py:666: UserWarning: The least populated class in y has only 8 members, which is less than n_splits=10.\n",
      "  warnings.warn((\"The least populated class in y has only %d\"\n"
     ]
    }
   ],
   "source": [
    "from sklearn.neighbors import KNeighborsClassifier\n",
    "knn = KNeighborsClassifier(n_neighbors = 3)\n",
    "knn.fit(X_train, y_train)\n",
    "y_pred_knn = knn.predict(X_test)\n",
    "accuracy_knn = round(accuracy_score(y_test, y_pred_knn) * 100, 2)\n",
    "print(f'The accuracy of KNN Model is : ', str(accuracy_knn) + '%')\n",
    "print('The Cross Validation Report : ','\\n', (classification_report(y_test, y_pred_knn)))\n",
    "print(confusion_matrix(y_test, y_pred_knn))\n",
    "scores_knn = cross_val_score(knn, X_train, y_train, cv=10, scoring = \"accuracy\")\n",
    "print(f\"The Cross validation score of KNN Model :\", scores_knn)\n",
    "print(f\"The Mean of KNN Model :\", scores_knn.mean())\n",
    "print(f\"The Standard Deviation of KNN Model :\", scores_knn.std())"
   ]
  },
  {
   "cell_type": "code",
   "execution_count": null,
   "metadata": {},
   "outputs": [],
   "source": []
  }
 ],
 "metadata": {
  "interpreter": {
   "hash": "8ffd7a4c42191d59290039569e757589144775bad5fcd260e64ce4fd5ea8b81c"
  },
  "kernelspec": {
   "display_name": "Python 3",
   "language": "python",
   "name": "python3"
  },
  "language_info": {
   "codemirror_mode": {
    "name": "ipython",
    "version": 3
   },
   "file_extension": ".py",
   "mimetype": "text/x-python",
   "name": "python",
   "nbconvert_exporter": "python",
   "pygments_lexer": "ipython3",
   "version": "3.8.8"
  }
 },
 "nbformat": 4,
 "nbformat_minor": 2
}
