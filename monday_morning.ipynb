{
 "cells": [
  {
   "cell_type": "code",
   "execution_count": 147,
   "source": [
    "import pandas as pd\r\n",
    "import numpy as np\r\n",
    "import matplotlib.pyplot as plt\r\n",
    "from matplotlib.pyplot import style\r\n",
    "from scipy import fftpack\r\n",
    "import seaborn as sns\r\n",
    "style.use('seaborn')"
   ],
   "outputs": [],
   "metadata": {}
  },
  {
   "cell_type": "code",
   "execution_count": 148,
   "source": [
    "def rename_column(df,prefix):\r\n",
    "    column_name = list(df.columns)\r\n",
    "    column_name = [prefix + name for name in column_name]\r\n",
    "    return df.set_axis(column_name, axis=1)"
   ],
   "outputs": [],
   "metadata": {}
  },
  {
   "cell_type": "code",
   "execution_count": 149,
   "source": [
    "target_set = pd.read_csv(\".\\\\bearing_classes.csv\",sep=\";\")\r\n",
    "origin_set = pd.read_csv(\".\\\\bearing_signals.csv\")"
   ],
   "outputs": [],
   "metadata": {}
  },
  {
   "cell_type": "code",
   "execution_count": 150,
   "source": [
    "df_train = origin_set.drop(['experiment_id','bearing_1_id','rpm','hz','w', 'timestamp'],axis=1)"
   ],
   "outputs": [],
   "metadata": {}
  },
  {
   "cell_type": "code",
   "execution_count": 151,
   "source": [
    "df_bearing_1_x = df_train.drop(['a2_x','a2_y','a2_z','a1_y','a1_z'], axis = 1)\r\n",
    "df_bearing_1_y = df_train.drop(['a2_x','a2_y','a2_z','a1_x','a1_z'], axis = 1)\r\n",
    "df_bearing_1_z = df_train.drop(['a2_x','a2_y','a2_z','a1_x','a1_y'], axis = 1)\r\n",
    "df_bearing_2_x = df_train.drop(['a1_x','a1_y','a1_z','a2_y','a2_z'], axis = 1)\r\n",
    "df_bearing_2_y = df_train.drop(['a1_x','a1_y','a1_z','a2_x','a2_z'], axis = 1)\r\n",
    "df_bearing_2_z = df_train.drop(['a1_x','a1_y','a1_z','a2_x','a2_y'], axis = 1)\r\n",
    "bearing_feature = [df_bearing_1_x,df_bearing_1_y,df_bearing_1_z,df_bearing_2_x,df_bearing_2_y,df_bearing_2_z]\r\n",
    "list_column = ['fft_a1_x','fft_a1_y','fft_a1_z','fft_a2_x','fft_a2_y','fft_a2_z']"
   ],
   "outputs": [],
   "metadata": {}
  },
  {
   "cell_type": "code",
   "execution_count": 168,
   "source": [
    "def by_axis_bearing(bearing_feature,i):\r\n",
    "    max_list = []\r\n",
    "    for index in range(len(bearing_feature)):\r\n",
    "        bearing_idx = bearing_feature[index]\r\n",
    "        df_bearing = bearing_idx[bearing_idx['bearing_2_id'] == i]\r\n",
    "        fft_values = fftpack.fft(df_bearing)\r\n",
    "        max_amplitude = np.argmax(np.abs(fft_values))\r\n",
    "        max_list.append(max_amplitude)\r\n",
    "    return max_list\r\n",
    "    "
   ],
   "outputs": [],
   "metadata": {}
  },
  {
   "cell_type": "code",
   "execution_count": 154,
   "source": [
    "number_bearing = df_train['bearing_2_id'].max()\r\n",
    "\r\n",
    "max_list = by_axis_bearing(bearing_feature,1)\r\n",
    "new_set = pd.DataFrame([max_list],columns=list_column,index=[1])\r\n",
    "\r\n",
    "for i in range(2,number_bearing+1):\r\n",
    "    max_list = by_axis_bearing(bearing_feature,i)\r\n",
    "    temp_set = pd.DataFrame([max_list],columns=list_column,index=[i])\r\n",
    "    new_set = new_set.append(temp_set)"
   ],
   "outputs": [],
   "metadata": {}
  },
  {
   "cell_type": "code",
   "execution_count": 155,
   "source": [
    "d = origin_set.groupby('bearing_2_id').max()['rpm']"
   ],
   "outputs": [],
   "metadata": {}
  },
  {
   "cell_type": "code",
   "execution_count": 156,
   "source": [
    "df_train.columns"
   ],
   "outputs": [
    {
     "output_type": "execute_result",
     "data": {
      "text/plain": [
       "Index(['bearing_2_id', 'a1_x', 'a1_y', 'a1_z', 'a2_x', 'a2_y', 'a2_z'], dtype='object')"
      ]
     },
     "metadata": {},
     "execution_count": 156
    }
   ],
   "metadata": {}
  },
  {
   "cell_type": "code",
   "execution_count": 157,
   "source": [
    "max_set = df_train.groupby(['bearing_2_id']).max()\r\n",
    "max_set = rename_column(max_set,\"max_\")\r\n",
    "min_set = df_train.groupby(['bearing_2_id']).min()\r\n",
    "min_set = rename_column(min_set,\"min_\")\r\n",
    "mean_set = df_train.groupby(['bearing_2_id']).mean()\r\n",
    "mean_set = rename_column(mean_set,\"mean_\")\r\n",
    "std_set = df_train.groupby(['bearing_2_id']).std()\r\n",
    "std_set = rename_column(std_set,\"std_\")\r\n",
    "sum_set = df_train.groupby(['bearing_2_id']).sum()"
   ],
   "outputs": [],
   "metadata": {}
  },
  {
   "cell_type": "code",
   "execution_count": 158,
   "source": [
    "df = pd.concat([mean_set,max_set,min_set,std_set,new_set],axis=1)\r\n",
    "df['target']= target_set.iloc[1:,1]"
   ],
   "outputs": [],
   "metadata": {}
  },
  {
   "cell_type": "code",
   "execution_count": 159,
   "source": [
    "X = df.drop('target',axis=1)\r\n",
    "y = df['target']"
   ],
   "outputs": [],
   "metadata": {}
  },
  {
   "cell_type": "code",
   "execution_count": 160,
   "source": [
    "from sklearn.model_selection import train_test_split\r\n",
    "X_train, X_test, y_train, y_test = train_test_split(X, y, test_size=0.2, random_state=41)"
   ],
   "outputs": [],
   "metadata": {}
  },
  {
   "cell_type": "code",
   "execution_count": 161,
   "source": [
    "param_grid = {\r\n",
    "    'n_estimators':[200,150,100,50],\r\n",
    "    'criterion':['gini','entropy'],\r\n",
    "    'max_depth':[2,4,6,8]\r\n",
    "}"
   ],
   "outputs": [],
   "metadata": {}
  },
  {
   "cell_type": "code",
   "execution_count": 162,
   "source": [
    "from sklearn.metrics import accuracy_score, classification_report\r\n",
    "from sklearn.model_selection import GridSearchCV\r\n",
    "from sklearn.ensemble import RandomForestClassifier\r\n",
    "from sklearn.model_selection import cross_val_score\r\n",
    "\r\n",
    "Model_rf = RandomForestClassifier(random_state=1)\r\n",
    "grid = GridSearchCV(estimator=Model_rf, param_grid=param_grid, n_jobs=-1)\r\n",
    "grid.fit(X_train, y_train)\r\n",
    "Model_rf = grid.best_estimator_\r\n",
    "y_pred_train = Model_rf.predict(X_test)\r\n",
    "training_data_accuracy_rf = accuracy_score(y_test, y_pred_train)"
   ],
   "outputs": [],
   "metadata": {}
  },
  {
   "cell_type": "code",
   "execution_count": 163,
   "source": [
    "from sklearn.metrics import confusion_matrix\r\n",
    "print(\"The accuracy of RandomForestC Model is\", (training_data_accuracy_rf*100), '%')\r\n",
    "print('The Cross Validation Rapport : ','\\n', (classification_report(y_test, y_pred_train)))\r\n",
    "confusion_matrix(y_test,y_pred_train)"
   ],
   "outputs": [
    {
     "output_type": "stream",
     "name": "stdout",
     "text": [
      "The accuracy of RandomForestC Model is 91.30434782608695 %\n",
      "The Cross Validation Rapport :  \n",
      "               precision    recall  f1-score   support\n",
      "\n",
      "           0       0.90      1.00      0.95        19\n",
      "           1       1.00      0.50      0.67         4\n",
      "\n",
      "    accuracy                           0.91        23\n",
      "   macro avg       0.95      0.75      0.81        23\n",
      "weighted avg       0.92      0.91      0.90        23\n",
      "\n"
     ]
    },
    {
     "output_type": "execute_result",
     "data": {
      "text/plain": [
       "array([[19,  0],\n",
       "       [ 2,  2]], dtype=int64)"
      ]
     },
     "metadata": {},
     "execution_count": 163
    }
   ],
   "metadata": {}
  },
  {
   "cell_type": "code",
   "execution_count": 164,
   "source": [
    "rf = RandomForestClassifier(criterion='entropy', max_depth=6)\r\n",
    "rf.fit(X_train, y_train)\r\n",
    "y_pred = rf.predict(X_test)\r\n",
    "print(accuracy_score(y_pred, y_test))\r\n",
    "y_train_pre = rf.predict(X_train)\r\n",
    "print(accuracy_score(y_train_pre, y_train))"
   ],
   "outputs": [
    {
     "output_type": "stream",
     "name": "stdout",
     "text": [
      "0.9130434782608695\n",
      "1.0\n"
     ]
    }
   ],
   "metadata": {}
  },
  {
   "cell_type": "code",
   "execution_count": 165,
   "source": [
    "scores = cross_val_score(rf, X_train, y_train, cv=10, scoring = \"accuracy\")\r\n",
    "print(\"Scores:\", scores)\r\n",
    "print(\"Accuracy_score\", accuracy_score(y_train_pre, y_train))\r\n",
    "print(\"Mean:\", scores.mean())\r\n",
    "print(\"Standard Deviation:\", scores.std())\r\n",
    "print(\"Variation:\", scores.var())"
   ],
   "outputs": [
    {
     "output_type": "stream",
     "name": "stderr",
     "text": [
      "C:\\Users\\B\\AppData\\Local\\Programs\\Python\\Python39\\lib\\site-packages\\sklearn\\model_selection\\_split.py:666: UserWarning: The least populated class in y has only 8 members, which is less than n_splits=10.\n",
      "  warnings.warn((\"The least populated class in y has only %d\"\n"
     ]
    },
    {
     "output_type": "stream",
     "name": "stdout",
     "text": [
      "Scores: [1.         1.         1.         0.88888889 1.         1.\n",
      " 0.88888889 1.         1.         1.        ]\n",
      "Accuracy_score 1.0\n",
      "Mean: 0.9777777777777779\n",
      "Standard Deviation: 0.04444444444444447\n",
      "Variation: 0.001975308641975311\n"
     ]
    }
   ],
   "metadata": {}
  },
  {
   "cell_type": "code",
   "execution_count": 166,
   "source": [
    "importances = pd.DataFrame({'feature':X_train.columns,'importance':np.round(Model_rf.feature_importances_,3)})\r\n",
    "importances1 = importances.sort_values('importance',ascending=False).set_index('feature')\r\n",
    "importances1.plot(kind='bar',figsize=(15,6))"
   ],
   "outputs": [
    {
     "output_type": "execute_result",
     "data": {
      "text/plain": [
       "<AxesSubplot:xlabel='feature'>"
      ]
     },
     "metadata": {},
     "execution_count": 166
    },
    {
     "output_type": "display_data",
     "data": {
      "text/plain": [
       "<Figure size 1080x432 with 1 Axes>"
      ],
      "image/png": "[encoded data removed]"
     },
     "metadata": {}
    }
   ],
   "metadata": {}
  },
  {
   "cell_type": "code",
   "execution_count": 167,
   "source": [
    "for i, k in enumerate(neighbors):\r\n",
    "    # Setup a k-NN Classifier with k neighbors: knn\r\n",
    "    knn = KNeighborsClassifier(n_neighbors = k)\r\n",
    "\r\n",
    "    # Fit the classifier to the training data\r\n",
    "    knn.fit(X_train, y_train)\r\n",
    "\r\n",
    "    #Compute accuracy on the training set\r\n",
    "    train_accuracy[i] = knn.score(X_train, y_train)\r\n",
    "\r\n",
    "    #Compute accuracy on the testing set\r\n",
    "    test_accuracy[i] = knn.score(X_test, y_test)\r\n",
    "\r\n",
    "# Generate plot\r\n",
    "plt.title('k-NN: Varying Number of Neighbors')\r\n",
    "plt.plot(neighbors, test_accuracy, label = 'Testing Accuracy')\r\n",
    "plt.plot(neighbors, train_accuracy, label = 'Training Accuracy')\r\n",
    "plt.legend()\r\n",
    "plt.xlabel('Number of Neighbors')\r\n",
    "plt.ylabel('Accuracy')\r\n",
    "plt.show()"
   ],
   "outputs": [
    {
     "output_type": "error",
     "ename": "NameError",
     "evalue": "name 'neighbors' is not defined",
     "traceback": [
      "\u001b[1;31m---------------------------------------------------------------------------\u001b[0m",
      "\u001b[1;31mNameError\u001b[0m                                 Traceback (most recent call last)",
      "\u001b[1;32m<ipython-input-167-a068653217a2>\u001b[0m in \u001b[0;36m<module>\u001b[1;34m\u001b[0m\n\u001b[1;32m----> 1\u001b[1;33m \u001b[1;32mfor\u001b[0m \u001b[0mi\u001b[0m\u001b[1;33m,\u001b[0m \u001b[0mk\u001b[0m \u001b[1;32min\u001b[0m \u001b[0menumerate\u001b[0m\u001b[1;33m(\u001b[0m\u001b[0mneighbors\u001b[0m\u001b[1;33m)\u001b[0m\u001b[1;33m:\u001b[0m\u001b[1;33m\u001b[0m\u001b[1;33m\u001b[0m\u001b[0m\n\u001b[0m\u001b[0;32m      2\u001b[0m     \u001b[1;31m# Setup a k-NN Classifier with k neighbors: knn\u001b[0m\u001b[1;33m\u001b[0m\u001b[1;33m\u001b[0m\u001b[1;33m\u001b[0m\u001b[0m\n\u001b[0;32m      3\u001b[0m     \u001b[0mknn\u001b[0m \u001b[1;33m=\u001b[0m \u001b[0mKNeighborsClassifier\u001b[0m\u001b[1;33m(\u001b[0m\u001b[0mn_neighbors\u001b[0m \u001b[1;33m=\u001b[0m \u001b[0mk\u001b[0m\u001b[1;33m)\u001b[0m\u001b[1;33m\u001b[0m\u001b[1;33m\u001b[0m\u001b[0m\n\u001b[0;32m      4\u001b[0m \u001b[1;33m\u001b[0m\u001b[0m\n\u001b[0;32m      5\u001b[0m     \u001b[1;31m# Fit the classifier to the training data\u001b[0m\u001b[1;33m\u001b[0m\u001b[1;33m\u001b[0m\u001b[1;33m\u001b[0m\u001b[0m\n",
      "\u001b[1;31mNameError\u001b[0m: name 'neighbors' is not defined"
     ]
    }
   ],
   "metadata": {}
  }
 ],
 "metadata": {
  "orig_nbformat": 4,
  "language_info": {
   "name": "python",
   "version": "3.9.2",
   "mimetype": "text/x-python",
   "codemirror_mode": {
    "name": "ipython",
    "version": 3
   },
   "pygments_lexer": "ipython3",
   "nbconvert_exporter": "python",
   "file_extension": ".py"
  },
  "kernelspec": {
   "name": "python3",
   "display_name": "Python 3.9.2 64-bit"
  },
  "interpreter": {
   "hash": "8ffd7a4c42191d59290039569e757589144775bad5fcd260e64ce4fd5ea8b81c"
  }
 },
 "nbformat": 4,
 "nbformat_minor": 2
}