{
 "cells": [
  {
   "cell_type": "markdown",
   "metadata": {},
   "source": [
    "# Challenge classification of bearing"
   ]
  },
  {
   "cell_type": "code",
   "execution_count": 23,
   "metadata": {},
   "outputs": [],
   "source": [
    "# Import libraries\n",
    "\n",
    "#Data analysis libraries\n",
    "import numpy as np \n",
    "import pandas as pd \n",
    "\n",
    "#Visulization and statistics libraries\n",
    "import matplotlib.pyplot as plt\n",
    "from matplotlib.pyplot import style\n",
    "from scipy import fftpack\n",
    "import seaborn as sns\n",
    "style.use('seaborn')\n",
    "\n",
    "# Model preprocessing libraries\n",
    "from sklearn.model_selection import train_test_split\n",
    "from sklearn.model_selection import GridSearchCV\n",
    "from sklearn.model_selection import cross_val_score\n",
    "from sklearn.metrics import confusion_matrix\n",
    "from sklearn.metrics import accuracy_score, classification_report\n",
    "\n",
    "# Medel related libraries\n",
    "import statsmodels.api as sm\n",
    "from sklearn.linear_model import LinearRegression\n",
    "from sklearn.svm import SVC\n",
    "from sklearn.ensemble import RandomForestClassifier\n",
    "from sklearn.neighbors import KNeighborsClassifier"
   ]
  },
  {
   "cell_type": "code",
   "execution_count": 2,
   "metadata": {},
   "outputs": [],
   "source": [
    "# Setting to display all columns\n",
    "pd.set_option(\"Display.max_columns\", None)"
   ]
  },
  {
   "cell_type": "code",
   "execution_count": 3,
   "metadata": {},
   "outputs": [],
   "source": [
    "#To load the data \n",
    "target_set = pd.read_csv(\"assets/bearing_classes.csv\", sep=\";\", skipinitialspace=True)\n",
    "origin_set = pd.read_csv(\"assets/bearing_signals.csv\", skipinitialspace=True)"
   ]
  },
  {
   "cell_type": "markdown",
   "metadata": {},
   "source": [
    "### Feature engineering"
   ]
  },
  {
   "cell_type": "code",
   "execution_count": 4,
   "metadata": {},
   "outputs": [],
   "source": [
    "# To rename the column name using function\n",
    "\"\"\"This function takes dataframe & prefix of the columns.\n",
    "   It needs name of columns from the dataframe and add prefix before the each name of the columns.\n",
    "   It returns dataframe with new column names.\"\"\"\n",
    "def rename_column(df,prefix):\n",
    "    column_name = list(df.columns)\n",
    "    column_name = [prefix + name for name in column_name]\n",
    "    return df.set_axis(column_name, axis=1)"
   ]
  },
  {
   "cell_type": "code",
   "execution_count": 5,
   "metadata": {},
   "outputs": [],
   "source": [
    "# To drop some columns from the dataframe\n",
    "df_train = origin_set.drop(['experiment_id','bearing_1_id', 'timestamp'], axis=1)"
   ]
  },
  {
   "cell_type": "code",
   "execution_count": 6,
   "metadata": {},
   "outputs": [
    {
     "data": {
      "text/plain": [
       "Index(['bearing_2_id', 'a1_x', 'a1_y', 'a1_z', 'a2_x', 'a2_y', 'a2_z', 'rpm',\n",
       "       'hz', 'w'],\n",
       "      dtype='object')"
      ]
     },
     "execution_count": 6,
     "metadata": {},
     "output_type": "execute_result"
    }
   ],
   "source": [
    "# To see the column name of the dataframe\n",
    "df_train.columns"
   ]
  },
  {
   "cell_type": "code",
   "execution_count": 7,
   "metadata": {},
   "outputs": [],
   "source": [
    "# To find maximun, minimum, mean, standerd deviation, median, range, kurtosis and skewness\n",
    "# of the data and apply function for rename the column names for each features\n",
    "max_set = df_train.groupby(['bearing_2_id']).max()\n",
    "max_set = rename_column(max_set,\"max_\")\n",
    "min_set = df_train.groupby(['bearing_2_id']).min()\n",
    "min_set = rename_column(min_set,\"min_\")\n",
    "mean_set = df_train.groupby(['bearing_2_id']).mean()\n",
    "mean_set = rename_column(mean_set,\"mean_\")\n",
    "std_set = df_train.groupby(['bearing_2_id']).std()\n",
    "std_set = rename_column(std_set,\"std_\")\n",
    "median_set = df_train.groupby(['bearing_2_id']).median()\n",
    "median_set = rename_column(median_set,\"median_\")\n",
    "range_set = df_train.groupby(['bearing_2_id']).max() - df_train.groupby(['bearing_2_id']).min()\n",
    "range_set = rename_column(range_set,\"range_\")\n",
    "kurtosis_set = df_train.groupby(['bearing_2_id']).apply(pd.DataFrame.kurtosis)\n",
    "kurtosis_set = rename_column(kurtosis_set, 'kurtosis_')\n",
    "skew_set = df_train.groupby(['bearing_2_id']).skew()\n",
    "skew_set = rename_column(skew_set, 'skew_')"
   ]
  },
  {
   "cell_type": "code",
   "execution_count": 8,
   "metadata": {},
   "outputs": [],
   "source": [
    "# To make dataframe of individual features and make list of new dataframe and list of new column names\n",
    "df_bearing_1_x = df_train.drop(['a2_x','a2_y','a2_z','a1_y','a1_z'], axis = 1)\n",
    "df_bearing_1_y = df_train.drop(['a2_x','a2_y','a2_z','a1_x','a1_z'], axis = 1)\n",
    "df_bearing_1_z = df_train.drop(['a2_x','a2_y','a2_z','a1_x','a1_y'], axis = 1)\n",
    "df_bearing_2_x = df_train.drop(['a1_x','a1_y','a1_z','a2_y','a2_z'], axis = 1)\n",
    "df_bearing_2_y = df_train.drop(['a1_x','a1_y','a1_z','a2_x','a2_z'], axis = 1)\n",
    "df_bearing_2_z = df_train.drop(['a1_x','a1_y','a1_z','a2_x','a2_y'], axis = 1)\n",
    "bearing_feature = [df_bearing_1_x,df_bearing_1_y,df_bearing_1_z,df_bearing_2_x,df_bearing_2_y,df_bearing_2_z]\n",
    "list_column = ['fft_a1_x','fft_a1_y','fft_a1_z','fft_a2_x','fft_a2_y','fft_a2_z']"
   ]
  },
  {
   "cell_type": "code",
   "execution_count": 9,
   "metadata": {},
   "outputs": [],
   "source": [
    "# To find a frequency with the function\n",
    "\"\"\"This function takes dataframe and number of bearing id.\n",
    "   First create an empty list and apply a for loop with range of length of dataframe.\n",
    "   Make a group as per bearing_2_id of dataframe.\n",
    "   Find the frequency using the fftpack module of scipy library.\n",
    "   Convert this frequency into absulate amplitude values.\n",
    "   Function returns a list of all amplitude values of the freatures.\"\"\"\n",
    "def by_axis_bearing(bearing_feature, i):\n",
    "    max_list = []\n",
    "    for index in range(len(bearing_feature)):\n",
    "        bearing_idx = bearing_feature[index]\n",
    "        df_bearing = bearing_idx[bearing_idx['bearing_2_id'] == i]\n",
    "        fft_values = fftpack.fft(df_bearing)\n",
    "        max_amplitude = np.argmax(np.abs(fft_values))\n",
    "        max_list.append(max_amplitude)\n",
    "    return max_list"
   ]
  },
  {
   "cell_type": "code",
   "execution_count": 10,
   "metadata": {},
   "outputs": [],
   "source": [
    "# To find the maximum frequency of each accelerations of bearings and make a dataframe\n",
    "number_bearing = df_train['bearing_2_id'].max()\n",
    "\n",
    "max_list = by_axis_bearing(bearing_feature, 1)\n",
    "new_set = pd.DataFrame([max_list], columns=list_column,index=[1])\n",
    "\n",
    "for i in range(2,number_bearing+1):\n",
    "    max_list = by_axis_bearing(bearing_feature,i)\n",
    "    temp_set = pd.DataFrame([max_list],columns=list_column,index=[i])\n",
    "    new_set = new_set.append(temp_set)"
   ]
  },
  {
   "cell_type": "code",
   "execution_count": 11,
   "metadata": {},
   "outputs": [],
   "source": [
    "# To concate a dataframe of all new features and change the index of target variables \n",
    "df = pd.concat([max_set, min_set, mean_set, std_set, median_set, range_set, kurtosis_set, skew_set, new_set], axis=1)\n",
    "df['target']= target_set.iloc[1:,1]"
   ]
  },
  {
   "cell_type": "code",
   "execution_count": 12,
   "metadata": {},
   "outputs": [
    {
     "data": {
      "text/plain": [
       "Index(['max_a1_x', 'max_a1_y', 'max_a1_z', 'max_a2_x', 'max_a2_y', 'max_a2_z',\n",
       "       'max_rpm', 'max_hz', 'max_w', 'min_a1_x', 'min_a1_y', 'min_a1_z',\n",
       "       'min_a2_x', 'min_a2_y', 'min_a2_z', 'min_rpm', 'min_hz', 'min_w',\n",
       "       'mean_a1_x', 'mean_a1_y', 'mean_a1_z', 'mean_a2_x', 'mean_a2_y',\n",
       "       'mean_a2_z', 'mean_rpm', 'mean_hz', 'mean_w', 'std_a1_x', 'std_a1_y',\n",
       "       'std_a1_z', 'std_a2_x', 'std_a2_y', 'std_a2_z', 'std_rpm', 'std_hz',\n",
       "       'std_w', 'median_a1_x', 'median_a1_y', 'median_a1_z', 'median_a2_x',\n",
       "       'median_a2_y', 'median_a2_z', 'median_rpm', 'median_hz', 'median_w',\n",
       "       'range_a1_x', 'range_a1_y', 'range_a1_z', 'range_a2_x', 'range_a2_y',\n",
       "       'range_a2_z', 'range_rpm', 'range_hz', 'range_w',\n",
       "       'kurtosis_bearing_2_id', 'kurtosis_a1_x', 'kurtosis_a1_y',\n",
       "       'kurtosis_a1_z', 'kurtosis_a2_x', 'kurtosis_a2_y', 'kurtosis_a2_z',\n",
       "       'kurtosis_rpm', 'kurtosis_hz', 'kurtosis_w', 'skew_a1_x', 'skew_a1_y',\n",
       "       'skew_a1_z', 'skew_a2_x', 'skew_a2_y', 'skew_a2_z', 'skew_rpm',\n",
       "       'skew_hz', 'skew_w', 'fft_a1_x', 'fft_a1_y', 'fft_a1_z', 'fft_a2_x',\n",
       "       'fft_a2_y', 'fft_a2_z', 'target'],\n",
       "      dtype='object')"
      ]
     },
     "execution_count": 12,
     "metadata": {},
     "output_type": "execute_result"
    }
   ],
   "source": [
    "# To see the column names of the new dataframe with all new features\n",
    "df.columns"
   ]
  },
  {
   "cell_type": "code",
   "execution_count": 13,
   "metadata": {},
   "outputs": [],
   "source": [
    "# # To drop some features from the dataframe\n",
    "# df1 = df.drop(['min_rpm', 'max_hz', 'max_w', 'min_a1_x', 'min_a2_z',\n",
    "#                'min_hz', 'min_w', 'mean_hz','std_w', 'median_a2_x',\n",
    "#                'std_rpm','median_rpm', 'range_rpm', 'range_hz',\n",
    "#                'range_w', 'kurtosis_bearing_2_id', 'kurtosis_a2_y',\n",
    "#                'skew_rpm', 'skew_hz', 'skew_w'], axis=1)"
   ]
  },
  {
   "cell_type": "code",
   "execution_count": 14,
   "metadata": {},
   "outputs": [],
   "source": [
    "# To identify dependent variable(y) and independent variables(X)\n",
    "X = df.drop(['kurtosis_bearing_2_id', 'target'], axis=1)\n",
    "y = df['target']"
   ]
  },
  {
   "cell_type": "code",
   "execution_count": 15,
   "metadata": {},
   "outputs": [],
   "source": [
    "# To split the dataframe into train set and test set\n",
    "X_train, X_test, y_train, y_test = train_test_split(X, y, test_size=0.2, random_state=41)"
   ]
  },
  {
   "cell_type": "code",
   "execution_count": 16,
   "metadata": {},
   "outputs": [
    {
     "name": "stdout",
     "output_type": "stream",
     "text": [
      "                            OLS Regression Results                            \n",
      "==============================================================================\n",
      "Dep. Variable:                 target   R-squared:                       0.866\n",
      "Model:                            OLS   Adj. R-squared:                  0.708\n",
      "Method:                 Least Squares   F-statistic:                     5.481\n",
      "Date:                Tue, 03 Aug 2021   Prob (F-statistic):           2.61e-09\n",
      "Time:                        11:21:50   Log-Likelihood:                 84.950\n",
      "No. Observations:                 112   AIC:                            -47.90\n",
      "Df Residuals:                      51   BIC:                             117.9\n",
      "Df Model:                          60                                         \n",
      "Covariance Type:            nonrobust                                         \n",
      "=================================================================================\n",
      "                    coef    std err          t      P>|t|      [0.025      0.975]\n",
      "---------------------------------------------------------------------------------\n",
      "max_a1_x          0.0043      0.040      0.105      0.917      -0.077       0.086\n",
      "max_a1_y         -0.0526      0.031     -1.676      0.100      -0.116       0.010\n",
      "max_a1_z         -0.0053      0.031     -0.174      0.863      -0.067       0.056\n",
      "max_a2_x          0.0043      0.020      0.213      0.832      -0.036       0.045\n",
      "max_a2_y         -0.0234      0.021     -1.133      0.263      -0.065       0.018\n",
      "max_a2_z         -0.0107      0.017     -0.631      0.531      -0.045       0.023\n",
      "max_rpm        2.185e-05    1.4e-05      1.560      0.125   -6.27e-06       5e-05\n",
      "max_hz         3.609e-07   4.44e-07      0.813      0.420    -5.3e-07    1.25e-06\n",
      "max_w            -0.0405      0.053     -0.758      0.452      -0.148       0.067\n",
      "min_a1_x          0.0235      0.042      0.554      0.582      -0.062       0.109\n",
      "min_a1_y         -0.0509      0.035     -1.453      0.152      -0.121       0.019\n",
      "min_a1_z          0.0110      0.032      0.348      0.729      -0.052       0.074\n",
      "min_a2_x          0.0093      0.021      0.432      0.667      -0.034       0.052\n",
      "min_a2_y         -0.0170      0.021     -0.829      0.411      -0.058       0.024\n",
      "min_a2_z         -0.0086      0.017     -0.513      0.610      -0.042       0.025\n",
      "min_rpm       -7.409e-06   2.14e-05     -0.346      0.731   -5.04e-05    3.56e-05\n",
      "min_hz        -1.236e-08    4.8e-07     -0.026      0.980   -9.75e-07     9.5e-07\n",
      "min_w         -1.173e-06   1.31e-06     -0.892      0.376   -3.81e-06    1.47e-06\n",
      "mean_a1_x         2.3412      1.238      1.891      0.064      -0.144       4.827\n",
      "mean_a1_y         0.8501      1.185      0.717      0.476      -1.529       3.229\n",
      "mean_a1_z        -1.3370      0.634     -2.110      0.040      -2.609      -0.065\n",
      "mean_a2_x         0.3795      0.603      0.630      0.532      -0.830       1.589\n",
      "mean_a2_y         0.4925      0.573      0.859      0.394      -0.659       1.644\n",
      "mean_a2_z         0.0293      0.348      0.084      0.933      -0.670       0.728\n",
      "mean_rpm         -0.0012      0.001     -0.979      0.332      -0.004       0.001\n",
      "mean_hz       -2.001e-05   2.04e-05     -0.979      0.332   -6.11e-05     2.1e-05\n",
      "mean_w            1.2774      1.890      0.676      0.502      -2.518       5.072\n",
      "std_a1_x          0.8446      0.331      2.552      0.014       0.180       1.509\n",
      "std_a1_y          0.0685      0.348      0.197      0.845      -0.631       0.768\n",
      "std_a1_z          0.4888      0.279      1.751      0.086      -0.072       1.049\n",
      "std_a2_x         -0.2493      0.161     -1.546      0.128      -0.573       0.074\n",
      "std_a2_y          0.1330      0.176      0.756      0.453      -0.220       0.486\n",
      "std_a2_z         -0.0347      0.078     -0.447      0.656      -0.191       0.121\n",
      "std_rpm          -0.0006      0.000     -1.161      0.251      -0.002       0.000\n",
      "std_hz        -9.362e-06   8.06e-06     -1.162      0.251   -2.55e-05    6.82e-06\n",
      "std_w             0.1985      1.518      0.131      0.896      -2.849       3.246\n",
      "median_a1_x      -0.8242      0.917     -0.899      0.373      -2.665       1.016\n",
      "median_a1_y      -0.2287      0.820     -0.279      0.782      -1.876       1.418\n",
      "median_a1_z       1.9940      0.647      3.083      0.003       0.695       3.293\n",
      "median_a2_x      -0.3332      0.576     -0.579      0.565      -1.489       0.822\n",
      "median_a2_y      -0.5919      0.481     -1.231      0.224      -1.558       0.374\n",
      "median_a2_z      -0.4865      0.503     -0.967      0.338      -1.497       0.524\n",
      "median_rpm        0.0009      0.001      1.167      0.248      -0.001       0.002\n",
      "median_hz      1.423e-05   1.22e-05      1.167      0.248   -1.02e-05    3.87e-05\n",
      "median_w         -1.1753      0.805     -1.460      0.150      -2.791       0.441\n",
      "range_a1_x       -0.0192      0.019     -1.015      0.315      -0.057       0.019\n",
      "range_a1_y       -0.0017      0.017     -0.100      0.921      -0.036       0.033\n",
      "range_a1_z       -0.0163      0.019     -0.842      0.404      -0.055       0.023\n",
      "range_a2_x       -0.0049      0.011     -0.465      0.644      -0.026       0.016\n",
      "range_a2_y       -0.0064      0.013     -0.491      0.626      -0.033       0.020\n",
      "range_a2_z       -0.0021      0.005     -0.432      0.667      -0.012       0.008\n",
      "range_rpm      2.677e-05   2.41e-05      1.113      0.271   -2.15e-05    7.51e-05\n",
      "range_hz       4.474e-07   3.92e-07      1.140      0.260   -3.41e-07    1.24e-06\n",
      "range_w          -0.0405      0.053     -0.758      0.452      -0.148       0.067\n",
      "kurtosis_a1_x    -0.1089      0.111     -0.978      0.333      -0.332       0.115\n",
      "kurtosis_a1_y     0.0058      0.056      0.103      0.919      -0.107       0.118\n",
      "kurtosis_a1_z     0.2648      0.105      2.521      0.015       0.054       0.476\n",
      "kurtosis_a2_x     0.1506      0.073      2.068      0.044       0.004       0.297\n",
      "kurtosis_a2_y     0.0191      0.078      0.247      0.806      -0.137       0.175\n",
      "kurtosis_a2_z    -0.0073      0.035     -0.209      0.836      -0.077       0.063\n",
      "kurtosis_rpm     -0.0025      0.002     -1.285      0.205      -0.006       0.001\n",
      "kurtosis_hz      -0.0025      0.002     -1.285      0.205      -0.006       0.001\n",
      "kurtosis_w        0.0190      0.029      0.661      0.512      -0.039       0.077\n",
      "skew_a1_x        -0.3979      0.347     -1.146      0.257      -1.095       0.299\n",
      "skew_a1_y         0.2995      0.236      1.269      0.210      -0.174       0.773\n",
      "skew_a1_z        -0.0087      0.250     -0.035      0.972      -0.510       0.493\n",
      "skew_a2_x        -0.1262      0.215     -0.587      0.560      -0.558       0.305\n",
      "skew_a2_y        -0.1406      0.207     -0.678      0.501      -0.557       0.276\n",
      "skew_a2_z        -0.0835      0.149     -0.562      0.577      -0.382       0.215\n",
      "skew_rpm          0.0236      0.024      0.997      0.323      -0.024       0.071\n",
      "skew_hz           0.0236      0.024      0.997      0.323      -0.024       0.071\n",
      "skew_w           -0.1479      0.224     -0.660      0.512      -0.598       0.302\n",
      "fft_a1_x      -4.075e-07   7.33e-07     -0.556      0.581   -1.88e-06    1.06e-06\n",
      "fft_a1_y       1.289e-06      7e-07      1.842      0.071   -1.16e-07    2.69e-06\n",
      "fft_a1_z       4.926e-07   7.96e-07      0.619      0.539    -1.1e-06    2.09e-06\n",
      "fft_a2_x      -1.134e-07   8.03e-07     -0.141      0.888   -1.73e-06     1.5e-06\n",
      "fft_a2_y      -5.083e-08   8.35e-07     -0.061      0.952   -1.73e-06    1.63e-06\n",
      "fft_a2_z      -6.513e-07   8.22e-07     -0.793      0.432    -2.3e-06    9.99e-07\n",
      "==============================================================================\n",
      "Omnibus:                       15.725   Durbin-Watson:                   1.525\n",
      "Prob(Omnibus):                  0.000   Jarque-Bera (JB):               25.709\n",
      "Skew:                           0.629   Prob(JB):                     2.61e-06\n",
      "Kurtosis:                       4.982   Cond. No.                     2.10e+16\n",
      "==============================================================================\n",
      "\n",
      "Notes:\n",
      "[1] Standard Errors assume that the covariance matrix of the errors is correctly specified.\n",
      "[2] The smallest eigenvalue is 1.63e-13. This might indicate that there are\n",
      "strong multicollinearity problems or that the design matrix is singular.\n"
     ]
    }
   ],
   "source": [
    "# To check the R-squared using Statistical model of OLS regression\n",
    "\n",
    "model = sm.OLS(y, X).fit()\n",
    "predictions = model.predict(X) \n",
    "\n",
    "print_model = model.summary()\n",
    "print(print_model)"
   ]
  },
  {
   "cell_type": "code",
   "execution_count": 31,
   "metadata": {},
   "outputs": [
    {
     "name": "stdout",
     "output_type": "stream",
     "text": [
      "The Cross validation score of Linear regression model :  \n",
      " [-2.31091563e+10  0.00000000e+00  2.38301102e-01  0.00000000e+00\n",
      "  9.14568050e-02]\n",
      "The Mean of Linear regression model :  -4621831261.857222\n",
      "The Standard Deviation of Linear regression model : 9243662523.879322\n"
     ]
    }
   ],
   "source": [
    "# To check the score using Linear regression model\n",
    "lnreg = LinearRegression()\n",
    "lnreg.fit(X_train, y_train)\n",
    "y_pred_lnreg = lnreg.predict(X_test)\n",
    "\n",
    "scores_lnreg = cross_val_score(lnreg, X_train, y_train, cv=5)\n",
    "print(f\"The Cross validation score of Linear regression model : \", '\\n', scores_lnreg)\n",
    "print(f\"The Mean of Linear regression model : \", scores_lnreg.mean())\n",
    "print(f\"The Standard Deviation of Linear regression model :\", scores_lnreg.std())\n",
    "# print(\"Average 5-Fold CV Score: {}\".format(np.mean(scores_lnreg)))"
   ]
  },
  {
   "cell_type": "code",
   "execution_count": 17,
   "metadata": {},
   "outputs": [
    {
     "name": "stdout",
     "output_type": "stream",
     "text": [
      "The accuracy of RandomForest Model is :  91.3%\n",
      "The Cross Validation Report :  \n",
      "               precision    recall  f1-score   support\n",
      "\n",
      "           0       0.90      1.00      0.95        19\n",
      "           1       1.00      0.50      0.67         4\n",
      "\n",
      "    accuracy                           0.91        23\n",
      "   macro avg       0.95      0.75      0.81        23\n",
      "weighted avg       0.92      0.91      0.90        23\n",
      "\n",
      "The confusion matrix :  \n",
      " [[19  0]\n",
      " [ 2  2]]\n"
     ]
    },
    {
     "name": "stderr",
     "output_type": "stream",
     "text": [
      "C:\\Users\\Sadhana\\anaconda3\\lib\\site-packages\\sklearn\\model_selection\\_split.py:666: UserWarning: The least populated class in y has only 8 members, which is less than n_splits=10.\n",
      "  warnings.warn((\"The least populated class in y has only %d\"\n"
     ]
    },
    {
     "name": "stdout",
     "output_type": "stream",
     "text": [
      "The Cross validation score of Random Forest model : \n",
      " [1.         1.         1.         0.88888889 1.         1.\n",
      " 1.         1.         1.         1.        ]\n",
      "The Mean of Random Forest model : 0.9888888888888889\n",
      "The Standard Deviation of Random Forest model : 0.03333333333333335\n"
     ]
    }
   ],
   "source": [
    "# To check the score using Random Forest classification model \n",
    "\n",
    "rf = RandomForestClassifier(n_estimators=100)\n",
    "rf.fit(X_train, y_train)\n",
    "y_pred_random_forest = rf.predict(X_test)\n",
    "accuracy_random_forest = round(accuracy_score(y_test, y_pred_random_forest) * 100, 2)\n",
    "print(f\"The accuracy of RandomForest Model is : \", str(accuracy_random_forest) + '%')\n",
    "print(f\"The Cross Validation Report : \", '\\n', (classification_report(y_test, y_pred_random_forest)))\n",
    "print(f\"The confusion matrix : \", '\\n', confusion_matrix(y_test, y_pred_random_forest))\n",
    "scores_rf = cross_val_score(rf, X_train, y_train, cv=10, scoring = \"accuracy\")\n",
    "print(f\"The Cross validation score of Random Forest model :\", '\\n', scores_rf)\n",
    "print(f\"The Mean of Random Forest model :\", scores_rf.mean())\n",
    "print(f\"The Standard Deviation of Random Forest model :\", scores_rf.std())"
   ]
  },
  {
   "cell_type": "code",
   "execution_count": 18,
   "metadata": {},
   "outputs": [
    {
     "name": "stdout",
     "output_type": "stream",
     "text": [
      "The accuracy of RandomForestC Model is :  91.3%\n",
      "The Cross Validation Rapport :  \n",
      "               precision    recall  f1-score   support\n",
      "\n",
      "           0       0.90      1.00      0.95        19\n",
      "           1       1.00      0.50      0.67         4\n",
      "\n",
      "    accuracy                           0.91        23\n",
      "   macro avg       0.95      0.75      0.81        23\n",
      "weighted avg       0.92      0.91      0.90        23\n",
      "\n",
      "The confusion matrix :  \n",
      " [[19  0]\n",
      " [ 2  2]]\n"
     ]
    },
    {
     "name": "stderr",
     "output_type": "stream",
     "text": [
      "C:\\Users\\Sadhana\\anaconda3\\lib\\site-packages\\sklearn\\model_selection\\_split.py:666: UserWarning: The least populated class in y has only 8 members, which is less than n_splits=10.\n",
      "  warnings.warn((\"The least populated class in y has only %d\"\n"
     ]
    },
    {
     "name": "stdout",
     "output_type": "stream",
     "text": [
      "The Cross validation score of Random Forest model :  \n",
      " [1.         1.         1.         0.88888889 1.         1.\n",
      " 0.88888889 1.         1.         1.        ]\n",
      "The Mean of Random Forest model :  0.9777777777777779\n",
      "The Standard Deviation of Random Forest model :  0.04444444444444447\n"
     ]
    }
   ],
   "source": [
    "# To check the score using Random Forest classification model using GridSearchCV\n",
    "param_grid = {\n",
    "    'n_estimators':[200,150,100,50],\n",
    "    'criterion':['gini','entropy'],\n",
    "    'max_depth':[2,4,6,8]\n",
    "    }\n",
    "\n",
    "Model_rf = RandomForestClassifier(random_state=41)\n",
    "grid = GridSearchCV(estimator=Model_rf, param_grid=param_grid, cv=5, n_jobs=None)\n",
    "grid.fit(X_train, y_train)\n",
    "Model_rf = grid.best_estimator_\n",
    "y_pred_train = Model_rf.predict(X_test)\n",
    "training_data_accuracy_rf = round(accuracy_score(y_test, y_pred_train) * 100, 2)\n",
    "print(f\"The accuracy of RandomForestC Model is : \", str(training_data_accuracy_rf) + '%')\n",
    "print(f\"The Cross Validation Rapport : \",'\\n', (classification_report(y_test, y_pred_train)))\n",
    "print(f\"The confusion matrix : \", '\\n', confusion_matrix(y_test, y_pred_train))\n",
    "scores_grid_rf = cross_val_score(Model_rf, X_train, y_train, cv=10, scoring = \"accuracy\")\n",
    "print(f\"The Cross validation score of Random Forest model : \", '\\n', scores_grid_rf)\n",
    "print(f\"The Mean of Random Forest model : \", scores_grid_rf.mean())\n",
    "print(f\"The Standard Deviation of Random Forest model : \", scores_grid_rf.std())"
   ]
  },
  {
   "cell_type": "code",
   "execution_count": 19,
   "metadata": {},
   "outputs": [
    {
     "name": "stdout",
     "output_type": "stream",
     "text": [
      "The accuracy of RandomForestC Model with entropy is :  91.3%\n",
      "The accuracy of train set using RandomForestC Model with entropy is :  100.0%\n"
     ]
    },
    {
     "name": "stderr",
     "output_type": "stream",
     "text": [
      "C:\\Users\\Sadhana\\anaconda3\\lib\\site-packages\\sklearn\\model_selection\\_split.py:666: UserWarning: The least populated class in y has only 8 members, which is less than n_splits=10.\n",
      "  warnings.warn((\"The least populated class in y has only %d\"\n"
     ]
    },
    {
     "name": "stdout",
     "output_type": "stream",
     "text": [
      "The Cross validation score of Random Forest model with entropy :  \n",
      " [1.         1.         1.         0.88888889 1.         1.\n",
      " 0.88888889 1.         1.         1.        ]\n",
      "The Mean of Random Forest model with  entropy :  0.9777777777777779\n",
      "The Standard Deviation of Random Forest model with  entropy :  0.04444444444444447\n",
      "Variation :  0.001975308641975311\n"
     ]
    }
   ],
   "source": [
    "# To check the score using Random Forest classification model using hyperperameter: entropy and max_depth = 6\n",
    "rf_entropy = RandomForestClassifier(criterion='entropy', max_depth=6)\n",
    "rf_entropy.fit(X_train, y_train)\n",
    "y_pred_rf_entropy = rf_entropy.predict(X_test)\n",
    "accuracy_score_entropy = round(accuracy_score(y_test, y_pred_rf_entropy) * 100, 2)\n",
    "print(f\"The accuracy of RandomForestC Model with entropy is : \", str(accuracy_score_entropy) + '%')\n",
    "y_train_pred_entropy = rf_entropy.predict(X_train)\n",
    "accuracy_score_train_entropy = round(accuracy_score(y_train, y_train_pred_entropy) * 100, 2)\n",
    "print(f\"The accuracy of train set using RandomForestC Model with entropy is : \", str(accuracy_score_train_entropy) + '%')\n",
    "scores_rf_entropy = cross_val_score(rf_entropy, X_train, y_train, cv=10, scoring = \"accuracy\")\n",
    "print(f\"The Cross validation score of Random Forest model with entropy : \", '\\n', scores_rf_entropy)\n",
    "print(f\"The Mean of Random Forest model with  entropy : \", scores_rf_entropy.mean())\n",
    "print(f\"The Standard Deviation of Random Forest model with  entropy : \", scores_rf_entropy.std())\n",
    "print(f\"Variation : \", scores_rf_entropy.var())"
   ]
  },
  {
   "cell_type": "code",
   "execution_count": 20,
   "metadata": {},
   "outputs": [
    {
     "data": {
      "text/plain": [
       "<AxesSubplot:xlabel='feature'>"
      ]
     },
     "execution_count": 20,
     "metadata": {},
     "output_type": "execute_result"
    },
    {
     "data": {
      "image/png": "[encoded data removed]",
      "text/plain": [
       "<Figure size 1080x432 with 1 Axes>"
      ]
     },
     "metadata": {},
     "output_type": "display_data"
    }
   ],
   "source": [
    "# To check the importance of all feature of Random Forest calssification model\n",
    "importances = pd.DataFrame({'feature': X_train.columns, 'importance': np.round(rf.feature_importances_, 3)})\n",
    "importances1 = importances.sort_values('importance', ascending=False).set_index('feature')\n",
    "importances1.plot(kind='bar', figsize=(15,6))"
   ]
  },
  {
   "cell_type": "code",
   "execution_count": 21,
   "metadata": {},
   "outputs": [
    {
     "name": "stdout",
     "output_type": "stream",
     "text": [
      "The accuracy of SVC Model is :  82.61%\n",
      "The Cross Validation Report :  \n",
      "               precision    recall  f1-score   support\n",
      "\n",
      "           0       0.83      1.00      0.90        19\n",
      "           1       0.00      0.00      0.00         4\n",
      "\n",
      "    accuracy                           0.83        23\n",
      "   macro avg       0.41      0.50      0.45        23\n",
      "weighted avg       0.68      0.83      0.75        23\n",
      "\n",
      "The confusion matrix :  \n",
      " [[19  0]\n",
      " [ 4  0]]\n"
     ]
    },
    {
     "name": "stderr",
     "output_type": "stream",
     "text": [
      "C:\\Users\\Sadhana\\anaconda3\\lib\\site-packages\\sklearn\\metrics\\_classification.py:1245: UndefinedMetricWarning: Precision and F-score are ill-defined and being set to 0.0 in labels with no predicted samples. Use `zero_division` parameter to control this behavior.\n",
      "  _warn_prf(average, modifier, msg_start, len(result))\n",
      "C:\\Users\\Sadhana\\anaconda3\\lib\\site-packages\\sklearn\\metrics\\_classification.py:1245: UndefinedMetricWarning: Precision and F-score are ill-defined and being set to 0.0 in labels with no predicted samples. Use `zero_division` parameter to control this behavior.\n",
      "  _warn_prf(average, modifier, msg_start, len(result))\n",
      "C:\\Users\\Sadhana\\anaconda3\\lib\\site-packages\\sklearn\\metrics\\_classification.py:1245: UndefinedMetricWarning: Precision and F-score are ill-defined and being set to 0.0 in labels with no predicted samples. Use `zero_division` parameter to control this behavior.\n",
      "  _warn_prf(average, modifier, msg_start, len(result))\n",
      "C:\\Users\\Sadhana\\anaconda3\\lib\\site-packages\\sklearn\\model_selection\\_split.py:666: UserWarning: The least populated class in y has only 8 members, which is less than n_splits=10.\n",
      "  warnings.warn((\"The least populated class in y has only %d\"\n"
     ]
    },
    {
     "name": "stdout",
     "output_type": "stream",
     "text": [
      "The Cross validation score of SVC Model :  \n",
      " [1.         0.88888889 0.88888889 0.88888889 0.88888889 0.88888889\n",
      " 0.88888889 0.88888889 0.88888889 1.        ]\n",
      "The Mean of SVC Model :  0.9111111111111111\n",
      "The Standard Deviation of SVC Model :  0.04444444444444447\n"
     ]
    }
   ],
   "source": [
    "# To check the score using Support Vector classification model \n",
    "\n",
    "svc = SVC(probability=True)\n",
    "svc.fit(X_train, y_train)\n",
    "y_pred_svc = svc.predict(X_test)\n",
    "accuracy_svc = round(accuracy_score(y_test, y_pred_svc) * 100, 2)\n",
    "print(f\"The accuracy of SVC Model is : \", str(accuracy_svc) + '%')\n",
    "print(f\"The Cross Validation Report : \", '\\n', (classification_report(y_test, y_pred_svc)))\n",
    "print(f\"The confusion matrix : \", '\\n', confusion_matrix(y_test, y_pred_svc))\n",
    "scores_svc = cross_val_score(svc, X_train, y_train, cv=10, scoring = \"accuracy\")\n",
    "print(f\"The Cross validation score of SVC Model : \", '\\n', scores_svc)\n",
    "print(f\"The Mean of SVC Model : \", scores_svc.mean())\n",
    "print(f\"The Standard Deviation of SVC Model : \", scores_svc.std())"
   ]
  },
  {
   "cell_type": "code",
   "execution_count": 22,
   "metadata": {},
   "outputs": [
    {
     "name": "stdout",
     "output_type": "stream",
     "text": [
      "The accuracy of KNN Model is :  78.26%\n",
      "The Cross Validation Report :  \n",
      "               precision    recall  f1-score   support\n",
      "\n",
      "           0       0.82      0.95      0.88        19\n",
      "           1       0.00      0.00      0.00         4\n",
      "\n",
      "    accuracy                           0.78        23\n",
      "   macro avg       0.41      0.47      0.44        23\n",
      "weighted avg       0.68      0.78      0.73        23\n",
      "\n",
      "The confusion matrix :  \n",
      " [[18  1]\n",
      " [ 4  0]]\n",
      "The Cross validation score of KNN Model : \n",
      " [1.         0.77777778 0.88888889 0.77777778 0.77777778 0.77777778\n",
      " 0.88888889 0.88888889 0.77777778 1.        ]\n",
      "The Mean of KNN Model : 0.8555555555555554\n",
      "The Standard Deviation of KNN Model : 0.08678055195451836\n"
     ]
    },
    {
     "name": "stderr",
     "output_type": "stream",
     "text": [
      "C:\\Users\\Sadhana\\anaconda3\\lib\\site-packages\\sklearn\\model_selection\\_split.py:666: UserWarning: The least populated class in y has only 8 members, which is less than n_splits=10.\n",
      "  warnings.warn((\"The least populated class in y has only %d\"\n"
     ]
    }
   ],
   "source": [
    "# To check the score using KNN classification model \n",
    "\n",
    "knn = KNeighborsClassifier(n_neighbors = 3)\n",
    "knn.fit(X_train, y_train)\n",
    "y_pred_knn = knn.predict(X_test)\n",
    "accuracy_knn = round(accuracy_score(y_test, y_pred_knn) * 100, 2)\n",
    "print(f'The accuracy of KNN Model is : ', str(accuracy_knn) + '%')\n",
    "print('The Cross Validation Report : ','\\n', (classification_report(y_test, y_pred_knn)))\n",
    "print(f\"The confusion matrix : \", '\\n', confusion_matrix(y_test, y_pred_knn))\n",
    "scores_knn = cross_val_score(knn, X_train, y_train, cv=10, scoring = \"accuracy\")\n",
    "print(f\"The Cross validation score of KNN Model :\", '\\n', scores_knn)\n",
    "print(f\"The Mean of KNN Model :\", scores_knn.mean())\n",
    "print(f\"The Standard Deviation of KNN Model :\", scores_knn.std())"
   ]
  },
  {
   "cell_type": "code",
   "execution_count": null,
   "metadata": {},
   "outputs": [],
   "source": []
  }
 ],
 "metadata": {
  "interpreter": {
   "hash": "8ffd7a4c42191d59290039569e757589144775bad5fcd260e64ce4fd5ea8b81c"
  },
  "kernelspec": {
   "display_name": "Python 3",
   "language": "python",
   "name": "python3"
  },
  "language_info": {
   "codemirror_mode": {
    "name": "ipython",
    "version": 3
   },
   "file_extension": ".py",
   "mimetype": "text/x-python",
   "name": "python",
   "nbconvert_exporter": "python",
   "pygments_lexer": "ipython3",
   "version": "3.8.8"
  }
 },
 "nbformat": 4,
 "nbformat_minor": 2
}
